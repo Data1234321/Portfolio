{
 "cells": [
  {
   "cell_type": "markdown",
   "id": "9d7722ad",
   "metadata": {},
   "source": [
    "<h1><img align=\"right\" src=\"https://cdn.britannica.com/79/4479-050-6EF87027/flag-Stars-and-Stripes-May-1-1795.jpg\" alt=\"US Flag\" width=\"250\">   United States gun violence data </h1>\n",
    "<h2> Data from: Jan 2013 to Mar 2018 </h2>\n"
   ]
  },
  {
   "cell_type": "markdown",
   "id": "2dd6e5f6",
   "metadata": {},
   "source": [
    "Data obtained from the [Gun Violence Data](https://www.kaggle.com/datasets/jameslko/gun-violence-data) set on Kaggle."
   ]
  },
  {
   "cell_type": "markdown",
   "id": "cb000e55",
   "metadata": {},
   "source": [
    "***"
   ]
  },
  {
   "cell_type": "markdown",
   "id": "5c20954f",
   "metadata": {},
   "source": [
    "## Importing packages"
   ]
  },
  {
   "cell_type": "code",
   "execution_count": null,
   "id": "8c2a30cb",
   "metadata": {},
   "outputs": [],
   "source": [
    "import pandas as pd\n",
    "from pandas import DataFrame\n",
    "import numpy as np\n",
    "import seaborn as sns\n",
    "%matplotlib inline\n",
    "import matplotlib.pyplot as plt\n",
    "import plotly.express as px"
   ]
  },
  {
   "cell_type": "code",
   "execution_count": null,
   "id": "214a7335",
   "metadata": {},
   "outputs": [],
   "source": [
    "# Importing gun violence data set\n",
    "\n",
    "gun_violence = pd.read_csv('/home/tmbillington/Portfolio/Data/gun-violence-data_01-2013_03-2018.csv')"
   ]
  },
  {
   "cell_type": "markdown",
   "id": "ad647f38",
   "metadata": {},
   "source": [
    "## Cleaning the data set"
   ]
  },
  {
   "cell_type": "code",
   "execution_count": null,
   "id": "a9118f40",
   "metadata": {},
   "outputs": [],
   "source": [
    "#Removing unnecessary columns\n",
    "gun_violence_cleaned = gun_violence.drop(['state_senate_district', \n",
    "                                         'state_house_district', \n",
    "                                         'source_url','participant_name',\n",
    "                                         'incident_url',\n",
    "                                         'congressional_district',\n",
    "                                         'location_description',\n",
    "                                         'incident_url_fields_missing',\n",
    "                                         'sources',\n",
    "                                         'participant_status',\n",
    "                                         'gun_stolen',\n",
    "                                         'participant_type',\n",
    "                                         'participant_age_group',\n",
    "                                         'participant_age',\n",
    "                                         'participant_gender',\n",
    "                                         'participant_relationship'],\n",
    "                                         axis=1).set_index('incident_id').copy()"
   ]
  },
  {
   "cell_type": "code",
   "execution_count": null,
   "id": "c5dbf98c",
   "metadata": {},
   "outputs": [],
   "source": [
    "# Replacing any values with 'unknown' in the cell with NaN\n",
    "gun_violence_cleaned['gun_type'] = gun_violence_cleaned['gun_type'].mask(gun_violence_cleaned['gun_type'].str.contains('Unknown', na=False), np.nan)\n",
    "gun_violence_cleaned['date'] = pd.to_datetime(gun_violence_cleaned['date']) #YYYY-MM-DD\n",
    "\n",
    "gun_df = gun_violence_cleaned[(gun_violence_cleaned['n_injured'] != 0) | (gun_violence_cleaned['n_killed'] != 0)].copy() #Removing all rows where both fields are 0"
   ]
  },
  {
   "cell_type": "markdown",
   "id": "647285a7",
   "metadata": {},
   "source": [
    "***"
   ]
  },
  {
   "cell_type": "markdown",
   "id": "b7cf39e9",
   "metadata": {},
   "source": [
    "# Analysis Objectives"
   ]
  },
  {
   "cell_type": "markdown",
   "id": "6a966fe2",
   "metadata": {},
   "source": [
    "> - Where are incidents where people are either <u>**killed**</u> or <u>**injured**</u> occuring?\n",
    "> - Find the <u>**most dangerous state**</u> for gun crime\n",
    "> - Find the <u>**city or county**</u> with <u>**most gun crime**</u> in California"
   ]
  },
  {
   "cell_type": "markdown",
   "id": "3e329906",
   "metadata": {},
   "source": [
    "***"
   ]
  },
  {
   "cell_type": "markdown",
   "id": "0a49a212",
   "metadata": {},
   "source": [
    "## Where are the shootings happening?"
   ]
  },
  {
   "cell_type": "code",
   "execution_count": null,
   "id": "e266a09f",
   "metadata": {},
   "outputs": [],
   "source": [
    "gun_map = px.scatter_mapbox(gun_df, \n",
    "                        lat=\"latitude\", \n",
    "                        lon=\"longitude\", \n",
    "                        hover_name=\"city_or_county\", \n",
    "                        hover_data=[\"state\", \"city_or_county\"],\n",
    "                        color_discrete_sequence=[\"red\"],\n",
    "                        size='n_killed',\n",
    "                        zoom=2.5, \n",
    "                        height=600,\n",
    "                        width=600)\n",
    "\n",
    "gun_map.update_layout(mapbox_style=\"open-street-map\")\n",
    "gun_map.update_layout(margin={\"r\":0,\"t\":0,\"l\":0,\"b\":0})\n",
    "gun_map.show()"
   ]
  },
  {
   "cell_type": "markdown",
   "id": "512d50d0",
   "metadata": {},
   "source": [
    "***"
   ]
  },
  {
   "cell_type": "markdown",
   "id": "0173a9cd",
   "metadata": {},
   "source": [
    "## Frequency of people <u>*killed*</u> by guns in each state"
   ]
  },
  {
   "cell_type": "code",
   "execution_count": null,
   "id": "0514d3da",
   "metadata": {},
   "outputs": [],
   "source": [
    "killed_sorted = gun_df.sort_values(by='n_killed', ascending=False)\n",
    "\n",
    "plt.figure(figsize=(13,11))\n",
    "\n",
    "sns.histplot(killed_sorted, \n",
    "             y=\"state\", \n",
    "             x=\"n_killed\", \n",
    "             alpha=1, \n",
    "             cmap='flare', \n",
    "             legend=True, \n",
    "             binwidth=1, \n",
    "             cbar=True,\n",
    "             vmax=5000,\n",
    "             cbar_kws={'shrink': 0.3,'label':'Frequency of incidents', 'ticks': [1,1000,2000,3000,4000,5000]})\n",
    "\n",
    "plt.tick_params(axis='x', top=True, labeltop=True, labelbottom=False, color='white', width=0.5, labelcolor='#444444')\n",
    "plt.title('Gun deaths in the US : 2013-2018', pad=20, size=14, fontweight='heavy')\n",
    "plt.xlabel('Number of people killed', labelpad=-660, size=12, fontweight='heavy')\n",
    "plt.ylabel('US State', size=12, fontweight='heavy')\n",
    "plt.grid('major', color='grey', linewidth='0.5', alpha=0.3, drawstyle='default')\n",
    "plt.xticks([1,3,5,10,15,20,25,30,35,40,45,50,55,60])\n",
    "\n",
    "plt.show();"
   ]
  },
  {
   "cell_type": "markdown",
   "id": "24e9323e",
   "metadata": {},
   "source": [
    "## Frequency of volumes of people <u>*injured*</u> by guns in each state"
   ]
  },
  {
   "cell_type": "code",
   "execution_count": null,
   "id": "4695a91e",
   "metadata": {},
   "outputs": [],
   "source": [
    "injured_sorted = gun_df.sort_values(by='n_injured', ascending=False)\n",
    "\n",
    "plt.figure(figsize=(13,11))\n",
    "\n",
    "sns.histplot(injured_sorted, \n",
    "             y=\"state\", \n",
    "             x=\"n_injured\", \n",
    "             alpha=1, \n",
    "             cmap='viridis', \n",
    "             legend=True, \n",
    "             binwidth=1, \n",
    "             cbar=True,\n",
    "             vmax=5000,\n",
    "             cbar_kws={'shrink': 0.3,'label':'Frequency of incidents', 'ticks': [1,1000,2000,3000,4000,5000]})\n",
    "\n",
    "plt.tick_params(axis='x', top=True, labeltop=True, labelbottom=False, color='white', width=0.5, labelcolor='#444444')\n",
    "plt.title('Gun injuries in the US : 2013-2018', pad=20, size=14, fontweight='heavy')\n",
    "plt.xlabel('Number of people injured', labelpad=-660, size=12, fontweight='heavy')\n",
    "plt.ylabel('US State', size=12, fontweight='heavy')\n",
    "plt.grid('major', color='grey', linewidth='0.5', alpha=0.3, drawstyle='default')\n",
    "plt.xticks([1,3,5,10,15,20,25,30,35,40,45,50,55,60])\n",
    "\n",
    "plt.show();"
   ]
  },
  {
   "cell_type": "markdown",
   "id": "be27c10b",
   "metadata": {},
   "source": [
    "***"
   ]
  },
  {
   "cell_type": "markdown",
   "id": "e4414e00",
   "metadata": {},
   "source": [
    "<h1><img align=\"right\" src=\"https://upload.wikimedia.org/wikipedia/commons/0/01/Flag_of_California.svg\" alt=\"US Flag\" width=\"250\">   Californian gun violence</h1>\n",
    "<h2> Jan 2013 to Mar 2018 </h2>\n"
   ]
  },
  {
   "cell_type": "markdown",
   "id": "4bd2d6fb",
   "metadata": {},
   "source": [
    "## Aggregating the data"
   ]
  },
  {
   "cell_type": "code",
   "execution_count": null,
   "id": "f1671eef",
   "metadata": {},
   "outputs": [],
   "source": [
    "cali_mask = gun_df['state'] == 'California'     # Create a mask where the state is California\n",
    "cali = gun_df[cali_mask]                        # Apply the mask to variable 'cali'\n",
    "\n",
    "# Creating separate data frames for killed and injured\n",
    "cali_killed = cali[['n_killed', 'city_or_county']]\n",
    "cali_injured = cali[['n_injured', 'city_or_county']]\n",
    "\n",
    "# Counting volume of killed and injured\n",
    "cali_killed = cali_killed.groupby([\"city_or_county\"])['n_killed'].sum().reset_index().sort_values('n_killed', ascending=False)\n",
    "cali_injured = cali_injured.groupby([\"city_or_county\"])['n_injured'].sum().reset_index().sort_values('n_injured', ascending=False)\n",
    "\n",
    "# Joining data sets above into a single dataframe\n",
    "cali_merged = pd.merge(cali_injured, cali_killed) \n",
    "cali_merged['total'] = cali_merged['n_injured'] + cali_merged['n_killed']            # Creating a sum of both columns\n",
    "cali_final = cali_merged.sort_values(by='total', ascending=False)                    # Sorting dataframe by total \n",
    "cali_final.rename(columns={'n_injured':'injured','n_killed':'killed'}, inplace=True) # Renaming columns"
   ]
  },
  {
   "cell_type": "markdown",
   "id": "954a5948",
   "metadata": {},
   "source": [
    "\n",
    "\n",
    "## Visualising the top 20 cities or counties in California with most incidents\n"
   ]
  },
  {
   "cell_type": "code",
   "execution_count": null,
   "id": "84f74fb8",
   "metadata": {},
   "outputs": [],
   "source": [
    "cali_final[0:20].plot(x='city_or_county', \n",
    "                      y=['killed', 'injured'], \n",
    "                      kind='bar', \n",
    "                      stacked=True,\n",
    "                      color=['#436b88', '#ee923c'])\n",
    "plt.title('Gun crime in Californian counties or cities : 2013-2018', pad=20, size=12, fontweight='heavy')\n",
    "plt.xlabel('City or County')\n",
    "plt.xticks(rotation=45, ha='right', rotation_mode='anchor')\n",
    "plt.ylabel('Incidents');"
   ]
  },
  {
   "cell_type": "code",
   "execution_count": null,
   "id": "eb555287",
   "metadata": {},
   "outputs": [],
   "source": []
  }
 ],
 "metadata": {
  "kaggle": {
   "accelerator": "none",
   "dataSources": [],
   "dockerImageVersionId": 30635,
   "isGpuEnabled": false,
   "isInternetEnabled": false,
   "language": "python",
   "sourceType": "notebook"
  },
  "kernelspec": {
   "display_name": "Python 3 (ipykernel)",
   "language": "python",
   "name": "python3"
  },
  "language_info": {
   "codemirror_mode": {
    "name": "ipython",
    "version": 3
   },
   "file_extension": ".py",
   "mimetype": "text/x-python",
   "name": "python",
   "nbconvert_exporter": "python",
   "pygments_lexer": "ipython3",
   "version": "3.11.5"
  }
 },
 "nbformat": 4,
 "nbformat_minor": 5
}
