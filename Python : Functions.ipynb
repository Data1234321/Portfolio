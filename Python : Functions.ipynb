{
 "cells": [
  {
   "cell_type": "markdown",
   "metadata": {
    "slideshow": {
     "slide_type": "slide"
    }
   },
   "source": [
    "# **Functions**"
   ]
  },
  {
   "cell_type": "markdown",
   "metadata": {},
   "source": [
    "> **Key skills demonstrated**\n",
    "> - Defining functions\n",
    "> - for loop\n",
    "> - f-string\n",
    "> - **if, else** statements \n",
    ">\n",
    "> **Methods & Functions used**\\\n",
    ">\\\n",
    ">`.type()` `f-string` `len()` `sorted()`\\\n",
    "> `rstrip()` `.append()` `unique()` `set()`"
   ]
  },
  {
   "cell_type": "markdown",
   "metadata": {
    "slideshow": {
     "slide_type": "slide"
    }
   },
   "source": [
    "## **Function 1**"
   ]
  },
  {
   "cell_type": "code",
   "execution_count": 27,
   "metadata": {
    "slideshow": {
     "slide_type": "slide"
    }
   },
   "outputs": [],
   "source": [
    "def sum_mult(a, b, c):\n",
    "    d = (a + b) * c\n",
    "    return d"
   ]
  },
  {
   "cell_type": "code",
   "execution_count": 28,
   "metadata": {
    "slideshow": {
     "slide_type": "slide"
    }
   },
   "outputs": [
    {
     "name": "stdout",
     "output_type": "stream",
     "text": [
      "77\n"
     ]
    }
   ],
   "source": [
    "print(sum_mult(5, 6, 7))"
   ]
  },
  {
   "cell_type": "code",
   "execution_count": 66,
   "metadata": {},
   "outputs": [
    {
     "name": "stdout",
     "output_type": "stream",
     "text": [
      "1368\n"
     ]
    }
   ],
   "source": [
    "print(sum_mult(12,24,38))"
   ]
  },
  {
   "cell_type": "markdown",
   "metadata": {
    "slideshow": {
     "slide_type": "slide"
    }
   },
   "source": [
    "Introducing letters into the function"
   ]
  },
  {
   "cell_type": "code",
   "execution_count": 30,
   "metadata": {
    "slideshow": {
     "slide_type": "slide"
    }
   },
   "outputs": [
    {
     "name": "stdout",
     "output_type": "stream",
     "text": [
      "ababababababab\n"
     ]
    }
   ],
   "source": [
    "print(sum_mult('a', 'b', 7))"
   ]
  },
  {
   "cell_type": "markdown",
   "metadata": {},
   "source": [
    "***"
   ]
  },
  {
   "cell_type": "markdown",
   "metadata": {},
   "source": [
    "## **Function 2**"
   ]
  },
  {
   "cell_type": "markdown",
   "metadata": {
    "slideshow": {
     "slide_type": "slide"
    }
   },
   "source": [
    "In this function, if any of the parameters is a string, it returns the string: **'Only numbers should be used. Please try again.'**\n"
   ]
  },
  {
   "cell_type": "code",
   "execution_count": 67,
   "metadata": {
    "slideshow": {
     "slide_type": "slide"
    }
   },
   "outputs": [],
   "source": [
    "def error_catching(a, b, c):\n",
    "    if (type(a) == str) or (type(b) == str) or (type(c) == str):\n",
    "        return 'Only numbers should be used. Please try again'\n",
    "    else:\n",
    "        result = (a + b) * c\n",
    "    return result"
   ]
  },
  {
   "cell_type": "code",
   "execution_count": 32,
   "metadata": {},
   "outputs": [
    {
     "name": "stdout",
     "output_type": "stream",
     "text": [
      "44\n"
     ]
    }
   ],
   "source": [
    "print(error_catching(5, 6, 4))"
   ]
  },
  {
   "cell_type": "code",
   "execution_count": 69,
   "metadata": {
    "slideshow": {
     "slide_type": "slide"
    }
   },
   "outputs": [
    {
     "name": "stdout",
     "output_type": "stream",
     "text": [
      "Only numbers should be used. Please try again\n"
     ]
    }
   ],
   "source": [
    "print(error_catching(5, 6, \"this_isn't_a_number!\"))"
   ]
  },
  {
   "cell_type": "markdown",
   "metadata": {},
   "source": [
    "***"
   ]
  },
  {
   "cell_type": "markdown",
   "metadata": {},
   "source": [
    "## **Function 3**"
   ]
  },
  {
   "cell_type": "markdown",
   "metadata": {
    "slideshow": {
     "slide_type": "slide"
    }
   },
   "source": [
    "Another function which takes a list of numbers as its parameter and calculates the sum of the squares of the list. Using list `a` given below as a parameter, print the result."
   ]
  },
  {
   "cell_type": "code",
   "execution_count": 70,
   "metadata": {
    "slideshow": {
     "slide_type": "slide"
    }
   },
   "outputs": [],
   "source": [
    "a = [2, 5, 3]"
   ]
  },
  {
   "cell_type": "code",
   "execution_count": 71,
   "metadata": {
    "slideshow": {
     "slide_type": "slide"
    }
   },
   "outputs": [],
   "source": [
    "\n",
    "def sq_list(list1):\n",
    "    total = 0\n",
    "    for i in list1:\n",
    "        total += i * i\n",
    "    return total    \n",
    "    "
   ]
  },
  {
   "cell_type": "code",
   "execution_count": 73,
   "metadata": {
    "slideshow": {
     "slide_type": "slide"
    }
   },
   "outputs": [
    {
     "name": "stdout",
     "output_type": "stream",
     "text": [
      "38\n"
     ]
    }
   ],
   "source": [
    "print(sq_list(a))    # Testing the function"
   ]
  },
  {
   "cell_type": "markdown",
   "metadata": {},
   "source": [
    "***"
   ]
  },
  {
   "cell_type": "markdown",
   "metadata": {},
   "source": [
    "## **Function 4**"
   ]
  },
  {
   "cell_type": "markdown",
   "metadata": {
    "slideshow": {
     "slide_type": "slide"
    }
   },
   "source": [
    "Loading a list of 100 names from the file `data.py`"
   ]
  },
  {
   "cell_type": "code",
   "execution_count": 111,
   "metadata": {
    "slideshow": {
     "slide_type": "slide"
    }
   },
   "outputs": [
    {
     "data": {
      "text/plain": [
       "['Lindsey', 'Charlene', 'Jenna', 'Carol', 'Kayleigh']"
      ]
     },
     "execution_count": 111,
     "metadata": {},
     "output_type": "execute_result"
    }
   ],
   "source": [
    "names_list = []\n",
    "with open('Portfolio/Data/data.txt') as f:\n",
    "    names_list = [line.rstrip() for line in f]\n",
    "names_list[:5]"
   ]
  },
  {
   "cell_type": "code",
   "execution_count": 112,
   "metadata": {
    "slideshow": {
     "slide_type": "slide"
    }
   },
   "outputs": [
    {
     "name": "stdout",
     "output_type": "stream",
     "text": [
      "['Lindsey', 'Charlene', 'Jenna', 'Carol', 'Kayleigh']\n",
      "['Marion', 'Jeremy', 'Stephanie', 'Ann', 'Nicole']\n"
     ]
    }
   ],
   "source": [
    "# Checking the first and last 5 names on the list\n",
    "print(names_list[:5])\n",
    "print(names_list[-5:])"
   ]
  },
  {
   "cell_type": "markdown",
   "metadata": {
    "slideshow": {
     "slide_type": "slide"
    }
   },
   "source": [
    "This function takes two parameters, called `users` and `name`, where `users` is a list and `name` is a string. The function prints out the first item of `users` and also prints out `name` on separate lines. "
   ]
  },
  {
   "cell_type": "code",
   "execution_count": 113,
   "metadata": {
    "slideshow": {
     "slide_type": "slide"
    }
   },
   "outputs": [],
   "source": [
    "def add_user(users, name):\n",
    "    print(users[0])\n",
    "    print(name)"
   ]
  },
  {
   "cell_type": "code",
   "execution_count": 114,
   "metadata": {
    "slideshow": {
     "slide_type": "slide"
    }
   },
   "outputs": [
    {
     "name": "stdout",
     "output_type": "stream",
     "text": [
      "Lindsey\n",
      "Millie\n"
     ]
    }
   ],
   "source": [
    "# Test with `names_list` as `users` and `Millie` as `name`\n",
    "add_user(names_list, 'Millie')"
   ]
  },
  {
   "cell_type": "markdown",
   "metadata": {
    "slideshow": {
     "slide_type": "slide"
    }
   },
   "source": [
    "The function is now adapted to append the `name` to `users`, and also `print()` the message **'`{name}` added successfully!'**\n"
   ]
  },
  {
   "cell_type": "code",
   "execution_count": 115,
   "metadata": {
    "slideshow": {
     "slide_type": "slide"
    }
   },
   "outputs": [],
   "source": [
    "users = []\n",
    "\n",
    "def add_user(users, name):\n",
    "    users.append(name)\n",
    "    print(f'{name} added successfully')"
   ]
  },
  {
   "cell_type": "code",
   "execution_count": 116,
   "metadata": {
    "slideshow": {
     "slide_type": "slide"
    }
   },
   "outputs": [
    {
     "name": "stdout",
     "output_type": "stream",
     "text": [
      "John added successfully\n"
     ]
    }
   ],
   "source": [
    "# Testing the function\n",
    "members = ['Helen', 'Sam']\n",
    "add_user(members, 'John')"
   ]
  },
  {
   "cell_type": "markdown",
   "metadata": {},
   "source": [
    "***"
   ]
  },
  {
   "cell_type": "markdown",
   "metadata": {},
   "source": [
    "## **Function 5**"
   ]
  },
  {
   "cell_type": "markdown",
   "metadata": {
    "slideshow": {
     "slide_type": "slide"
    }
   },
   "source": [
    "Defining a function called `unique` which takes a list and returns a `set()` of the unique values in that list:\n"
   ]
  },
  {
   "cell_type": "code",
   "execution_count": 83,
   "metadata": {
    "slideshow": {
     "slide_type": "slide"
    }
   },
   "outputs": [],
   "source": [
    "def unique(user_list):\n",
    "    return set(user_list)"
   ]
  },
  {
   "cell_type": "code",
   "execution_count": 87,
   "metadata": {
    "slideshow": {
     "slide_type": "slide"
    }
   },
   "outputs": [
    {
     "data": {
      "text/plain": [
       "{'Arthur', 'Betty', 'Bill', 'Mildred'}"
      ]
     },
     "execution_count": 87,
     "metadata": {},
     "output_type": "execute_result"
    }
   ],
   "source": [
    "# Testing the function\n",
    "unique(['Bill', 'Betty', 'Bill', 'Arthur', 'Mildred'])"
   ]
  },
  {
   "cell_type": "markdown",
   "metadata": {},
   "source": [
    "***"
   ]
  },
  {
   "cell_type": "markdown",
   "metadata": {},
   "source": [
    "## **Function 6**"
   ]
  },
  {
   "cell_type": "markdown",
   "metadata": {
    "slideshow": {
     "slide_type": "slide"
    }
   },
   "source": [
    "Calling the `unique()` function using `names_list` and assigning it to the variable `names_set`"
   ]
  },
  {
   "cell_type": "code",
   "execution_count": 141,
   "metadata": {
    "slideshow": {
     "slide_type": "slide"
    }
   },
   "outputs": [],
   "source": [
    "names_set = unique(names_list)"
   ]
  },
  {
   "cell_type": "code",
   "execution_count": 142,
   "metadata": {},
   "outputs": [
    {
     "name": "stdout",
     "output_type": "stream",
     "text": [
      "{'Jade', 'Kyle', 'Beverley', 'Gail', 'Frances', 'Leigh', 'Ryan', 'Judith', 'Kayleigh', 'Ricky', 'Jessica', 'Jeremy', 'Teresa', 'Jenna', 'Donald', 'Gareth', 'Jamie', 'Mohamed', 'Angela', 'Rachael', 'James', 'Adrian', 'Jake', 'Kathryn', 'John', 'Jennifer', 'Charlene', 'Joanne', 'Amy', 'Jack', 'Justin', 'Georgina', 'Carol', 'Dale', 'Francis', 'Kathleen', 'Beth', 'Darren', 'Jeffrey', 'George', 'Albert', 'Graham', 'Marian', 'Leon', 'Charles', 'Gerard', 'Shirley', 'Nicole', 'Jean', 'Abigail', 'Brian', 'Ann', 'Dorothy', 'Marion', 'Stewart', 'Simon', 'Danielle', 'Marilyn', 'Alan', 'Gavin', 'Clive', 'Ellie', 'Lee', 'Gillian', 'Colin', 'Brett', 'Kelly', 'Christian', 'Sharon', 'Lindsey', 'Christine', 'Sian', 'Shaun', 'Sean', 'Josh', 'Carole', 'Stephanie', 'Robert', 'Karen', 'Lynne', 'Grace', 'Paula', 'Andrew', 'Samantha', 'Elliot', 'Dean', 'Adam', 'Hugo'}\n"
     ]
    }
   ],
   "source": [
    "print(names_set)"
   ]
  },
  {
   "cell_type": "markdown",
   "metadata": {
    "slideshow": {
     "slide_type": "slide"
    }
   },
   "source": [
    "Creating a function to calculate how many values in a list are duplicated:"
   ]
  },
  {
   "cell_type": "code",
   "execution_count": 147,
   "metadata": {
    "slideshow": {
     "slide_type": "slide"
    }
   },
   "outputs": [],
   "source": [
    "def duplicate_count(dupe_list):\n",
    "    difference = len(names_list) - len(names_set)\n",
    "    return difference"
   ]
  },
  {
   "cell_type": "code",
   "execution_count": 148,
   "metadata": {
    "slideshow": {
     "slide_type": "slide"
    }
   },
   "outputs": [
    {
     "data": {
      "text/plain": [
       "12"
      ]
     },
     "execution_count": 148,
     "metadata": {},
     "output_type": "execute_result"
    }
   ],
   "source": [
    "# Testing the function\n",
    "duplicate_count(names_list)"
   ]
  },
  {
   "cell_type": "markdown",
   "metadata": {},
   "source": [
    "***"
   ]
  },
  {
   "cell_type": "markdown",
   "metadata": {},
   "source": [
    "## **Function 7**"
   ]
  },
  {
   "cell_type": "markdown",
   "metadata": {
    "slideshow": {
     "slide_type": "slide"
    }
   },
   "source": [
    "Creating a function called `names_dict`, which takes a list and returns a dictionary where:\n",
    "- there is a `key` for each unique first character found in the list   \n",
    "- the `values` are a list of the entries which begin with the character used for the `key`\n",
    "- the lists of entries are ordered alphabetically"
   ]
  },
  {
   "cell_type": "code",
   "execution_count": 149,
   "metadata": {
    "slideshow": {
     "slide_type": "slide"
    }
   },
   "outputs": [],
   "source": [
    "# Create a list of names\n",
    "test_list = ['Alan', 'Ann', 'Christine', 'Jeffrey', 'Stewart', 'Simon', 'Robert', 'Ellie', 'Dorothy', 'Joanne', 'Jack'] "
   ]
  },
  {
   "cell_type": "code",
   "execution_count": 150,
   "metadata": {
    "slideshow": {
     "slide_type": "slide"
    }
   },
   "outputs": [],
   "source": [
    "def names_dict(names):\n",
    "    list_initial = []                   # Create an empty list\n",
    "    for name in names:\n",
    "        list_initial.append(name[0])\n",
    "    \n",
    "    keys = list(unique(list_initial))   #Getting the unique values for the list and converting them to a list\n",
    "    keys.sort()                         #Sorting them alphabetical\n",
    "    return keys"
   ]
  },
  {
   "cell_type": "code",
   "execution_count": 151,
   "metadata": {
    "slideshow": {
     "slide_type": "slide"
    }
   },
   "outputs": [
    {
     "data": {
      "text/plain": [
       "['A', 'C', 'D', 'E', 'J', 'R', 'S']"
      ]
     },
     "execution_count": 151,
     "metadata": {},
     "output_type": "execute_result"
    }
   ],
   "source": [
    "# Testing the function\n",
    "list(names_dict(test_list))"
   ]
  },
  {
   "cell_type": "markdown",
   "metadata": {
    "slideshow": {
     "slide_type": "slide"
    }
   },
   "source": [
    "Expanding on the function above by creating a dictionary where the keys are the letters in the list `keys`, and the values are lists of names that begin with that letter. Then sort them alphabetically:"
   ]
  },
  {
   "cell_type": "code",
   "execution_count": 157,
   "metadata": {
    "slideshow": {
     "slide_type": "slide"
    }
   },
   "outputs": [],
   "source": [
    "def names_dict(names):\n",
    "    list_initial = []\n",
    "    for name in names:\n",
    "        list_initial.append(name[0])\n",
    "        \n",
    "    keys = list(unique(list_initial))   #Getting the unique values for the list and converting them to a list\n",
    "    keys.sort()                         #Sorting them alphabetical\n",
    "    \n",
    "    new_names_dict = dict()\n",
    "    \n",
    "    for key in keys:\n",
    "        new_names_list = []\n",
    "        for name in names:\n",
    "            if name[0] == key:\n",
    "                new_names_list.append(name)\n",
    "     \n",
    "    \n",
    "        new_names_dict[key] = sorted(new_names_list)\n",
    "    \n",
    "    return(new_names_dict)"
   ]
  },
  {
   "cell_type": "code",
   "execution_count": 99,
   "metadata": {
    "slideshow": {
     "slide_type": "slide"
    }
   },
   "outputs": [
    {
     "data": {
      "text/plain": [
       "{'A': ['Alan', 'Ann'],\n",
       " 'C': ['Christine'],\n",
       " 'D': ['Dorothy'],\n",
       " 'E': ['Ellie'],\n",
       " 'J': ['Jack', 'Jeffrey', 'Joanne'],\n",
       " 'R': ['Robert'],\n",
       " 'S': ['Simon', 'Stewart']}"
      ]
     },
     "execution_count": 99,
     "metadata": {},
     "output_type": "execute_result"
    }
   ],
   "source": [
    "# Testing the code\n",
    "names_dict(test_list)"
   ]
  },
  {
   "cell_type": "markdown",
   "metadata": {},
   "source": [
    "***"
   ]
  },
  {
   "cell_type": "markdown",
   "metadata": {},
   "source": [
    "## **Function 8**"
   ]
  },
  {
   "cell_type": "markdown",
   "metadata": {
    "slideshow": {
     "slide_type": "slide"
    }
   },
   "source": [
    "Assigning to `all_names_dict` the value returned from calling `names_dict` with `names_list`:"
   ]
  },
  {
   "cell_type": "code",
   "execution_count": 100,
   "metadata": {
    "slideshow": {
     "slide_type": "slide"
    }
   },
   "outputs": [],
   "source": [
    "all_names_dict = names_dict(test_list)"
   ]
  },
  {
   "cell_type": "markdown",
   "metadata": {
    "slideshow": {
     "slide_type": "slide"
    }
   },
   "source": [
    "Defining a function called `unique_names_dict` which takes a list and returns a dictionary such as the one created above, but instead of lists the values are sets (of unique entries):"
   ]
  },
  {
   "cell_type": "code",
   "execution_count": 160,
   "metadata": {
    "slideshow": {
     "slide_type": "slide"
    }
   },
   "outputs": [],
   "source": [
    "def unique_names_dict(names):\n",
    "    new_list = []\n",
    "    for name in names:\n",
    "        new_list.append(name[0])\n",
    "\n",
    "    keystwo = list(unique(new_list))\n",
    "    keystwo.sort()\n",
    "    \n",
    "    unique_dict_names = dict()\n",
    "    \n",
    "    for key in keystwo:\n",
    "        newer_name_list = []\n",
    "        for name in names:\n",
    "            if name[0] == key:\n",
    "                newer_name_list.append(name)\n",
    "                \n",
    "        unique_dict_names[key] = sorted(set(newer_name_list))\n",
    "        \n",
    "    return(unique_dict_names)"
   ]
  },
  {
   "cell_type": "code",
   "execution_count": 161,
   "metadata": {
    "slideshow": {
     "slide_type": "slide"
    }
   },
   "outputs": [
    {
     "data": {
      "text/plain": [
       "{'A': ['Abigail',\n",
       "  'Adam',\n",
       "  'Adrian',\n",
       "  'Alan',\n",
       "  'Albert',\n",
       "  'Amy',\n",
       "  'Andrew',\n",
       "  'Angela',\n",
       "  'Ann'],\n",
       " 'B': ['Beth', 'Beverley', 'Brett', 'Brian'],\n",
       " 'C': ['Carol',\n",
       "  'Carole',\n",
       "  'Charlene',\n",
       "  'Charles',\n",
       "  'Christian',\n",
       "  'Christine',\n",
       "  'Clive',\n",
       "  'Colin'],\n",
       " 'D': ['Dale', 'Danielle', 'Darren', 'Dean', 'Donald', 'Dorothy'],\n",
       " 'E': ['Ellie', 'Elliot'],\n",
       " 'F': ['Frances', 'Francis'],\n",
       " 'G': ['Gail',\n",
       "  'Gareth',\n",
       "  'Gavin',\n",
       "  'George',\n",
       "  'Georgina',\n",
       "  'Gerard',\n",
       "  'Gillian',\n",
       "  'Grace',\n",
       "  'Graham'],\n",
       " 'H': ['Hugo'],\n",
       " 'J': ['Jack',\n",
       "  'Jade',\n",
       "  'Jake',\n",
       "  'James',\n",
       "  'Jamie',\n",
       "  'Jean',\n",
       "  'Jeffrey',\n",
       "  'Jenna',\n",
       "  'Jennifer',\n",
       "  'Jeremy',\n",
       "  'Jessica',\n",
       "  'Joanne',\n",
       "  'John',\n",
       "  'Josh',\n",
       "  'Judith',\n",
       "  'Justin'],\n",
       " 'K': ['Karen', 'Kathleen', 'Kathryn', 'Kayleigh', 'Kelly', 'Kyle'],\n",
       " 'L': ['Lee', 'Leigh', 'Leon', 'Lindsey', 'Lynne'],\n",
       " 'M': ['Marian', 'Marilyn', 'Marion', 'Mohamed'],\n",
       " 'N': ['Nicole'],\n",
       " 'P': ['Paula'],\n",
       " 'R': ['Rachael', 'Ricky', 'Robert', 'Ryan'],\n",
       " 'S': ['Samantha',\n",
       "  'Sean',\n",
       "  'Sharon',\n",
       "  'Shaun',\n",
       "  'Shirley',\n",
       "  'Sian',\n",
       "  'Simon',\n",
       "  'Stephanie',\n",
       "  'Stewart'],\n",
       " 'T': ['Teresa']}"
      ]
     },
     "execution_count": 161,
     "metadata": {},
     "output_type": "execute_result"
    }
   ],
   "source": [
    "# Testing the code \n",
    "unique_names_dict(names_list)"
   ]
  },
  {
   "cell_type": "markdown",
   "metadata": {},
   "source": [
    "***"
   ]
  },
  {
   "cell_type": "markdown",
   "metadata": {},
   "source": [
    "## **Function 9**"
   ]
  },
  {
   "cell_type": "markdown",
   "metadata": {
    "slideshow": {
     "slide_type": "slide"
    }
   },
   "source": [
    "Exploring the function `unique_count()` which takes a single character and a list, and returns the number of unique entries in the list which begin with that character:\n",
    "- if there are no matching items in the list, return `0` and print `None found`"
   ]
  },
  {
   "cell_type": "code",
   "execution_count": 107,
   "metadata": {},
   "outputs": [],
   "source": [
    "def unique_count(char, names):\n",
    "    new_dictionary = unique_names_dict(names)\n",
    "    \n",
    "    number_of_values = len(new_dictionary.get(char, []))\n",
    "    \n",
    "    if len(new_dictionary.get(char, [])) == 0:\n",
    "        return ('None found')\n",
    "    \n",
    "    return number_of_values"
   ]
  },
  {
   "cell_type": "code",
   "execution_count": 108,
   "metadata": {
    "slideshow": {
     "slide_type": "slide"
    }
   },
   "outputs": [
    {
     "data": {
      "text/plain": [
       "16"
      ]
     },
     "execution_count": 108,
     "metadata": {},
     "output_type": "execute_result"
    }
   ],
   "source": [
    "# Testing the code\n",
    "unique_count('J', names_list)"
   ]
  },
  {
   "cell_type": "code",
   "execution_count": 109,
   "metadata": {
    "slideshow": {
     "slide_type": "slide"
    }
   },
   "outputs": [
    {
     "data": {
      "text/plain": [
       "'None found'"
      ]
     },
     "execution_count": 109,
     "metadata": {},
     "output_type": "execute_result"
    }
   ],
   "source": [
    "# Testing the code\n",
    "unique_count('I', names_list)"
   ]
  }
 ],
 "metadata": {
  "kernelspec": {
   "display_name": "Python 3 (ipykernel)",
   "language": "python",
   "name": "python3"
  },
  "language_info": {
   "codemirror_mode": {
    "name": "ipython",
    "version": 3
   },
   "file_extension": ".py",
   "mimetype": "text/x-python",
   "name": "python",
   "nbconvert_exporter": "python",
   "pygments_lexer": "ipython3",
   "version": "3.11.5"
  }
 },
 "nbformat": 4,
 "nbformat_minor": 4
}
