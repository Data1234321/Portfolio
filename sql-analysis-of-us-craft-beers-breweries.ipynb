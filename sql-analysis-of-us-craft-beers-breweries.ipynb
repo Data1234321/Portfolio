{
 "cells": [
  {
   "cell_type": "markdown",
   "id": "2bebea77",
   "metadata": {
    "papermill": {
     "duration": 0.008364,
     "end_time": "2024-02-14T14:04:07.484092",
     "exception": false,
     "start_time": "2024-02-14T14:04:07.475728",
     "status": "completed"
    },
    "tags": []
   },
   "source": [
    "![](https://www.oculyze.net/wp-content/uploads/2023/02/how-to-clean-beer-taps-2.jpg)"
   ]
  },
  {
   "cell_type": "markdown",
   "id": "0d01c449",
   "metadata": {
    "papermill": {
     "duration": 0.007932,
     "end_time": "2024-02-14T14:04:07.500000",
     "exception": false,
     "start_time": "2024-02-14T14:04:07.492068",
     "status": "completed"
    },
    "tags": []
   },
   "source": [
    "# US Craft Beers"
   ]
  },
  {
   "cell_type": "code",
   "execution_count": 1,
   "id": "17570648",
   "metadata": {
    "execution": {
     "iopub.execute_input": "2024-02-14T14:04:07.518311Z",
     "iopub.status.busy": "2024-02-14T14:04:07.517401Z",
     "iopub.status.idle": "2024-02-14T14:04:08.497786Z",
     "shell.execute_reply": "2024-02-14T14:04:08.496677Z"
    },
    "papermill": {
     "duration": 0.992988,
     "end_time": "2024-02-14T14:04:08.500914",
     "exception": false,
     "start_time": "2024-02-14T14:04:07.507926",
     "status": "completed"
    },
    "tags": []
   },
   "outputs": [],
   "source": [
    "import pandas as pd\n",
    "import sqlite3\n",
    "\n",
    "conn = sqlite3.connect(\"/kaggle/input/beer-and-breweries-db/beers.db\")"
   ]
  },
  {
   "cell_type": "code",
   "execution_count": 2,
   "id": "be6df6e7",
   "metadata": {
    "execution": {
     "iopub.execute_input": "2024-02-14T14:04:08.519734Z",
     "iopub.status.busy": "2024-02-14T14:04:08.519156Z",
     "iopub.status.idle": "2024-02-14T14:04:08.549119Z",
     "shell.execute_reply": "2024-02-14T14:04:08.547943Z"
    },
    "papermill": {
     "duration": 0.042536,
     "end_time": "2024-02-14T14:04:08.552095",
     "exception": false,
     "start_time": "2024-02-14T14:04:08.509559",
     "status": "completed"
    },
    "scrolled": true,
    "tags": []
   },
   "outputs": [
    {
     "data": {
      "text/html": [
       "<div>\n",
       "<style scoped>\n",
       "    .dataframe tbody tr th:only-of-type {\n",
       "        vertical-align: middle;\n",
       "    }\n",
       "\n",
       "    .dataframe tbody tr th {\n",
       "        vertical-align: top;\n",
       "    }\n",
       "\n",
       "    .dataframe thead th {\n",
       "        text-align: right;\n",
       "    }\n",
       "</style>\n",
       "<table border=\"1\" class=\"dataframe\">\n",
       "  <thead>\n",
       "    <tr style=\"text-align: right;\">\n",
       "      <th></th>\n",
       "      <th>name</th>\n",
       "    </tr>\n",
       "  </thead>\n",
       "  <tbody>\n",
       "    <tr>\n",
       "      <th>0</th>\n",
       "      <td>beers</td>\n",
       "    </tr>\n",
       "    <tr>\n",
       "      <th>1</th>\n",
       "      <td>breweries</td>\n",
       "    </tr>\n",
       "  </tbody>\n",
       "</table>\n",
       "</div>"
      ],
      "text/plain": [
       "        name\n",
       "0      beers\n",
       "1  breweries"
      ]
     },
     "execution_count": 2,
     "metadata": {},
     "output_type": "execute_result"
    }
   ],
   "source": [
    "query = \"\"\"\n",
    "SELECT name \n",
    "FROM sqlite_master \n",
    "WHERE type='table';\n",
    "\"\"\"\n",
    "df = pd.read_sql_query(query, conn)\n",
    "df"
   ]
  },
  {
   "cell_type": "code",
   "execution_count": 3,
   "id": "f4c7f191",
   "metadata": {
    "execution": {
     "iopub.execute_input": "2024-02-14T14:04:08.571735Z",
     "iopub.status.busy": "2024-02-14T14:04:08.570976Z",
     "iopub.status.idle": "2024-02-14T14:04:08.601898Z",
     "shell.execute_reply": "2024-02-14T14:04:08.600679Z"
    },
    "papermill": {
     "duration": 0.043994,
     "end_time": "2024-02-14T14:04:08.604730",
     "exception": false,
     "start_time": "2024-02-14T14:04:08.560736",
     "status": "completed"
    },
    "tags": []
   },
   "outputs": [
    {
     "name": "stdout",
     "output_type": "stream",
     "text": [
      "         name     type\n",
      "0         abv     REAL\n",
      "1         ibu     REAL\n",
      "2          id  INTEGER\n",
      "3        name     TEXT\n",
      "4       style     TEXT\n",
      "5  brewery_id  INTEGER\n",
      "6      ounces     REAL\n",
      "========================================\n",
      "         name     type\n",
      "0  brewery_id  INTEGER\n",
      "1        name     TEXT\n",
      "2        city     TEXT\n",
      "3       state     TEXT\n",
      "========================================\n"
     ]
    }
   ],
   "source": [
    "for table in ['beers','breweries']:\n",
    "    \n",
    "    query = f\"\"\"\n",
    "    PRAGMA table_info({table});\n",
    "    \"\"\"\n",
    "    df = pd.read_sql_query(query, conn)\n",
    "    print(df[['name','type']])\n",
    "    print('='*40)"
   ]
  },
  {
   "cell_type": "markdown",
   "id": "425b9f3d",
   "metadata": {
    "papermill": {
     "duration": 0.008567,
     "end_time": "2024-02-14T14:04:08.622255",
     "exception": false,
     "start_time": "2024-02-14T14:04:08.613688",
     "status": "completed"
    },
    "tags": []
   },
   "source": [
    "# ☑️ Queries"
   ]
  },
  {
   "cell_type": "code",
   "execution_count": 4,
   "id": "7d337a82",
   "metadata": {
    "execution": {
     "iopub.execute_input": "2024-02-14T14:04:08.641430Z",
     "iopub.status.busy": "2024-02-14T14:04:08.640765Z",
     "iopub.status.idle": "2024-02-14T14:04:08.655906Z",
     "shell.execute_reply": "2024-02-14T14:04:08.655111Z"
    },
    "papermill": {
     "duration": 0.027243,
     "end_time": "2024-02-14T14:04:08.658084",
     "exception": false,
     "start_time": "2024-02-14T14:04:08.630841",
     "status": "completed"
    },
    "tags": []
   },
   "outputs": [
    {
     "data": {
      "text/html": [
       "<div>\n",
       "<style scoped>\n",
       "    .dataframe tbody tr th:only-of-type {\n",
       "        vertical-align: middle;\n",
       "    }\n",
       "\n",
       "    .dataframe tbody tr th {\n",
       "        vertical-align: top;\n",
       "    }\n",
       "\n",
       "    .dataframe thead th {\n",
       "        text-align: right;\n",
       "    }\n",
       "</style>\n",
       "<table border=\"1\" class=\"dataframe\">\n",
       "  <thead>\n",
       "    <tr style=\"text-align: right;\">\n",
       "      <th></th>\n",
       "      <th>type</th>\n",
       "      <th>name</th>\n",
       "      <th>tbl_name</th>\n",
       "      <th>rootpage</th>\n",
       "      <th>sql</th>\n",
       "    </tr>\n",
       "  </thead>\n",
       "  <tbody>\n",
       "    <tr>\n",
       "      <th>0</th>\n",
       "      <td>table</td>\n",
       "      <td>beers</td>\n",
       "      <td>beers</td>\n",
       "      <td>2</td>\n",
       "      <td>CREATE TABLE \"beers\" (\\n\"abv\" REAL,\\n  \"ibu\" R...</td>\n",
       "    </tr>\n",
       "    <tr>\n",
       "      <th>1</th>\n",
       "      <td>table</td>\n",
       "      <td>breweries</td>\n",
       "      <td>breweries</td>\n",
       "      <td>40</td>\n",
       "      <td>CREATE TABLE \"breweries\" (\\n\"brewery_id\" INTEG...</td>\n",
       "    </tr>\n",
       "  </tbody>\n",
       "</table>\n",
       "</div>"
      ],
      "text/plain": [
       "    type       name   tbl_name  rootpage  \\\n",
       "0  table      beers      beers         2   \n",
       "1  table  breweries  breweries        40   \n",
       "\n",
       "                                                 sql  \n",
       "0  CREATE TABLE \"beers\" (\\n\"abv\" REAL,\\n  \"ibu\" R...  \n",
       "1  CREATE TABLE \"breweries\" (\\n\"brewery_id\" INTEG...  "
      ]
     },
     "execution_count": 4,
     "metadata": {},
     "output_type": "execute_result"
    }
   ],
   "source": [
    "metadata_query = \"\"\"\n",
    "SELECT type, name, tbl_name, rootpage, sql\n",
    "FROM sqlite_master;\n",
    "\"\"\"\n",
    "\n",
    "metadata_result = pd.read_sql_query(metadata_query, conn)\n",
    "metadata_result\n",
    "\n"
   ]
  },
  {
   "cell_type": "code",
   "execution_count": 5,
   "id": "dbf7e9dc",
   "metadata": {
    "execution": {
     "iopub.execute_input": "2024-02-14T14:04:08.676539Z",
     "iopub.status.busy": "2024-02-14T14:04:08.676159Z",
     "iopub.status.idle": "2024-02-14T14:04:08.695701Z",
     "shell.execute_reply": "2024-02-14T14:04:08.694531Z"
    },
    "papermill": {
     "duration": 0.031749,
     "end_time": "2024-02-14T14:04:08.698221",
     "exception": false,
     "start_time": "2024-02-14T14:04:08.666472",
     "status": "completed"
    },
    "tags": []
   },
   "outputs": [
    {
     "data": {
      "text/html": [
       "<div>\n",
       "<style scoped>\n",
       "    .dataframe tbody tr th:only-of-type {\n",
       "        vertical-align: middle;\n",
       "    }\n",
       "\n",
       "    .dataframe tbody tr th {\n",
       "        vertical-align: top;\n",
       "    }\n",
       "\n",
       "    .dataframe thead th {\n",
       "        text-align: right;\n",
       "    }\n",
       "</style>\n",
       "<table border=\"1\" class=\"dataframe\">\n",
       "  <thead>\n",
       "    <tr style=\"text-align: right;\">\n",
       "      <th></th>\n",
       "      <th>abv</th>\n",
       "      <th>ibu</th>\n",
       "      <th>name</th>\n",
       "      <th>style</th>\n",
       "    </tr>\n",
       "  </thead>\n",
       "  <tbody>\n",
       "    <tr>\n",
       "      <th>0</th>\n",
       "      <td>0.050</td>\n",
       "      <td>None</td>\n",
       "      <td>Pub Beer</td>\n",
       "      <td>American Pale Lager</td>\n",
       "    </tr>\n",
       "    <tr>\n",
       "      <th>1</th>\n",
       "      <td>0.066</td>\n",
       "      <td>None</td>\n",
       "      <td>Devil's Cup</td>\n",
       "      <td>American Pale Ale (APA)</td>\n",
       "    </tr>\n",
       "    <tr>\n",
       "      <th>2</th>\n",
       "      <td>0.071</td>\n",
       "      <td>None</td>\n",
       "      <td>Rise of the Phoenix</td>\n",
       "      <td>American IPA</td>\n",
       "    </tr>\n",
       "    <tr>\n",
       "      <th>3</th>\n",
       "      <td>0.090</td>\n",
       "      <td>None</td>\n",
       "      <td>Sinister</td>\n",
       "      <td>American Double / Imperial IPA</td>\n",
       "    </tr>\n",
       "    <tr>\n",
       "      <th>4</th>\n",
       "      <td>0.075</td>\n",
       "      <td>None</td>\n",
       "      <td>Sex and Candy</td>\n",
       "      <td>American IPA</td>\n",
       "    </tr>\n",
       "  </tbody>\n",
       "</table>\n",
       "</div>"
      ],
      "text/plain": [
       "     abv   ibu                 name                           style\n",
       "0  0.050  None             Pub Beer             American Pale Lager\n",
       "1  0.066  None          Devil's Cup         American Pale Ale (APA)\n",
       "2  0.071  None  Rise of the Phoenix                    American IPA\n",
       "3  0.090  None             Sinister  American Double / Imperial IPA\n",
       "4  0.075  None        Sex and Candy                    American IPA"
      ]
     },
     "execution_count": 5,
     "metadata": {},
     "output_type": "execute_result"
    }
   ],
   "source": [
    "#Retrieving first 5 rows of info from 'beers': abv, ibu, name, style\n",
    "\n",
    "five_rows_beers_query = \"\"\"\n",
    "SELECT abv, ibu, name, style\n",
    "FROM beers\n",
    "LIMIT 5;\n",
    "\"\"\"\n",
    "\n",
    "five_rows_beers_result = pd.read_sql_query(five_rows_beers_query, conn)\n",
    "five_rows_beers_result"
   ]
  },
  {
   "cell_type": "markdown",
   "id": "92bbd0c7",
   "metadata": {
    "papermill": {
     "duration": 0.008624,
     "end_time": "2024-02-14T14:04:08.715923",
     "exception": false,
     "start_time": "2024-02-14T14:04:08.707299",
     "status": "completed"
    },
    "tags": []
   },
   "source": [
    "**Q3. Similarly, query the first 5 rows of the `breweries` table. We want the `brewery_id`, `name`, `city`, and `state` columns.**\n",
    "\n",
    "See below code syntax for some guidance:\n",
    "```SQL\n",
    "SELECT column_names\n",
    "FROM beers\n",
    "LIMIT <number_of_rows>;\n",
    "```"
   ]
  },
  {
   "cell_type": "code",
   "execution_count": 6,
   "id": "41936e8f",
   "metadata": {
    "execution": {
     "iopub.execute_input": "2024-02-14T14:04:08.735894Z",
     "iopub.status.busy": "2024-02-14T14:04:08.735122Z",
     "iopub.status.idle": "2024-02-14T14:04:08.755292Z",
     "shell.execute_reply": "2024-02-14T14:04:08.754291Z"
    },
    "papermill": {
     "duration": 0.03265,
     "end_time": "2024-02-14T14:04:08.757468",
     "exception": false,
     "start_time": "2024-02-14T14:04:08.724818",
     "status": "completed"
    },
    "tags": []
   },
   "outputs": [
    {
     "data": {
      "text/html": [
       "<div>\n",
       "<style scoped>\n",
       "    .dataframe tbody tr th:only-of-type {\n",
       "        vertical-align: middle;\n",
       "    }\n",
       "\n",
       "    .dataframe tbody tr th {\n",
       "        vertical-align: top;\n",
       "    }\n",
       "\n",
       "    .dataframe thead th {\n",
       "        text-align: right;\n",
       "    }\n",
       "</style>\n",
       "<table border=\"1\" class=\"dataframe\">\n",
       "  <thead>\n",
       "    <tr style=\"text-align: right;\">\n",
       "      <th></th>\n",
       "      <th>brewery_id</th>\n",
       "      <th>name</th>\n",
       "      <th>city</th>\n",
       "      <th>state</th>\n",
       "    </tr>\n",
       "  </thead>\n",
       "  <tbody>\n",
       "    <tr>\n",
       "      <th>0</th>\n",
       "      <td>0</td>\n",
       "      <td>NorthGate Brewing</td>\n",
       "      <td>Minneapolis</td>\n",
       "      <td>MN</td>\n",
       "    </tr>\n",
       "    <tr>\n",
       "      <th>1</th>\n",
       "      <td>1</td>\n",
       "      <td>Against the Grain Brewery</td>\n",
       "      <td>Louisville</td>\n",
       "      <td>KY</td>\n",
       "    </tr>\n",
       "    <tr>\n",
       "      <th>2</th>\n",
       "      <td>2</td>\n",
       "      <td>Jack's Abby Craft Lagers</td>\n",
       "      <td>Framingham</td>\n",
       "      <td>MA</td>\n",
       "    </tr>\n",
       "    <tr>\n",
       "      <th>3</th>\n",
       "      <td>3</td>\n",
       "      <td>Mike Hess Brewing Company</td>\n",
       "      <td>San Diego</td>\n",
       "      <td>CA</td>\n",
       "    </tr>\n",
       "    <tr>\n",
       "      <th>4</th>\n",
       "      <td>4</td>\n",
       "      <td>Fort Point Beer Company</td>\n",
       "      <td>San Francisco</td>\n",
       "      <td>CA</td>\n",
       "    </tr>\n",
       "  </tbody>\n",
       "</table>\n",
       "</div>"
      ],
      "text/plain": [
       "   brewery_id                       name           city state\n",
       "0           0         NorthGate Brewing     Minneapolis    MN\n",
       "1           1  Against the Grain Brewery     Louisville    KY\n",
       "2           2   Jack's Abby Craft Lagers     Framingham    MA\n",
       "3           3  Mike Hess Brewing Company      San Diego    CA\n",
       "4           4    Fort Point Beer Company  San Francisco    CA"
      ]
     },
     "execution_count": 6,
     "metadata": {},
     "output_type": "execute_result"
    }
   ],
   "source": [
    "#Retrieving first 5 rows of info from 'breweries': brewery_id, name, city, state\n",
    "\n",
    "five_rows_breweries_query = \"\"\"\n",
    "SELECT brewery_id, name, city, state\n",
    "FROM breweries\n",
    "LIMIT 5;\n",
    "\"\"\"\n",
    "\n",
    "five_rows_breweries_result = pd.read_sql_query(five_rows_breweries_query, conn)\n",
    "five_rows_breweries_result"
   ]
  },
  {
   "cell_type": "code",
   "execution_count": 7,
   "id": "7df8b4cf",
   "metadata": {
    "execution": {
     "iopub.execute_input": "2024-02-14T14:04:08.777747Z",
     "iopub.status.busy": "2024-02-14T14:04:08.777062Z",
     "iopub.status.idle": "2024-02-14T14:04:08.797579Z",
     "shell.execute_reply": "2024-02-14T14:04:08.796774Z"
    },
    "papermill": {
     "duration": 0.033059,
     "end_time": "2024-02-14T14:04:08.799769",
     "exception": false,
     "start_time": "2024-02-14T14:04:08.766710",
     "status": "completed"
    },
    "tags": []
   },
   "outputs": [
    {
     "data": {
      "text/html": [
       "<div>\n",
       "<style scoped>\n",
       "    .dataframe tbody tr th:only-of-type {\n",
       "        vertical-align: middle;\n",
       "    }\n",
       "\n",
       "    .dataframe tbody tr th {\n",
       "        vertical-align: top;\n",
       "    }\n",
       "\n",
       "    .dataframe thead th {\n",
       "        text-align: right;\n",
       "    }\n",
       "</style>\n",
       "<table border=\"1\" class=\"dataframe\">\n",
       "  <thead>\n",
       "    <tr style=\"text-align: right;\">\n",
       "      <th></th>\n",
       "      <th>row_count</th>\n",
       "    </tr>\n",
       "  </thead>\n",
       "  <tbody>\n",
       "    <tr>\n",
       "      <th>0</th>\n",
       "      <td>2410</td>\n",
       "    </tr>\n",
       "  </tbody>\n",
       "</table>\n",
       "</div>"
      ],
      "text/plain": [
       "   row_count\n",
       "0       2410"
      ]
     },
     "execution_count": 7,
     "metadata": {},
     "output_type": "execute_result"
    }
   ],
   "source": [
    "#Using an alias 'row_count' to find out the number of rows in 'beer':\n",
    "\n",
    "beers_total_rows_query = \"\"\"\n",
    "SELECT COUNT(*) AS row_count\n",
    "FROM beers;\n",
    "\"\"\"\n",
    "\n",
    "beers_total_rows_result = pd.read_sql_query(beers_total_rows_query, conn)\n",
    "beers_total_rows_result"
   ]
  },
  {
   "cell_type": "code",
   "execution_count": 8,
   "id": "8234467e",
   "metadata": {
    "execution": {
     "iopub.execute_input": "2024-02-14T14:04:08.821449Z",
     "iopub.status.busy": "2024-02-14T14:04:08.820749Z",
     "iopub.status.idle": "2024-02-14T14:04:08.833958Z",
     "shell.execute_reply": "2024-02-14T14:04:08.832963Z"
    },
    "papermill": {
     "duration": 0.026998,
     "end_time": "2024-02-14T14:04:08.836141",
     "exception": false,
     "start_time": "2024-02-14T14:04:08.809143",
     "status": "completed"
    },
    "tags": []
   },
   "outputs": [
    {
     "data": {
      "text/html": [
       "<div>\n",
       "<style scoped>\n",
       "    .dataframe tbody tr th:only-of-type {\n",
       "        vertical-align: middle;\n",
       "    }\n",
       "\n",
       "    .dataframe tbody tr th {\n",
       "        vertical-align: top;\n",
       "    }\n",
       "\n",
       "    .dataframe thead th {\n",
       "        text-align: right;\n",
       "    }\n",
       "</style>\n",
       "<table border=\"1\" class=\"dataframe\">\n",
       "  <thead>\n",
       "    <tr style=\"text-align: right;\">\n",
       "      <th></th>\n",
       "      <th>distinct_styles</th>\n",
       "    </tr>\n",
       "  </thead>\n",
       "  <tbody>\n",
       "    <tr>\n",
       "      <th>0</th>\n",
       "      <td>99</td>\n",
       "    </tr>\n",
       "  </tbody>\n",
       "</table>\n",
       "</div>"
      ],
      "text/plain": [
       "   distinct_styles\n",
       "0               99"
      ]
     },
     "execution_count": 8,
     "metadata": {},
     "output_type": "execute_result"
    }
   ],
   "source": [
    "# Finding the number of distinct styles of beer in the 'beers' table:\n",
    "\n",
    "distinct_styles_query = \"\"\"\n",
    "SELECT COUNT(DISTINCT(style)) AS distinct_styles\n",
    "FROM beers;\n",
    "\"\"\"\n",
    "\n",
    "distinct_styles_result = pd.read_sql_query(distinct_styles_query, conn)\n",
    "distinct_styles_result\n",
    "\n"
   ]
  },
  {
   "cell_type": "code",
   "execution_count": 9,
   "id": "c430037b",
   "metadata": {
    "execution": {
     "iopub.execute_input": "2024-02-14T14:04:08.857417Z",
     "iopub.status.busy": "2024-02-14T14:04:08.856714Z",
     "iopub.status.idle": "2024-02-14T14:04:08.871544Z",
     "shell.execute_reply": "2024-02-14T14:04:08.870440Z"
    },
    "papermill": {
     "duration": 0.028216,
     "end_time": "2024-02-14T14:04:08.874019",
     "exception": false,
     "start_time": "2024-02-14T14:04:08.845803",
     "status": "completed"
    },
    "tags": []
   },
   "outputs": [
    {
     "data": {
      "text/html": [
       "<div>\n",
       "<style scoped>\n",
       "    .dataframe tbody tr th:only-of-type {\n",
       "        vertical-align: middle;\n",
       "    }\n",
       "\n",
       "    .dataframe tbody tr th {\n",
       "        vertical-align: top;\n",
       "    }\n",
       "\n",
       "    .dataframe thead th {\n",
       "        text-align: right;\n",
       "    }\n",
       "</style>\n",
       "<table border=\"1\" class=\"dataframe\">\n",
       "  <thead>\n",
       "    <tr style=\"text-align: right;\">\n",
       "      <th></th>\n",
       "      <th>min</th>\n",
       "      <th>avg</th>\n",
       "      <th>max</th>\n",
       "    </tr>\n",
       "  </thead>\n",
       "  <tbody>\n",
       "    <tr>\n",
       "      <th>0</th>\n",
       "      <td>0.001</td>\n",
       "      <td>0.059773</td>\n",
       "      <td>0.128</td>\n",
       "    </tr>\n",
       "  </tbody>\n",
       "</table>\n",
       "</div>"
      ],
      "text/plain": [
       "     min       avg    max\n",
       "0  0.001  0.059773  0.128"
      ]
     },
     "execution_count": 9,
     "metadata": {},
     "output_type": "execute_result"
    }
   ],
   "source": [
    "# Finding the min, average, and max abvs in the beers table:\n",
    "\n",
    "alcoholic_content_query = \"\"\"\n",
    "SELECT MIN(abv) AS min, AVG(abv) AS avg, MAX(abv) AS max\n",
    "FROM beers;\n",
    "\"\"\"\n",
    "\n",
    "alcoholic_content_result = pd.read_sql_query(alcoholic_content_query, conn)\n",
    "alcoholic_content_result"
   ]
  },
  {
   "cell_type": "code",
   "execution_count": 10,
   "id": "65ed5d40",
   "metadata": {
    "execution": {
     "iopub.execute_input": "2024-02-14T14:04:08.895890Z",
     "iopub.status.busy": "2024-02-14T14:04:08.895473Z",
     "iopub.status.idle": "2024-02-14T14:04:08.914971Z",
     "shell.execute_reply": "2024-02-14T14:04:08.914149Z"
    },
    "papermill": {
     "duration": 0.033084,
     "end_time": "2024-02-14T14:04:08.917189",
     "exception": false,
     "start_time": "2024-02-14T14:04:08.884105",
     "status": "completed"
    },
    "tags": []
   },
   "outputs": [
    {
     "data": {
      "text/html": [
       "<div>\n",
       "<style scoped>\n",
       "    .dataframe tbody tr th:only-of-type {\n",
       "        vertical-align: middle;\n",
       "    }\n",
       "\n",
       "    .dataframe tbody tr th {\n",
       "        vertical-align: top;\n",
       "    }\n",
       "\n",
       "    .dataframe thead th {\n",
       "        text-align: right;\n",
       "    }\n",
       "</style>\n",
       "<table border=\"1\" class=\"dataframe\">\n",
       "  <thead>\n",
       "    <tr style=\"text-align: right;\">\n",
       "      <th></th>\n",
       "      <th>abv</th>\n",
       "    </tr>\n",
       "  </thead>\n",
       "  <tbody>\n",
       "    <tr>\n",
       "      <th>0</th>\n",
       "      <td>0.050</td>\n",
       "    </tr>\n",
       "    <tr>\n",
       "      <th>1</th>\n",
       "      <td>0.066</td>\n",
       "    </tr>\n",
       "    <tr>\n",
       "      <th>2</th>\n",
       "      <td>0.071</td>\n",
       "    </tr>\n",
       "    <tr>\n",
       "      <th>3</th>\n",
       "      <td>0.090</td>\n",
       "    </tr>\n",
       "    <tr>\n",
       "      <th>4</th>\n",
       "      <td>0.075</td>\n",
       "    </tr>\n",
       "    <tr>\n",
       "      <th>...</th>\n",
       "      <td>...</td>\n",
       "    </tr>\n",
       "    <tr>\n",
       "      <th>2405</th>\n",
       "      <td>0.067</td>\n",
       "    </tr>\n",
       "    <tr>\n",
       "      <th>2406</th>\n",
       "      <td>0.052</td>\n",
       "    </tr>\n",
       "    <tr>\n",
       "      <th>2407</th>\n",
       "      <td>0.055</td>\n",
       "    </tr>\n",
       "    <tr>\n",
       "      <th>2408</th>\n",
       "      <td>0.055</td>\n",
       "    </tr>\n",
       "    <tr>\n",
       "      <th>2409</th>\n",
       "      <td>0.052</td>\n",
       "    </tr>\n",
       "  </tbody>\n",
       "</table>\n",
       "<p>2410 rows × 1 columns</p>\n",
       "</div>"
      ],
      "text/plain": [
       "        abv\n",
       "0     0.050\n",
       "1     0.066\n",
       "2     0.071\n",
       "3     0.090\n",
       "4     0.075\n",
       "...     ...\n",
       "2405  0.067\n",
       "2406  0.052\n",
       "2407  0.055\n",
       "2408  0.055\n",
       "2409  0.052\n",
       "\n",
       "[2410 rows x 1 columns]"
      ]
     },
     "execution_count": 10,
     "metadata": {},
     "output_type": "execute_result"
    }
   ],
   "source": [
    "# Getting only the abv column from the beers table:\n",
    "\n",
    "abv_distribution_query = \"\"\"\n",
    "SELECT abv\n",
    "FROM beers;\n",
    "\"\"\"\n",
    "\n",
    "abv_distribution_result = pd.read_sql_query(abv_distribution_query, conn)\n",
    "abv_distribution_result"
   ]
  },
  {
   "cell_type": "code",
   "execution_count": 11,
   "id": "8c3a5192",
   "metadata": {
    "execution": {
     "iopub.execute_input": "2024-02-14T14:04:08.940323Z",
     "iopub.status.busy": "2024-02-14T14:04:08.939152Z",
     "iopub.status.idle": "2024-02-14T14:04:09.290214Z",
     "shell.execute_reply": "2024-02-14T14:04:09.288679Z"
    },
    "papermill": {
     "duration": 0.365462,
     "end_time": "2024-02-14T14:04:09.293063",
     "exception": false,
     "start_time": "2024-02-14T14:04:08.927601",
     "status": "completed"
    },
    "tags": []
   },
   "outputs": [
    {
     "data": {
      "image/png": "[encoded data removed]",
      "text/plain": [
       "<Figure size 640x480 with 1 Axes>"
      ]
     },
     "metadata": {},
     "output_type": "display_data"
    }
   ],
   "source": [
    "# Creating a histogram of the abv content\n",
    "\n",
    "abv_hist = abv_distribution_result.hist(bins=30);"
   ]
  },
  {
   "cell_type": "markdown",
   "id": "555e6a96",
   "metadata": {
    "papermill": {
     "duration": 0.01051,
     "end_time": "2024-02-14T14:04:09.314347",
     "exception": false,
     "start_time": "2024-02-14T14:04:09.303837",
     "status": "completed"
    },
    "tags": []
   },
   "source": [
    "### **Q8. Query the distinct types of IPA styles in the `beers` table.**\n",
    "\n",
    "- Use `DISTINCT()` function to extract unique IPA styles from `style` column and assign the alias `ipa_styles`\n",
    "\n",
    "- To specify the criteria, you may want to use `LIKE` with the `WHERE` keyword. Extract all IPA styles from `style` column if it has the word `\"IPA\"` in its name\n",
    "\n",
    "- Sort the data in alphabetical order, this could be achieved by using `ORDER BY` keyword with `ASC`\n",
    "\n",
    "\n",
    "See below code syntax for some guidance:\n",
    "```SQL\n",
    "SELECT DISTINCT(column_name) AS <alias>\n",
    "FROM beers\n",
    "WHERE <condition>\n",
    "ORDER BY <column_name> ASC;\n",
    "```"
   ]
  },
  {
   "cell_type": "code",
   "execution_count": 12,
   "id": "3a330f0f",
   "metadata": {
    "execution": {
     "iopub.execute_input": "2024-02-14T14:04:09.338428Z",
     "iopub.status.busy": "2024-02-14T14:04:09.337139Z",
     "iopub.status.idle": "2024-02-14T14:04:09.352793Z",
     "shell.execute_reply": "2024-02-14T14:04:09.351647Z"
    },
    "papermill": {
     "duration": 0.030064,
     "end_time": "2024-02-14T14:04:09.355184",
     "exception": false,
     "start_time": "2024-02-14T14:04:09.325120",
     "status": "completed"
    },
    "tags": []
   },
   "outputs": [
    {
     "data": {
      "text/html": [
       "<div>\n",
       "<style scoped>\n",
       "    .dataframe tbody tr th:only-of-type {\n",
       "        vertical-align: middle;\n",
       "    }\n",
       "\n",
       "    .dataframe tbody tr th {\n",
       "        vertical-align: top;\n",
       "    }\n",
       "\n",
       "    .dataframe thead th {\n",
       "        text-align: right;\n",
       "    }\n",
       "</style>\n",
       "<table border=\"1\" class=\"dataframe\">\n",
       "  <thead>\n",
       "    <tr style=\"text-align: right;\">\n",
       "      <th></th>\n",
       "      <th>ipa_styles</th>\n",
       "    </tr>\n",
       "  </thead>\n",
       "  <tbody>\n",
       "    <tr>\n",
       "      <th>0</th>\n",
       "      <td>American Double / Imperial IPA</td>\n",
       "    </tr>\n",
       "    <tr>\n",
       "      <th>1</th>\n",
       "      <td>American IPA</td>\n",
       "    </tr>\n",
       "    <tr>\n",
       "      <th>2</th>\n",
       "      <td>American White IPA</td>\n",
       "    </tr>\n",
       "    <tr>\n",
       "      <th>3</th>\n",
       "      <td>Belgian IPA</td>\n",
       "    </tr>\n",
       "    <tr>\n",
       "      <th>4</th>\n",
       "      <td>English India Pale Ale (IPA)</td>\n",
       "    </tr>\n",
       "  </tbody>\n",
       "</table>\n",
       "</div>"
      ],
      "text/plain": [
       "                       ipa_styles\n",
       "0  American Double / Imperial IPA\n",
       "1                    American IPA\n",
       "2              American White IPA\n",
       "3                     Belgian IPA\n",
       "4    English India Pale Ale (IPA)"
      ]
     },
     "execution_count": 12,
     "metadata": {},
     "output_type": "execute_result"
    }
   ],
   "source": [
    "# Finding the distinct ipa styles:\n",
    "\n",
    "ipa_styles_query = \"\"\"\n",
    "SELECT DISTINCT(style) AS ipa_styles\n",
    "FROM beers\n",
    "WHERE style LIKE \"%ipa%\"\n",
    "ORDER BY style ASC;\n",
    "\"\"\"\n",
    "\n",
    "ipa_styles_result = pd.read_sql_query(ipa_styles_query, conn)\n",
    "ipa_styles_result"
   ]
  },
  {
   "cell_type": "markdown",
   "id": "5b0489d3",
   "metadata": {
    "papermill": {
     "duration": 0.011029,
     "end_time": "2024-02-14T14:04:09.379130",
     "exception": false,
     "start_time": "2024-02-14T14:04:09.368101",
     "status": "completed"
    },
    "tags": []
   },
   "source": [
    "The `ibu` is an abbreviation for the International Bitterness Units scale; a measurement of a beer's bitterness. Calculate the average bitterness of lager beers and pale ale beers. A beer style lager contains `\"lager\"`, and a beer style is pale ale if its style contains `\"IPA\"`, `\"APA\"` or `\"Pale Ale\"`."
   ]
  },
  {
   "cell_type": "code",
   "execution_count": 13,
   "id": "0dd2b08c",
   "metadata": {
    "execution": {
     "iopub.execute_input": "2024-02-14T14:04:09.404532Z",
     "iopub.status.busy": "2024-02-14T14:04:09.403449Z",
     "iopub.status.idle": "2024-02-14T14:04:09.422018Z",
     "shell.execute_reply": "2024-02-14T14:04:09.420611Z"
    },
    "papermill": {
     "duration": 0.033408,
     "end_time": "2024-02-14T14:04:09.424468",
     "exception": false,
     "start_time": "2024-02-14T14:04:09.391060",
     "status": "completed"
    },
    "tags": []
   },
   "outputs": [
    {
     "name": "stdout",
     "output_type": "stream",
     "text": [
      "    AVG(ibu)\n",
      "0  63.353571\n",
      "    AVG(ibu)\n",
      "0  22.863636\n"
     ]
    }
   ],
   "source": [
    "#Finding the average iby for pale ales and lagers.\n",
    "\n",
    "ale_bitterness_query = \"\"\"\n",
    "SELECT AVG(ibu)\n",
    "FROM beers\n",
    "WHERE style LIKE \"%ipa%\" OR style LIKE '%apa%' OR style LIKE '%pale ale%';\n",
    "\"\"\"\n",
    "\n",
    "ale_bitterness_result = pd.read_sql_query(ale_bitterness_query, conn)\n",
    "print(ale_bitterness_result)\n",
    "\n",
    "lager_bitterness_query = \"\"\"\n",
    "SELECT AVG(ibu)\n",
    "FROM beers\n",
    "WHERE style LIKE \"%lager%\";\n",
    "\"\"\"\n",
    "\n",
    "lager_bitterness_result = pd.read_sql_query(lager_bitterness_query, conn)\n",
    "print(lager_bitterness_result)"
   ]
  },
  {
   "cell_type": "code",
   "execution_count": 14,
   "id": "f809c5c6",
   "metadata": {
    "execution": {
     "iopub.execute_input": "2024-02-14T14:04:09.449426Z",
     "iopub.status.busy": "2024-02-14T14:04:09.448153Z",
     "iopub.status.idle": "2024-02-14T14:04:09.472338Z",
     "shell.execute_reply": "2024-02-14T14:04:09.471184Z"
    },
    "papermill": {
     "duration": 0.039496,
     "end_time": "2024-02-14T14:04:09.475034",
     "exception": false,
     "start_time": "2024-02-14T14:04:09.435538",
     "status": "completed"
    },
    "tags": []
   },
   "outputs": [
    {
     "data": {
      "text/html": [
       "<div>\n",
       "<style scoped>\n",
       "    .dataframe tbody tr th:only-of-type {\n",
       "        vertical-align: middle;\n",
       "    }\n",
       "\n",
       "    .dataframe tbody tr th {\n",
       "        vertical-align: top;\n",
       "    }\n",
       "\n",
       "    .dataframe thead th {\n",
       "        text-align: right;\n",
       "    }\n",
       "</style>\n",
       "<table border=\"1\" class=\"dataframe\">\n",
       "  <thead>\n",
       "    <tr style=\"text-align: right;\">\n",
       "      <th></th>\n",
       "      <th>style</th>\n",
       "      <th>number</th>\n",
       "    </tr>\n",
       "  </thead>\n",
       "  <tbody>\n",
       "    <tr>\n",
       "      <th>0</th>\n",
       "      <td>American IPA</td>\n",
       "      <td>424</td>\n",
       "    </tr>\n",
       "    <tr>\n",
       "      <th>1</th>\n",
       "      <td>American Pale Ale (APA)</td>\n",
       "      <td>245</td>\n",
       "    </tr>\n",
       "    <tr>\n",
       "      <th>2</th>\n",
       "      <td>American Amber / Red Ale</td>\n",
       "      <td>133</td>\n",
       "    </tr>\n",
       "    <tr>\n",
       "      <th>3</th>\n",
       "      <td>American Blonde Ale</td>\n",
       "      <td>108</td>\n",
       "    </tr>\n",
       "    <tr>\n",
       "      <th>4</th>\n",
       "      <td>American Double / Imperial IPA</td>\n",
       "      <td>105</td>\n",
       "    </tr>\n",
       "    <tr>\n",
       "      <th>...</th>\n",
       "      <td>...</td>\n",
       "      <td>...</td>\n",
       "    </tr>\n",
       "    <tr>\n",
       "      <th>95</th>\n",
       "      <td>Kristalweizen</td>\n",
       "      <td>1</td>\n",
       "    </tr>\n",
       "    <tr>\n",
       "      <th>96</th>\n",
       "      <td>Low Alcohol Beer</td>\n",
       "      <td>1</td>\n",
       "    </tr>\n",
       "    <tr>\n",
       "      <th>97</th>\n",
       "      <td>Other</td>\n",
       "      <td>1</td>\n",
       "    </tr>\n",
       "    <tr>\n",
       "      <th>98</th>\n",
       "      <td>Smoked Beer</td>\n",
       "      <td>1</td>\n",
       "    </tr>\n",
       "    <tr>\n",
       "      <th>99</th>\n",
       "      <td>Wheat Ale</td>\n",
       "      <td>1</td>\n",
       "    </tr>\n",
       "  </tbody>\n",
       "</table>\n",
       "<p>100 rows × 2 columns</p>\n",
       "</div>"
      ],
      "text/plain": [
       "                             style  number\n",
       "0                     American IPA     424\n",
       "1          American Pale Ale (APA)     245\n",
       "2         American Amber / Red Ale     133\n",
       "3              American Blonde Ale     108\n",
       "4   American Double / Imperial IPA     105\n",
       "..                             ...     ...\n",
       "95                   Kristalweizen       1\n",
       "96                Low Alcohol Beer       1\n",
       "97                           Other       1\n",
       "98                     Smoked Beer       1\n",
       "99                       Wheat Ale       1\n",
       "\n",
       "[100 rows x 2 columns]"
      ]
     },
     "execution_count": 14,
     "metadata": {},
     "output_type": "execute_result"
    }
   ],
   "source": [
    "# Calculating the number of beers there are of each style in the beers table. \n",
    "\n",
    "style_count_query = \"\"\"\n",
    "SELECT DISTINCT style, \n",
    "COUNT() OVER(PARTITION BY style) AS number\n",
    "FROM beers\n",
    "ORDER BY number DESC;\n",
    "\"\"\"\n",
    "\n",
    "style_count_result = pd.read_sql_query(style_count_query, conn)\n",
    "style_count_result"
   ]
  },
  {
   "cell_type": "code",
   "execution_count": 15,
   "id": "a43ae739",
   "metadata": {
    "execution": {
     "iopub.execute_input": "2024-02-14T14:04:09.500160Z",
     "iopub.status.busy": "2024-02-14T14:04:09.499768Z",
     "iopub.status.idle": "2024-02-14T14:04:09.525155Z",
     "shell.execute_reply": "2024-02-14T14:04:09.524063Z"
    },
    "papermill": {
     "duration": 0.040364,
     "end_time": "2024-02-14T14:04:09.527471",
     "exception": false,
     "start_time": "2024-02-14T14:04:09.487107",
     "status": "completed"
    },
    "tags": []
   },
   "outputs": [
    {
     "data": {
      "text/html": [
       "<div>\n",
       "<style scoped>\n",
       "    .dataframe tbody tr th:only-of-type {\n",
       "        vertical-align: middle;\n",
       "    }\n",
       "\n",
       "    .dataframe tbody tr th {\n",
       "        vertical-align: top;\n",
       "    }\n",
       "\n",
       "    .dataframe thead th {\n",
       "        text-align: right;\n",
       "    }\n",
       "</style>\n",
       "<table border=\"1\" class=\"dataframe\">\n",
       "  <thead>\n",
       "    <tr style=\"text-align: right;\">\n",
       "      <th></th>\n",
       "      <th>beer</th>\n",
       "      <th>brewery</th>\n",
       "    </tr>\n",
       "  </thead>\n",
       "  <tbody>\n",
       "    <tr>\n",
       "      <th>0</th>\n",
       "      <td>21st Amendment IPA (2006)</td>\n",
       "      <td>21st Amendment Brewery</td>\n",
       "    </tr>\n",
       "    <tr>\n",
       "      <th>1</th>\n",
       "      <td>21st Amendment Watermelon Wheat Beer (2006)</td>\n",
       "      <td>21st Amendment Brewery</td>\n",
       "    </tr>\n",
       "    <tr>\n",
       "      <th>2</th>\n",
       "      <td>Back in Black</td>\n",
       "      <td>21st Amendment Brewery</td>\n",
       "    </tr>\n",
       "    <tr>\n",
       "      <th>3</th>\n",
       "      <td>Bitter American</td>\n",
       "      <td>21st Amendment Brewery</td>\n",
       "    </tr>\n",
       "    <tr>\n",
       "      <th>4</th>\n",
       "      <td>Bitter American (2011)</td>\n",
       "      <td>21st Amendment Brewery</td>\n",
       "    </tr>\n",
       "    <tr>\n",
       "      <th>5</th>\n",
       "      <td>Brew Free! or Die IPA</td>\n",
       "      <td>21st Amendment Brewery</td>\n",
       "    </tr>\n",
       "    <tr>\n",
       "      <th>6</th>\n",
       "      <td>Brew Free! or Die IPA (2008)</td>\n",
       "      <td>21st Amendment Brewery</td>\n",
       "    </tr>\n",
       "    <tr>\n",
       "      <th>7</th>\n",
       "      <td>Brew Free! or Die IPA (2009)</td>\n",
       "      <td>21st Amendment Brewery</td>\n",
       "    </tr>\n",
       "    <tr>\n",
       "      <th>8</th>\n",
       "      <td>Fireside Chat</td>\n",
       "      <td>21st Amendment Brewery</td>\n",
       "    </tr>\n",
       "    <tr>\n",
       "      <th>9</th>\n",
       "      <td>Fireside Chat (2010)</td>\n",
       "      <td>21st Amendment Brewery</td>\n",
       "    </tr>\n",
       "    <tr>\n",
       "      <th>10</th>\n",
       "      <td>He Said Baltic-Style Porter</td>\n",
       "      <td>21st Amendment Brewery</td>\n",
       "    </tr>\n",
       "    <tr>\n",
       "      <th>11</th>\n",
       "      <td>He Said Belgian-Style Tripel</td>\n",
       "      <td>21st Amendment Brewery</td>\n",
       "    </tr>\n",
       "    <tr>\n",
       "      <th>12</th>\n",
       "      <td>Hell or High Watermelon Wheat</td>\n",
       "      <td>21st Amendment Brewery</td>\n",
       "    </tr>\n",
       "    <tr>\n",
       "      <th>13</th>\n",
       "      <td>Hell or High Watermelon Wheat (2009)</td>\n",
       "      <td>21st Amendment Brewery</td>\n",
       "    </tr>\n",
       "    <tr>\n",
       "      <th>14</th>\n",
       "      <td>Hell or High Watermelon Wheat (2009)</td>\n",
       "      <td>21st Amendment Brewery</td>\n",
       "    </tr>\n",
       "    <tr>\n",
       "      <th>15</th>\n",
       "      <td>Hop Crisis</td>\n",
       "      <td>21st Amendment Brewery</td>\n",
       "    </tr>\n",
       "    <tr>\n",
       "      <th>16</th>\n",
       "      <td>Lower De Boom</td>\n",
       "      <td>21st Amendment Brewery</td>\n",
       "    </tr>\n",
       "    <tr>\n",
       "      <th>17</th>\n",
       "      <td>Marooned On Hog Island</td>\n",
       "      <td>21st Amendment Brewery</td>\n",
       "    </tr>\n",
       "    <tr>\n",
       "      <th>18</th>\n",
       "      <td>Monk's Blood</td>\n",
       "      <td>21st Amendment Brewery</td>\n",
       "    </tr>\n",
       "    <tr>\n",
       "      <th>19</th>\n",
       "      <td>Special Edition: Allies Win The War!</td>\n",
       "      <td>21st Amendment Brewery</td>\n",
       "    </tr>\n",
       "    <tr>\n",
       "      <th>20</th>\n",
       "      <td>Brotherhood Steam</td>\n",
       "      <td>Anchor Brewing Company</td>\n",
       "    </tr>\n",
       "    <tr>\n",
       "      <th>21</th>\n",
       "      <td>California Lager</td>\n",
       "      <td>Anchor Brewing Company</td>\n",
       "    </tr>\n",
       "    <tr>\n",
       "      <th>22</th>\n",
       "      <td>IPA</td>\n",
       "      <td>Anchor Brewing Company</td>\n",
       "    </tr>\n",
       "    <tr>\n",
       "      <th>23</th>\n",
       "      <td>Liberty Ale</td>\n",
       "      <td>Anchor Brewing Company</td>\n",
       "    </tr>\n",
       "    <tr>\n",
       "      <th>24</th>\n",
       "      <td>Summer Wheat</td>\n",
       "      <td>Anchor Brewing Company</td>\n",
       "    </tr>\n",
       "    <tr>\n",
       "      <th>25</th>\n",
       "      <td>KSA</td>\n",
       "      <td>Fort Point Beer Company</td>\n",
       "    </tr>\n",
       "    <tr>\n",
       "      <th>26</th>\n",
       "      <td>Park</td>\n",
       "      <td>Fort Point Beer Company</td>\n",
       "    </tr>\n",
       "    <tr>\n",
       "      <th>27</th>\n",
       "      <td>Villager</td>\n",
       "      <td>Fort Point Beer Company</td>\n",
       "    </tr>\n",
       "    <tr>\n",
       "      <th>28</th>\n",
       "      <td>Westfalia</td>\n",
       "      <td>Fort Point Beer Company</td>\n",
       "    </tr>\n",
       "    <tr>\n",
       "      <th>29</th>\n",
       "      <td>Atom Splitter Pale Ale</td>\n",
       "      <td>Pine Street Brewery</td>\n",
       "    </tr>\n",
       "    <tr>\n",
       "      <th>30</th>\n",
       "      <td>Black Bay Milk Stout</td>\n",
       "      <td>Pine Street Brewery</td>\n",
       "    </tr>\n",
       "    <tr>\n",
       "      <th>31</th>\n",
       "      <td>Baby Daddy Session IPA</td>\n",
       "      <td>Speakasy Ales &amp; Lagers</td>\n",
       "    </tr>\n",
       "  </tbody>\n",
       "</table>\n",
       "</div>"
      ],
      "text/plain": [
       "                                           beer                  brewery\n",
       "0                     21st Amendment IPA (2006)   21st Amendment Brewery\n",
       "1   21st Amendment Watermelon Wheat Beer (2006)   21st Amendment Brewery\n",
       "2                                 Back in Black   21st Amendment Brewery\n",
       "3                               Bitter American   21st Amendment Brewery\n",
       "4                        Bitter American (2011)   21st Amendment Brewery\n",
       "5                         Brew Free! or Die IPA   21st Amendment Brewery\n",
       "6                  Brew Free! or Die IPA (2008)   21st Amendment Brewery\n",
       "7                  Brew Free! or Die IPA (2009)   21st Amendment Brewery\n",
       "8                                 Fireside Chat   21st Amendment Brewery\n",
       "9                          Fireside Chat (2010)   21st Amendment Brewery\n",
       "10                  He Said Baltic-Style Porter   21st Amendment Brewery\n",
       "11                 He Said Belgian-Style Tripel   21st Amendment Brewery\n",
       "12                Hell or High Watermelon Wheat   21st Amendment Brewery\n",
       "13         Hell or High Watermelon Wheat (2009)   21st Amendment Brewery\n",
       "14         Hell or High Watermelon Wheat (2009)   21st Amendment Brewery\n",
       "15                                   Hop Crisis   21st Amendment Brewery\n",
       "16                                Lower De Boom   21st Amendment Brewery\n",
       "17                       Marooned On Hog Island   21st Amendment Brewery\n",
       "18                                 Monk's Blood   21st Amendment Brewery\n",
       "19         Special Edition: Allies Win The War!   21st Amendment Brewery\n",
       "20                            Brotherhood Steam   Anchor Brewing Company\n",
       "21                             California Lager   Anchor Brewing Company\n",
       "22                                          IPA   Anchor Brewing Company\n",
       "23                                  Liberty Ale   Anchor Brewing Company\n",
       "24                                 Summer Wheat   Anchor Brewing Company\n",
       "25                                          KSA  Fort Point Beer Company\n",
       "26                                         Park  Fort Point Beer Company\n",
       "27                                     Villager  Fort Point Beer Company\n",
       "28                                    Westfalia  Fort Point Beer Company\n",
       "29                       Atom Splitter Pale Ale      Pine Street Brewery\n",
       "30                         Black Bay Milk Stout      Pine Street Brewery\n",
       "31                       Baby Daddy Session IPA   Speakasy Ales & Lagers"
      ]
     },
     "execution_count": 15,
     "metadata": {},
     "output_type": "execute_result"
    }
   ],
   "source": [
    "# Inner joining two tables to find all the breweries and beers that can be found in San Francisco\n",
    "\n",
    "beers_and_brewery_query = \"\"\"\n",
    "SELECT beers.name AS beer, breweries.name AS brewery \n",
    "FROM beers\n",
    "INNER JOIN breweries\n",
    "ON beers.brewery_id = breweries.brewery_id\n",
    "WHERE breweries.city = 'San Francisco'\n",
    "ORDER BY brewery ASC, beer ASC;\n",
    "\"\"\"\n",
    "\n",
    "beers_and_brewery_result = pd.read_sql_query(beers_and_brewery_query, conn)\n",
    "beers_and_brewery_result"
   ]
  },
  {
   "cell_type": "markdown",
   "id": "267f39ff",
   "metadata": {
    "papermill": {
     "duration": 0.011522,
     "end_time": "2024-02-14T14:04:09.551528",
     "exception": false,
     "start_time": "2024-02-14T14:04:09.540006",
     "status": "completed"
    },
    "tags": []
   },
   "source": [
    "**Q12. Query the `beers` and `breweries` tables to find the largest breweries by the number of beers produced.**\n",
    "\n",
    "- Your result should have two columns, `name` and `number of beers`, and should be ordered from largest to smallest.\n",
    "\n",
    "- If `number of beers` is the same, it should be ordered alphabetically.\n",
    "\n",
    "- Limit your result to the top `10` breweries.\n",
    "\n",
    "_Note: if a column name has spaces, you can wrap it in backticks(\\` \\`), quotes(\" \"), or square brackets(\\[ \\])._\n",
    "\n",
    "_E.g. `SELECT [long column name] FROM table`_\n",
    "\n",
    "_**Hint**:  some breweries have the same name, hence you cannot rely on unique names. ID numbers are often used unique identifiers for this reason._\n",
    "\n",
    "Please note you have been provided with the code for this question to carry out the necessary data manipulation and reporting work. Simply run the code cell to produce the desired results."
   ]
  },
  {
   "cell_type": "code",
   "execution_count": 16,
   "id": "2e04cddc",
   "metadata": {
    "execution": {
     "iopub.execute_input": "2024-02-14T14:04:09.577326Z",
     "iopub.status.busy": "2024-02-14T14:04:09.576699Z",
     "iopub.status.idle": "2024-02-14T14:04:09.594468Z",
     "shell.execute_reply": "2024-02-14T14:04:09.593312Z"
    },
    "papermill": {
     "duration": 0.033913,
     "end_time": "2024-02-14T14:04:09.597192",
     "exception": false,
     "start_time": "2024-02-14T14:04:09.563279",
     "status": "completed"
    },
    "tags": []
   },
   "outputs": [
    {
     "data": {
      "text/html": [
       "<div>\n",
       "<style scoped>\n",
       "    .dataframe tbody tr th:only-of-type {\n",
       "        vertical-align: middle;\n",
       "    }\n",
       "\n",
       "    .dataframe tbody tr th {\n",
       "        vertical-align: top;\n",
       "    }\n",
       "\n",
       "    .dataframe thead th {\n",
       "        text-align: right;\n",
       "    }\n",
       "</style>\n",
       "<table border=\"1\" class=\"dataframe\">\n",
       "  <thead>\n",
       "    <tr style=\"text-align: right;\">\n",
       "      <th></th>\n",
       "      <th>name</th>\n",
       "      <th>number of beers</th>\n",
       "    </tr>\n",
       "  </thead>\n",
       "  <tbody>\n",
       "    <tr>\n",
       "      <th>0</th>\n",
       "      <td>Brewery Vivant</td>\n",
       "      <td>62</td>\n",
       "    </tr>\n",
       "    <tr>\n",
       "      <th>1</th>\n",
       "      <td>Sun King Brewing Company</td>\n",
       "      <td>38</td>\n",
       "    </tr>\n",
       "    <tr>\n",
       "      <th>2</th>\n",
       "      <td>Oskar Blues Brewery</td>\n",
       "      <td>33</td>\n",
       "    </tr>\n",
       "    <tr>\n",
       "      <th>3</th>\n",
       "      <td>Cigar City Brewing Company</td>\n",
       "      <td>25</td>\n",
       "    </tr>\n",
       "    <tr>\n",
       "      <th>4</th>\n",
       "      <td>Sixpoint Craft Ales</td>\n",
       "      <td>24</td>\n",
       "    </tr>\n",
       "    <tr>\n",
       "      <th>5</th>\n",
       "      <td>Hopworks Urban Brewery</td>\n",
       "      <td>23</td>\n",
       "    </tr>\n",
       "    <tr>\n",
       "      <th>6</th>\n",
       "      <td>Stevens Point Brewery</td>\n",
       "      <td>22</td>\n",
       "    </tr>\n",
       "    <tr>\n",
       "      <th>7</th>\n",
       "      <td>21st Amendment Brewery</td>\n",
       "      <td>20</td>\n",
       "    </tr>\n",
       "    <tr>\n",
       "      <th>8</th>\n",
       "      <td>Great Crescent Brewery</td>\n",
       "      <td>20</td>\n",
       "    </tr>\n",
       "    <tr>\n",
       "      <th>9</th>\n",
       "      <td>Bonfire Brewing Company</td>\n",
       "      <td>19</td>\n",
       "    </tr>\n",
       "  </tbody>\n",
       "</table>\n",
       "</div>"
      ],
      "text/plain": [
       "                         name  number of beers\n",
       "0              Brewery Vivant               62\n",
       "1    Sun King Brewing Company               38\n",
       "2         Oskar Blues Brewery               33\n",
       "3  Cigar City Brewing Company               25\n",
       "4         Sixpoint Craft Ales               24\n",
       "5      Hopworks Urban Brewery               23\n",
       "6       Stevens Point Brewery               22\n",
       "7      21st Amendment Brewery               20\n",
       "8      Great Crescent Brewery               20\n",
       "9     Bonfire Brewing Company               19"
      ]
     },
     "execution_count": 16,
     "metadata": {},
     "output_type": "execute_result"
    }
   ],
   "source": [
    "# Querying both tables to find the largest breweries by number of beers produced:\n",
    "\n",
    "largest_breweries_query = \"\"\"\n",
    "SELECT breweries.name AS name, COUNT(*) AS \"number of beers\"\n",
    "FROM beers\n",
    "INNER JOIN breweries\n",
    "ON beers.brewery_id = breweries.brewery_id\n",
    "GROUP BY breweries.brewery_id, breweries.name \n",
    "ORDER BY \"number of beers\" DESC, name ASC\n",
    "LIMIT 10;\n",
    "\"\"\"\n",
    "largest_breweries_result = pd.read_sql_query(largest_breweries_query, conn)\n",
    "largest_breweries_result"
   ]
  },
  {
   "cell_type": "markdown",
   "id": "ac1b9ef4",
   "metadata": {
    "papermill": {
     "duration": 0.013252,
     "end_time": "2024-02-14T14:04:09.622770",
     "exception": false,
     "start_time": "2024-02-14T14:04:09.609518",
     "status": "completed"
    },
    "tags": []
   },
   "source": [
    "**Q13. Query the `breweries` and `beers` tables to identify the top 10 US states with regard to the number of _breweries_.**\n",
    "\n",
    "\n",
    "- Your result should have three columns: `state`, `breweries` (the number of breweries), and `beers` (the number of `beers`).\n",
    "\n",
    "- Make sure you order your result by number of breweries to get the top 10 - if there is a draw order alphabetically by state\n",
    "\n",
    "\n",
    "Please note you have been provided with the code for this question to carry out the necessary data manipulation and reporting work. Simply run the code cell to produce the desired results."
   ]
  },
  {
   "cell_type": "code",
   "execution_count": 17,
   "id": "8faff721",
   "metadata": {
    "execution": {
     "iopub.execute_input": "2024-02-14T14:04:09.649376Z",
     "iopub.status.busy": "2024-02-14T14:04:09.648761Z",
     "iopub.status.idle": "2024-02-14T14:04:09.669468Z",
     "shell.execute_reply": "2024-02-14T14:04:09.668318Z"
    },
    "papermill": {
     "duration": 0.036915,
     "end_time": "2024-02-14T14:04:09.672022",
     "exception": false,
     "start_time": "2024-02-14T14:04:09.635107",
     "status": "completed"
    },
    "tags": []
   },
   "outputs": [
    {
     "data": {
      "text/html": [
       "<div>\n",
       "<style scoped>\n",
       "    .dataframe tbody tr th:only-of-type {\n",
       "        vertical-align: middle;\n",
       "    }\n",
       "\n",
       "    .dataframe tbody tr th {\n",
       "        vertical-align: top;\n",
       "    }\n",
       "\n",
       "    .dataframe thead th {\n",
       "        text-align: right;\n",
       "    }\n",
       "</style>\n",
       "<table border=\"1\" class=\"dataframe\">\n",
       "  <thead>\n",
       "    <tr style=\"text-align: right;\">\n",
       "      <th></th>\n",
       "      <th>state</th>\n",
       "      <th>breweries</th>\n",
       "      <th>beers</th>\n",
       "    </tr>\n",
       "  </thead>\n",
       "  <tbody>\n",
       "    <tr>\n",
       "      <th>0</th>\n",
       "      <td>CO</td>\n",
       "      <td>47</td>\n",
       "      <td>265</td>\n",
       "    </tr>\n",
       "    <tr>\n",
       "      <th>1</th>\n",
       "      <td>CA</td>\n",
       "      <td>39</td>\n",
       "      <td>183</td>\n",
       "    </tr>\n",
       "    <tr>\n",
       "      <th>2</th>\n",
       "      <td>MI</td>\n",
       "      <td>32</td>\n",
       "      <td>162</td>\n",
       "    </tr>\n",
       "    <tr>\n",
       "      <th>3</th>\n",
       "      <td>OR</td>\n",
       "      <td>29</td>\n",
       "      <td>125</td>\n",
       "    </tr>\n",
       "    <tr>\n",
       "      <th>4</th>\n",
       "      <td>TX</td>\n",
       "      <td>28</td>\n",
       "      <td>130</td>\n",
       "    </tr>\n",
       "    <tr>\n",
       "      <th>5</th>\n",
       "      <td>PA</td>\n",
       "      <td>25</td>\n",
       "      <td>100</td>\n",
       "    </tr>\n",
       "    <tr>\n",
       "      <th>6</th>\n",
       "      <td>MA</td>\n",
       "      <td>23</td>\n",
       "      <td>82</td>\n",
       "    </tr>\n",
       "    <tr>\n",
       "      <th>7</th>\n",
       "      <td>WA</td>\n",
       "      <td>23</td>\n",
       "      <td>68</td>\n",
       "    </tr>\n",
       "    <tr>\n",
       "      <th>8</th>\n",
       "      <td>IN</td>\n",
       "      <td>22</td>\n",
       "      <td>139</td>\n",
       "    </tr>\n",
       "    <tr>\n",
       "      <th>9</th>\n",
       "      <td>WI</td>\n",
       "      <td>20</td>\n",
       "      <td>87</td>\n",
       "    </tr>\n",
       "  </tbody>\n",
       "</table>\n",
       "</div>"
      ],
      "text/plain": [
       "  state  breweries  beers\n",
       "0    CO         47    265\n",
       "1    CA         39    183\n",
       "2    MI         32    162\n",
       "3    OR         29    125\n",
       "4    TX         28    130\n",
       "5    PA         25    100\n",
       "6    MA         23     82\n",
       "7    WA         23     68\n",
       "8    IN         22    139\n",
       "9    WI         20     87"
      ]
     },
     "execution_count": 17,
     "metadata": {},
     "output_type": "execute_result"
    }
   ],
   "source": [
    "# Querying both tables to identify the top 10 US states with regard to the number of breweries:\n",
    "\n",
    "top_10_states_query = \"\"\"\n",
    "SELECT\n",
    "    brew.state AS state\n",
    "    , COUNT(DISTINCT(brew.brewery_id)) AS breweries\n",
    "    , COUNT(*) AS beers\n",
    "FROM beers\n",
    "JOIN breweries AS brew\n",
    "ON beers.brewery_id = brew.brewery_id\n",
    "GROUP BY state\n",
    "ORDER BY breweries DESC, state ASC\n",
    "LIMIT 10\n",
    "\"\"\"\n",
    "top_10_states_result = pd.read_sql_query(top_10_states_query, conn)\n",
    "top_10_states_result"
   ]
  },
  {
   "cell_type": "code",
   "execution_count": 18,
   "id": "048b1523",
   "metadata": {
    "execution": {
     "iopub.execute_input": "2024-02-14T14:04:09.700281Z",
     "iopub.status.busy": "2024-02-14T14:04:09.699635Z",
     "iopub.status.idle": "2024-02-14T14:04:09.717431Z",
     "shell.execute_reply": "2024-02-14T14:04:09.715946Z"
    },
    "papermill": {
     "duration": 0.035079,
     "end_time": "2024-02-14T14:04:09.720025",
     "exception": false,
     "start_time": "2024-02-14T14:04:09.684946",
     "status": "completed"
    },
    "tags": []
   },
   "outputs": [
    {
     "data": {
      "text/html": [
       "<div>\n",
       "<style scoped>\n",
       "    .dataframe tbody tr th:only-of-type {\n",
       "        vertical-align: middle;\n",
       "    }\n",
       "\n",
       "    .dataframe tbody tr th {\n",
       "        vertical-align: top;\n",
       "    }\n",
       "\n",
       "    .dataframe thead th {\n",
       "        text-align: right;\n",
       "    }\n",
       "</style>\n",
       "<table border=\"1\" class=\"dataframe\">\n",
       "  <thead>\n",
       "    <tr style=\"text-align: right;\">\n",
       "      <th></th>\n",
       "      <th>state</th>\n",
       "      <th>breweries</th>\n",
       "      <th>beers</th>\n",
       "    </tr>\n",
       "  </thead>\n",
       "  <tbody>\n",
       "    <tr>\n",
       "      <th>0</th>\n",
       "      <td>CO</td>\n",
       "      <td>47</td>\n",
       "      <td>265</td>\n",
       "    </tr>\n",
       "    <tr>\n",
       "      <th>1</th>\n",
       "      <td>CA</td>\n",
       "      <td>39</td>\n",
       "      <td>183</td>\n",
       "    </tr>\n",
       "    <tr>\n",
       "      <th>2</th>\n",
       "      <td>MI</td>\n",
       "      <td>32</td>\n",
       "      <td>162</td>\n",
       "    </tr>\n",
       "    <tr>\n",
       "      <th>3</th>\n",
       "      <td>OR</td>\n",
       "      <td>29</td>\n",
       "      <td>125</td>\n",
       "    </tr>\n",
       "    <tr>\n",
       "      <th>4</th>\n",
       "      <td>TX</td>\n",
       "      <td>28</td>\n",
       "      <td>130</td>\n",
       "    </tr>\n",
       "    <tr>\n",
       "      <th>5</th>\n",
       "      <td>PA</td>\n",
       "      <td>25</td>\n",
       "      <td>100</td>\n",
       "    </tr>\n",
       "    <tr>\n",
       "      <th>6</th>\n",
       "      <td>MA</td>\n",
       "      <td>23</td>\n",
       "      <td>82</td>\n",
       "    </tr>\n",
       "    <tr>\n",
       "      <th>7</th>\n",
       "      <td>WA</td>\n",
       "      <td>23</td>\n",
       "      <td>68</td>\n",
       "    </tr>\n",
       "    <tr>\n",
       "      <th>8</th>\n",
       "      <td>IN</td>\n",
       "      <td>22</td>\n",
       "      <td>139</td>\n",
       "    </tr>\n",
       "    <tr>\n",
       "      <th>9</th>\n",
       "      <td>WI</td>\n",
       "      <td>20</td>\n",
       "      <td>87</td>\n",
       "    </tr>\n",
       "  </tbody>\n",
       "</table>\n",
       "</div>"
      ],
      "text/plain": [
       "  state  breweries  beers\n",
       "0    CO         47    265\n",
       "1    CA         39    183\n",
       "2    MI         32    162\n",
       "3    OR         29    125\n",
       "4    TX         28    130\n",
       "5    PA         25    100\n",
       "6    MA         23     82\n",
       "7    WA         23     68\n",
       "8    IN         22    139\n",
       "9    WI         20     87"
      ]
     },
     "execution_count": 18,
     "metadata": {},
     "output_type": "execute_result"
    }
   ],
   "source": [
    "# A more flexible way of processing the same request, which is more flexible\n",
    "\n",
    "top_10_states_query_2 = \"\"\"\n",
    "    SELECT state, count(*) AS \"breweries\", sum(b.beers) \"beers\" FROM breweries\n",
    "    JOIN \n",
    "        (SELECT brewery_id, count(*) AS beers\n",
    "         FROM beers\n",
    "         GROUP BY brewery_id) b \n",
    "    ON b.brewery_id = breweries.brewery_id\n",
    "    GROUP BY state\n",
    "    ORDER BY breweries DESC, state ASC\n",
    "    LIMIT 10\n",
    "\"\"\"\n",
    "\n",
    "top_10_states_result_2 = pd.read_sql_query(top_10_states_query_2, conn)\n",
    "top_10_states_result_2"
   ]
  },
  {
   "cell_type": "code",
   "execution_count": null,
   "id": "065d4b29",
   "metadata": {
    "papermill": {
     "duration": 0.012608,
     "end_time": "2024-02-14T14:04:09.745791",
     "exception": false,
     "start_time": "2024-02-14T14:04:09.733183",
     "status": "completed"
    },
    "tags": []
   },
   "outputs": [],
   "source": []
  }
 ],
 "metadata": {
  "kaggle": {
   "accelerator": "none",
   "dataSources": [
    {
     "datasetId": 673,
     "sourceId": 1282,
     "sourceType": "datasetVersion"
    },
    {
     "datasetId": 4441516,
     "sourceId": 7624328,
     "sourceType": "datasetVersion"
    }
   ],
   "dockerImageVersionId": 30646,
   "isGpuEnabled": false,
   "isInternetEnabled": true,
   "language": "python",
   "sourceType": "notebook"
  },
  "kernelspec": {
   "display_name": "Python 3",
   "language": "python",
   "name": "python3"
  },
  "language_info": {
   "codemirror_mode": {
    "name": "ipython",
    "version": 3
   },
   "file_extension": ".py",
   "mimetype": "text/x-python",
   "name": "python",
   "nbconvert_exporter": "python",
   "pygments_lexer": "ipython3",
   "version": "3.10.13"
  },
  "papermill": {
   "default_parameters": {},
   "duration": 5.865731,
   "end_time": "2024-02-14T14:04:10.279300",
   "environment_variables": {},
   "exception": null,
   "input_path": "__notebook__.ipynb",
   "output_path": "__notebook__.ipynb",
   "parameters": {},
   "start_time": "2024-02-14T14:04:04.413569",
   "version": "2.5.0"
  }
 },
 "nbformat": 4,
 "nbformat_minor": 5
}
