{
 "cells": [
  {
   "cell_type": "markdown",
   "metadata": {
    "slideshow": {
     "slide_type": "slide"
    }
   },
   "source": [
    "# **Conditional expressions**"
   ]
  },
  {
   "cell_type": "markdown",
   "metadata": {},
   "source": [
    "> **Key skills demonstrated**\n",
    "> - **if**, **elif**, **else** statements\n",
    "> - for loop\n",
    "> - f-string\n",
    ">\n",
    ">\n",
    "> **Methods & Functions used**\\\n",
    ">\\\n",
    ">`.format()` `f-string` `len()` \n",
    "> `round()` `.append()`"
   ]
  },
  {
   "cell_type": "markdown",
   "metadata": {},
   "source": [
    "***"
   ]
  },
  {
   "cell_type": "markdown",
   "metadata": {
    "slideshow": {
     "slide_type": "slide"
    }
   },
   "source": [
    "## **Creating an '*if*' statement**\n",
    "\n",
    "- Two different methods. `.format()` and `f-string`"
   ]
  },
  {
   "cell_type": "code",
   "execution_count": 62,
   "metadata": {
    "slideshow": {
     "slide_type": "slide"
    }
   },
   "outputs": [
    {
     "name": "stdout",
     "output_type": "stream",
     "text": [
      "You are not allowed in\n",
      "Come back in 8 years\n"
     ]
    }
   ],
   "source": [
    "#.format()\n",
    "\n",
    "age = 10        # Create an 'age' variable\n",
    "min_age = 18    # Create a 'minimum age' variable\n",
    "\n",
    "if age < min_age:\n",
    "    print('You are not allowed in')\n",
    "    txt = f\"Come back in {min_age - age} years\"\n",
    "    print(txt)"
   ]
  },
  {
   "cell_type": "markdown",
   "metadata": {},
   "source": [
    "***"
   ]
  },
  {
   "cell_type": "markdown",
   "metadata": {},
   "source": [
    "## **An '*if... else...*' statement**"
   ]
  },
  {
   "cell_type": "markdown",
   "metadata": {
    "slideshow": {
     "slide_type": "slide"
    }
   },
   "source": [
    "**Assigning 'Dave' to the variable `name`, and '19' to the variable `age`**"
   ]
  },
  {
   "cell_type": "code",
   "execution_count": 9,
   "metadata": {
    "slideshow": {
     "slide_type": "slide"
    }
   },
   "outputs": [],
   "source": [
    "name = 'Dave'\n",
    "age = 19"
   ]
  },
  {
   "cell_type": "markdown",
   "metadata": {
    "slideshow": {
     "slide_type": "slide"
    }
   },
   "source": [
    "**Making it more complex now** \n",
    "- If the person is <u>below</u> the minimum age they will receive a certain message saying to come back in X years.\n",
    "- If the persion is <u>above</u> the minimum age, they will receive a personalised message welcoming them."
   ]
  },
  {
   "cell_type": "code",
   "execution_count": 10,
   "metadata": {
    "slideshow": {
     "slide_type": "slide"
    }
   },
   "outputs": [
    {
     "name": "stdout",
     "output_type": "stream",
     "text": [
      "Welcome, Dave\n"
     ]
    }
   ],
   "source": [
    "if age < min_age:\n",
    "    print('You are not allowed in')\n",
    "    txt = f\"Come back in {min_age - age} years\"   #using f sting\n",
    "    print(txt)\n",
    "    \n",
    "else:\n",
    "    age >= min_age\n",
    "    print(f'Welcome, {name}')\n",
    "    "
   ]
  },
  {
   "cell_type": "markdown",
   "metadata": {},
   "source": [
    "***"
   ]
  },
  {
   "cell_type": "markdown",
   "metadata": {
    "slideshow": {
     "slide_type": "slide"
    }
   },
   "source": [
    "# For loops"
   ]
  },
  {
   "cell_type": "markdown",
   "metadata": {
    "slideshow": {
     "slide_type": "slide"
    }
   },
   "source": [
    "**Creating`ages`, `names` and `details` variables...**"
   ]
  },
  {
   "cell_type": "code",
   "execution_count": 12,
   "metadata": {
    "slideshow": {
     "slide_type": "slide"
    }
   },
   "outputs": [],
   "source": [
    "ages = [17, 22, 14, 55, 23, 19, 16, 21, 33, 42, 25]\n",
    "names = ['John', 'Mandy', 'Siri', 'Robert', 'Saul', 'Paulina', 'Fay', 'Mahmood', 'Ben', 'Angela', 'Vicky']\n",
    "details = list(zip(names, ages))   # Creating a list of tuples: names with ages  "
   ]
  },
  {
   "cell_type": "markdown",
   "metadata": {},
   "source": [
    "**Iterating through `details` in a for loop**"
   ]
  },
  {
   "cell_type": "code",
   "execution_count": 15,
   "metadata": {
    "scrolled": true
   },
   "outputs": [
    {
     "name": "stdout",
     "output_type": "stream",
     "text": [
      "('Mandy', 22)\n",
      "('Robert', 55)\n",
      "('Saul', 23)\n",
      "('Paulina', 19)\n",
      "('Mahmood', 21)\n",
      "('Ben', 33)\n",
      "('Angela', 42)\n",
      "('Vicky', 25)\n"
     ]
    }
   ],
   "source": [
    "min_age = 18\n",
    "for person in details:\n",
    "    if person[1] >= 18:   #person and indexing into the 1 position of details\n",
    "        print(person)\n"
   ]
  },
  {
   "cell_type": "markdown",
   "metadata": {},
   "source": [
    "**Changing what the for loop searches for. Name begins with S and if they are above 18 years old**"
   ]
  },
  {
   "cell_type": "code",
   "execution_count": 16,
   "metadata": {},
   "outputs": [
    {
     "name": "stdout",
     "output_type": "stream",
     "text": [
      "('Saul', 23)\n"
     ]
    }
   ],
   "source": [
    "for person in details:\n",
    "    name = person[0]\n",
    "    if name[0] == 'S':      #If persons name begins with S\n",
    "        if person[1] > 18:  #If person's age is above 18\n",
    "            print(person)   #Depending on the conditions, return the value"
   ]
  },
  {
   "cell_type": "markdown",
   "metadata": {
    "slideshow": {
     "slide_type": "slide"
    }
   },
   "source": [
    "**Using a for loop to count the number of `ages` present.**\n"
   ]
  },
  {
   "cell_type": "code",
   "execution_count": 19,
   "metadata": {},
   "outputs": [
    {
     "data": {
      "text/plain": [
       "11"
      ]
     },
     "execution_count": 19,
     "metadata": {},
     "output_type": "execute_result"
    }
   ],
   "source": [
    "len(ages) # < The outcome should match this"
   ]
  },
  {
   "cell_type": "code",
   "execution_count": 20,
   "metadata": {
    "slideshow": {
     "slide_type": "slide"
    }
   },
   "outputs": [
    {
     "name": "stdout",
     "output_type": "stream",
     "text": [
      "The number of ages in the list is 11\n"
     ]
    }
   ],
   "source": [
    "counter = 0      # Create a variable with 0 assigned\n",
    "\n",
    "for age in ages:\n",
    "    counter = counter + 1     # Add 1 for every age\n",
    "\n",
    "print(f'The number of ages in the list is {counter}')   # Presented in an f string"
   ]
  },
  {
   "cell_type": "markdown",
   "metadata": {
    "slideshow": {
     "slide_type": "slide"
    }
   },
   "source": [
    "**Using a for loop to count the number of `names` present.**\n"
   ]
  },
  {
   "cell_type": "code",
   "execution_count": 21,
   "metadata": {},
   "outputs": [
    {
     "data": {
      "text/plain": [
       "11"
      ]
     },
     "execution_count": 21,
     "metadata": {},
     "output_type": "execute_result"
    }
   ],
   "source": [
    "len(names) # < The outcome should match this"
   ]
  },
  {
   "cell_type": "code",
   "execution_count": 22,
   "metadata": {},
   "outputs": [
    {
     "name": "stdout",
     "output_type": "stream",
     "text": [
      "The number of names in the list is 11\n"
     ]
    }
   ],
   "source": [
    "counter_names = 0\n",
    "\n",
    "for name in names:\n",
    "    counter_names = counter_names + 1\n",
    "\n",
    "print(f'The number of names in the list is {counter_names}')"
   ]
  },
  {
   "cell_type": "markdown",
   "metadata": {},
   "source": [
    "**Iterating through 'details'. If the person's age is below the minimum age (18), then the system tells us** '*{name} is too young*'**.**"
   ]
  },
  {
   "cell_type": "code",
   "execution_count": 24,
   "metadata": {},
   "outputs": [
    {
     "name": "stdout",
     "output_type": "stream",
     "text": [
      "John is too young.\n",
      "Siri is too young.\n",
      "Fay is too young.\n"
     ]
    }
   ],
   "source": [
    "for name, age in details:\n",
    "    if age < min_age:\n",
    "        print(f'{name} is too young.')"
   ]
  },
  {
   "cell_type": "markdown",
   "metadata": {},
   "source": [
    "***"
   ]
  },
  {
   "cell_type": "markdown",
   "metadata": {},
   "source": [
    "## '*if... elif... else*' statements"
   ]
  },
  {
   "cell_type": "markdown",
   "metadata": {
    "slideshow": {
     "slide_type": "slide"
    }
   },
   "source": [
    "**Now, let's explore `if/elif/else` statements that compare the number of ages and the number of names**  \n",
    "\n",
    "- If the two values are the same the code should produce **'There are the same number of ages and names'**\n",
    "- otherwise it should produce **'There are fewer ages than names'** or **'There are fewer names than ages'**, depending on which is the case"
   ]
  },
  {
   "cell_type": "markdown",
   "metadata": {},
   "source": [
    "As we saw earlier: \n",
    "- The number of `ages` in the list is 11. > This is assigned to the variable **`counter`**.\n",
    "- The number of `names` in the list is 11. > This is assigned to the variable **`counter_names`**.\n"
   ]
  },
  {
   "cell_type": "code",
   "execution_count": 31,
   "metadata": {},
   "outputs": [
    {
     "name": "stdout",
     "output_type": "stream",
     "text": [
      "Same number of ages and names\n"
     ]
    }
   ],
   "source": [
    "if counter == counter_names:    # If count (of age) is equal to the count (of names), print the statement\n",
    "    print('Same number of ages and names')\n",
    "    \n",
    "elif counter > counter_names:   # Elif there are more ages than names, print 'More ages'\n",
    "        print('More Ages')\n",
    "else:\n",
    "    print('More Names')         # Else, print 'More Names'."
   ]
  },
  {
   "cell_type": "markdown",
   "metadata": {
    "slideshow": {
     "slide_type": "slide"
    }
   },
   "source": [
    "**Using a `for` loop to iterate through each tuple in `details`** \n",
    "- Where the `age` value in tuple is less than `min_age`, print **'`{name}` is too young'**\n",
    "- `{name}` is the `name` value appearing in the tuple"
   ]
  },
  {
   "cell_type": "code",
   "execution_count": 32,
   "metadata": {
    "slideshow": {
     "slide_type": "slide"
    }
   },
   "outputs": [
    {
     "name": "stdout",
     "output_type": "stream",
     "text": [
      "17 : John is too YOUNG\n",
      "22 : Mandy can ENTER\n",
      "14 : Siri is too YOUNG\n",
      "55 : Robert can ENTER\n",
      "23 : Saul can ENTER\n",
      "19 : Paulina can ENTER\n",
      "16 : Fay is too YOUNG\n",
      "21 : Mahmood can ENTER\n",
      "33 : Ben can ENTER\n",
      "42 : Angela can ENTER\n",
      "25 : Vicky can ENTER\n"
     ]
    }
   ],
   "source": [
    "for name, age in details:\n",
    "    if age < min_age:\n",
    "        print(f'{age} : {name} is too YOUNG')\n",
    "    \n",
    "    else:\n",
    "        print(f'{age} : {name} can ENTER')"
   ]
  },
  {
   "cell_type": "markdown",
   "metadata": {
    "slideshow": {
     "slide_type": "slide"
    }
   },
   "source": [
    "**Let's say I want to know precisely who is too young, but just want a general number of who can attend**  \n",
    "\n",
    "- I create a variable, `number`, before the `for` loop and set its value to `0`\n",
    "- Next, add a further statement to the `for` loop to count the number of people who are not too young (this is captured by the variable `number`)\n",
    "- `print` a final statement **'The number of people who can attend is `{number}`'**\n"
   ]
  },
  {
   "cell_type": "code",
   "execution_count": 34,
   "metadata": {},
   "outputs": [
    {
     "name": "stdout",
     "output_type": "stream",
     "text": [
      "17 : John is too YOUNG\n",
      "14 : Siri is too YOUNG\n",
      "16 : Fay is too YOUNG\n",
      "The number of people who can attend is 8\n"
     ]
    }
   ],
   "source": [
    "number_attending = 0\n",
    "\n",
    "for name, age in details:\n",
    "    if age < min_age:\n",
    "        print(f'{age} : {name} is too YOUNG')\n",
    "        \n",
    "    else:\n",
    "        number_attending += 1\n",
    "\n",
    "print(f'The number of people who can attend is {number_attending}')"
   ]
  },
  {
   "cell_type": "markdown",
   "metadata": {
    "slideshow": {
     "slide_type": "slide"
    }
   },
   "source": [
    "**It is more convenient though to print out a single list of those who are too young, and those who aren't.** \n",
    "\n",
    "- I've created two empty lists called `refused` and `inside` respectively.\n",
    "- I then loop through `details` and use `.append()` to add the person's `name` to `refused` list if they are too young, and to `inside` list otherwise. \n",
    "- Finally, it will `Print` out both lists"
   ]
  },
  {
   "cell_type": "code",
   "execution_count": 36,
   "metadata": {},
   "outputs": [
    {
     "name": "stdout",
     "output_type": "stream",
     "text": [
      "Refused: ['John', 'Siri', 'Fay']\n",
      "Inside: ['Mandy', 'Robert', 'Saul', 'Paulina', 'Mahmood', 'Ben', 'Angela', 'Vicky']\n"
     ]
    }
   ],
   "source": [
    "refused = []\n",
    "inside = []\n",
    "\n",
    "for name, age in details:     #Need to detail both values: name, age\n",
    "    if age < min_age:         #You need to define age, so you can ask if it's lower than min_age (18)\n",
    "        refused.append(name)  #append 'refused' variable with names of people that are too young\n",
    "        \n",
    "    else:                     #Else, \n",
    "        inside.append(name)   #append 'inside' variable with names of people that are old enough\n",
    "\n",
    "print('Refused:', refused)\n",
    "print('Inside:', inside)"
   ]
  },
  {
   "cell_type": "markdown",
   "metadata": {
    "slideshow": {
     "slide_type": "slide"
    }
   },
   "source": [
    "**Calculating the percentage of all people from 'details' who are on the `inside` list.** \n"
   ]
  },
  {
   "cell_type": "code",
   "execution_count": 56,
   "metadata": {
    "slideshow": {
     "slide_type": "slide"
    }
   },
   "outputs": [
    {
     "name": "stdout",
     "output_type": "stream",
     "text": [
      "73% of people are inside\n"
     ]
    }
   ],
   "source": [
    "print(f'{round((len(inside) / len(details) * 100))}% of people are inside')"
   ]
  },
  {
   "cell_type": "markdown",
   "metadata": {},
   "source": [
    "***"
   ]
  },
  {
   "cell_type": "markdown",
   "metadata": {
    "slideshow": {
     "slide_type": "slide"
    }
   },
   "source": [
    "## **What if the venue is at capacity and a queue starts to form?** \n",
    "\n",
    "- Setting the venue `capacity` to the value 5, and create an empty list, `reserves`, for those who are eligible, ie, over `min_age`, but for whom there is not enough room."
   ]
  },
  {
   "cell_type": "code",
   "execution_count": 63,
   "metadata": {
    "slideshow": {
     "slide_type": "slide"
    }
   },
   "outputs": [
    {
     "name": "stdout",
     "output_type": "stream",
     "text": [
      "Inside: ['Mandy', 'Robert', 'Saul', 'Paulina', 'Mahmood']\n",
      "Reserves: ['Ben', 'Angela', 'Vicky']\n",
      "Refused: ['John', 'Siri', 'Fay']\n"
     ]
    }
   ],
   "source": [
    "# Create the blank lists\n",
    "capacity = 5\n",
    "inside = []\n",
    "reserves = []\n",
    "refused = []\n",
    "\n",
    "# For loop\n",
    "for name, age in details:     \n",
    "            \n",
    "    if age >= min_age and len(inside) < capacity:\n",
    "        inside.append(name)                          # Add the name to the 'inside' list if vebue is not yet at capacity\n",
    "        \n",
    "    elif age >= min_age and len(inside) >= capacity:            \n",
    "        reserves.append(name)                        # Add the name to the 'reserve' list if venue is at capacity but person is eligible\n",
    "\n",
    "    else: \n",
    "        age < min_age\n",
    "        refused.append(name)                         # Add the name to the 'refused' list\n",
    "    \n",
    "print('Inside:', inside)\n",
    "print('Reserves:', reserves)\n",
    "print('Refused:', refused)"
   ]
  },
  {
   "cell_type": "code",
   "execution_count": null,
   "metadata": {},
   "outputs": [],
   "source": []
  }
 ],
 "metadata": {
  "kernelspec": {
   "display_name": "Python 3 (ipykernel)",
   "language": "python",
   "name": "python3"
  },
  "language_info": {
   "codemirror_mode": {
    "name": "ipython",
    "version": 3
   },
   "file_extension": ".py",
   "mimetype": "text/x-python",
   "name": "python",
   "nbconvert_exporter": "python",
   "pygments_lexer": "ipython3",
   "version": "3.11.5"
  }
 },
 "nbformat": 4,
 "nbformat_minor": 4
}
