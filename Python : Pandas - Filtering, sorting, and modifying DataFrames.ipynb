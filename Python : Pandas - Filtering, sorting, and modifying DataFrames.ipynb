{
 "cells": [
  {
   "cell_type": "markdown",
   "id": "dd178da0",
   "metadata": {
    "slideshow": {
     "slide_type": "slide"
    }
   },
   "source": [
    "## **Pandas - Filtering, sorting, and modifying DataFrames**"
   ]
  },
  {
   "cell_type": "markdown",
   "id": "6f12dee0",
   "metadata": {},
   "source": [
    "> **Key skills demonstrated**\n",
    "> - Defining functions\n",
    "> - Creating new columns in a DataFrame\n",
    "> - Filtering a DataFrame\n",
    "> - **if** and **else** statement\n",
    ">\n",
    ">\n",
    "> **Methods & Functions used**\\\n",
    ">\\\n",
    ">`.read_csv()` `.sample()` `.set_index()` `inplace=True` `.drop()` `.mean()` \\\n",
    ">`.head()` `.value_counts()` `.loc` `.dtypes()` `.copy()` `round()` \n"
   ]
  },
  {
   "cell_type": "markdown",
   "id": "a4fedddd",
   "metadata": {},
   "source": [
    "***"
   ]
  },
  {
   "cell_type": "markdown",
   "id": "195610df",
   "metadata": {
    "slideshow": {
     "slide_type": "slide"
    }
   },
   "source": [
    "Import Pandas"
   ]
  },
  {
   "cell_type": "code",
   "execution_count": 1,
   "id": "4e356023",
   "metadata": {
    "slideshow": {
     "slide_type": "slide"
    }
   },
   "outputs": [],
   "source": [
    "import pandas as pd         #Library for analysing and manipulating data "
   ]
  },
  {
   "cell_type": "markdown",
   "id": "685c8659",
   "metadata": {},
   "source": [
    "***"
   ]
  },
  {
   "cell_type": "markdown",
   "id": "fca04c14",
   "metadata": {
    "slideshow": {
     "slide_type": "slide"
    }
   },
   "source": [
    "Importing the file `libraries.csv`, assigning the result to `df`:"
   ]
  },
  {
   "cell_type": "code",
   "execution_count": 3,
   "id": "00ff7150",
   "metadata": {
    "slideshow": {
     "slide_type": "slide"
    }
   },
   "outputs": [
    {
     "data": {
      "text/html": [
       "<div>\n",
       "<style scoped>\n",
       "    .dataframe tbody tr th:only-of-type {\n",
       "        vertical-align: middle;\n",
       "    }\n",
       "\n",
       "    .dataframe tbody tr th {\n",
       "        vertical-align: top;\n",
       "    }\n",
       "\n",
       "    .dataframe thead th {\n",
       "        text-align: right;\n",
       "    }\n",
       "</style>\n",
       "<table border=\"1\" class=\"dataframe\">\n",
       "  <thead>\n",
       "    <tr style=\"text-align: right;\">\n",
       "      <th></th>\n",
       "      <th>Library service</th>\n",
       "      <th>Library name</th>\n",
       "      <th>In use 2010</th>\n",
       "      <th>In use 2016</th>\n",
       "      <th>Type of library</th>\n",
       "      <th>Type of closed library</th>\n",
       "      <th>Closed</th>\n",
       "      <th>New building</th>\n",
       "      <th>Replace existing</th>\n",
       "      <th>Notes</th>\n",
       "      <th>Weekly hours open</th>\n",
       "      <th>Weekly hours staffed</th>\n",
       "    </tr>\n",
       "  </thead>\n",
       "  <tbody>\n",
       "    <tr>\n",
       "      <th>637</th>\n",
       "      <td>Derbyshire</td>\n",
       "      <td>Bolsover</td>\n",
       "      <td>yes</td>\n",
       "      <td>yes</td>\n",
       "      <td>LAL</td>\n",
       "      <td>NaN</td>\n",
       "      <td>NaN</td>\n",
       "      <td>NaN</td>\n",
       "      <td>NaN</td>\n",
       "      <td>NaN</td>\n",
       "      <td>49.0</td>\n",
       "      <td>49.0</td>\n",
       "    </tr>\n",
       "  </tbody>\n",
       "</table>\n",
       "</div>"
      ],
      "text/plain": [
       "    Library service Library name In use 2010 In use 2016 Type of library  \\\n",
       "637      Derbyshire     Bolsover         yes         yes             LAL   \n",
       "\n",
       "    Type of closed library Closed New building Replace existing Notes  \\\n",
       "637                    NaN    NaN          NaN              NaN   NaN   \n",
       "\n",
       "     Weekly hours open  Weekly hours staffed  \n",
       "637               49.0                  49.0  "
      ]
     },
     "execution_count": 3,
     "metadata": {},
     "output_type": "execute_result"
    }
   ],
   "source": [
    "df = pd.read_csv('/home/tmbillington/Portfolio/Data/libraries.csv')\n",
    "df.sample(1)"
   ]
  },
  {
   "cell_type": "markdown",
   "id": "fbf73ff1",
   "metadata": {
    "slideshow": {
     "slide_type": "slide"
    }
   },
   "source": [
    "Using `.set_index()` method to use the values from the `Library name` column as the index of `df`, using the parameter `inplace=True`:"
   ]
  },
  {
   "cell_type": "code",
   "execution_count": 4,
   "id": "2f3a9688",
   "metadata": {
    "slideshow": {
     "slide_type": "slide"
    }
   },
   "outputs": [],
   "source": [
    "df.set_index('Library name', inplace = True)"
   ]
  },
  {
   "cell_type": "code",
   "execution_count": 5,
   "id": "d1aec877",
   "metadata": {},
   "outputs": [
    {
     "data": {
      "text/html": [
       "<div>\n",
       "<style scoped>\n",
       "    .dataframe tbody tr th:only-of-type {\n",
       "        vertical-align: middle;\n",
       "    }\n",
       "\n",
       "    .dataframe tbody tr th {\n",
       "        vertical-align: top;\n",
       "    }\n",
       "\n",
       "    .dataframe thead th {\n",
       "        text-align: right;\n",
       "    }\n",
       "</style>\n",
       "<table border=\"1\" class=\"dataframe\">\n",
       "  <thead>\n",
       "    <tr style=\"text-align: right;\">\n",
       "      <th></th>\n",
       "      <th>Library service</th>\n",
       "      <th>In use 2010</th>\n",
       "      <th>In use 2016</th>\n",
       "      <th>Type of library</th>\n",
       "      <th>Type of closed library</th>\n",
       "      <th>Closed</th>\n",
       "      <th>New building</th>\n",
       "      <th>Replace existing</th>\n",
       "      <th>Notes</th>\n",
       "      <th>Weekly hours open</th>\n",
       "      <th>Weekly hours staffed</th>\n",
       "    </tr>\n",
       "    <tr>\n",
       "      <th>Library name</th>\n",
       "      <th></th>\n",
       "      <th></th>\n",
       "      <th></th>\n",
       "      <th></th>\n",
       "      <th></th>\n",
       "      <th></th>\n",
       "      <th></th>\n",
       "      <th></th>\n",
       "      <th></th>\n",
       "      <th></th>\n",
       "      <th></th>\n",
       "    </tr>\n",
       "  </thead>\n",
       "  <tbody>\n",
       "    <tr>\n",
       "      <th>Barking</th>\n",
       "      <td>Barking and Dagenham</td>\n",
       "      <td>Yes</td>\n",
       "      <td>Yes</td>\n",
       "      <td>LAL</td>\n",
       "      <td>NaN</td>\n",
       "      <td>NaN</td>\n",
       "      <td>NaN</td>\n",
       "      <td>NaN</td>\n",
       "      <td>NaN</td>\n",
       "      <td>72.0</td>\n",
       "      <td>72.0</td>\n",
       "    </tr>\n",
       "  </tbody>\n",
       "</table>\n",
       "</div>"
      ],
      "text/plain": [
       "                   Library service In use 2010 In use 2016 Type of library  \\\n",
       "Library name                                                                 \n",
       "Barking       Barking and Dagenham         Yes         Yes             LAL   \n",
       "\n",
       "             Type of closed library Closed New building Replace existing  \\\n",
       "Library name                                                               \n",
       "Barking                         NaN    NaN          NaN              NaN   \n",
       "\n",
       "             Notes  Weekly hours open  Weekly hours staffed  \n",
       "Library name                                                 \n",
       "Barking        NaN               72.0                  72.0  "
      ]
     },
     "execution_count": 5,
     "metadata": {},
     "output_type": "execute_result"
    }
   ],
   "source": [
    "df.head(1)"
   ]
  },
  {
   "cell_type": "markdown",
   "id": "dabca4b2",
   "metadata": {},
   "source": [
    "***"
   ]
  },
  {
   "cell_type": "markdown",
   "id": "83323364",
   "metadata": {
    "slideshow": {
     "slide_type": "slide"
    }
   },
   "source": [
    "Using `.drop()` method to remove the `Notes` column:\n",
    "- `axis=1` to specify it is a column\n",
    "- `inplace=True` to make the change permanant"
   ]
  },
  {
   "cell_type": "code",
   "execution_count": 6,
   "id": "3fd5b716",
   "metadata": {
    "slideshow": {
     "slide_type": "slide"
    }
   },
   "outputs": [],
   "source": [
    "df.drop('Notes', axis = 1, inplace = True)"
   ]
  },
  {
   "cell_type": "code",
   "execution_count": 7,
   "id": "667e2f61",
   "metadata": {},
   "outputs": [
    {
     "data": {
      "text/html": [
       "<div>\n",
       "<style scoped>\n",
       "    .dataframe tbody tr th:only-of-type {\n",
       "        vertical-align: middle;\n",
       "    }\n",
       "\n",
       "    .dataframe tbody tr th {\n",
       "        vertical-align: top;\n",
       "    }\n",
       "\n",
       "    .dataframe thead th {\n",
       "        text-align: right;\n",
       "    }\n",
       "</style>\n",
       "<table border=\"1\" class=\"dataframe\">\n",
       "  <thead>\n",
       "    <tr style=\"text-align: right;\">\n",
       "      <th></th>\n",
       "      <th>Library service</th>\n",
       "      <th>In use 2010</th>\n",
       "      <th>In use 2016</th>\n",
       "      <th>Type of library</th>\n",
       "      <th>Type of closed library</th>\n",
       "      <th>Closed</th>\n",
       "      <th>New building</th>\n",
       "      <th>Replace existing</th>\n",
       "      <th>Weekly hours open</th>\n",
       "      <th>Weekly hours staffed</th>\n",
       "    </tr>\n",
       "    <tr>\n",
       "      <th>Library name</th>\n",
       "      <th></th>\n",
       "      <th></th>\n",
       "      <th></th>\n",
       "      <th></th>\n",
       "      <th></th>\n",
       "      <th></th>\n",
       "      <th></th>\n",
       "      <th></th>\n",
       "      <th></th>\n",
       "      <th></th>\n",
       "    </tr>\n",
       "  </thead>\n",
       "  <tbody>\n",
       "    <tr>\n",
       "      <th>Barking</th>\n",
       "      <td>Barking and Dagenham</td>\n",
       "      <td>Yes</td>\n",
       "      <td>Yes</td>\n",
       "      <td>LAL</td>\n",
       "      <td>NaN</td>\n",
       "      <td>NaN</td>\n",
       "      <td>NaN</td>\n",
       "      <td>NaN</td>\n",
       "      <td>72.0</td>\n",
       "      <td>72.0</td>\n",
       "    </tr>\n",
       "  </tbody>\n",
       "</table>\n",
       "</div>"
      ],
      "text/plain": [
       "                   Library service In use 2010 In use 2016 Type of library  \\\n",
       "Library name                                                                 \n",
       "Barking       Barking and Dagenham         Yes         Yes             LAL   \n",
       "\n",
       "             Type of closed library Closed New building Replace existing  \\\n",
       "Library name                                                               \n",
       "Barking                         NaN    NaN          NaN              NaN   \n",
       "\n",
       "              Weekly hours open  Weekly hours staffed  \n",
       "Library name                                           \n",
       "Barking                    72.0                  72.0  "
      ]
     },
     "execution_count": 7,
     "metadata": {},
     "output_type": "execute_result"
    }
   ],
   "source": [
    "df.head(1)"
   ]
  },
  {
   "cell_type": "markdown",
   "id": "bd743acb",
   "metadata": {},
   "source": [
    "***"
   ]
  },
  {
   "cell_type": "markdown",
   "id": "94213272",
   "metadata": {},
   "source": [
    "## **Creating a function**"
   ]
  },
  {
   "cell_type": "markdown",
   "id": "ea3d9ff6",
   "metadata": {
    "slideshow": {
     "slide_type": "slide"
    }
   },
   "source": [
    "The cell below defines a function called `open_2016`. This function takes two parameters called `data` and `name`. \n",
    "\n",
    "The function takes these two parameters and returns the value in the `In use 2016` column for the row whose index is equal to `name` using the `.loc` method."
   ]
  },
  {
   "cell_type": "code",
   "execution_count": 8,
   "id": "af6dd9e4",
   "metadata": {
    "slideshow": {
     "slide_type": "slide"
    }
   },
   "outputs": [],
   "source": [
    "def open_2016(data, name):\n",
    "    \n",
    "    val = data.loc[name, 'In use 2016']\n",
    "    \n",
    "    return val "
   ]
  },
  {
   "cell_type": "markdown",
   "id": "0b934f7c",
   "metadata": {
    "slideshow": {
     "slide_type": "slide"
    }
   },
   "source": [
    "This function goes to the **'In use 2016'** column and returns the boolean result."
   ]
  },
  {
   "cell_type": "code",
   "execution_count": 9,
   "id": "96751975",
   "metadata": {
    "slideshow": {
     "slide_type": "slide"
    }
   },
   "outputs": [
    {
     "name": "stdout",
     "output_type": "stream",
     "text": [
      "Yes\n",
      "No\n",
      "Yes\n"
     ]
    }
   ],
   "source": [
    "print(open_2016(df, 'Barking'))\n",
    "print(open_2016(df, 'Fanshawe'))\n",
    "print(open_2016(df, 'Marks Gate'))"
   ]
  },
  {
   "cell_type": "markdown",
   "id": "99e65859",
   "metadata": {},
   "source": [
    "***"
   ]
  },
  {
   "cell_type": "markdown",
   "id": "8ff83fc8",
   "metadata": {},
   "source": [
    "## **Working with the data**"
   ]
  },
  {
   "cell_type": "markdown",
   "id": "29139a3b",
   "metadata": {
    "slideshow": {
     "slide_type": "slide"
    }
   },
   "source": [
    "Using the `.value_counts()` method on `df['In use 2010']` column to see what different values there are in that column:"
   ]
  },
  {
   "cell_type": "code",
   "execution_count": 51,
   "id": "9d53dc19",
   "metadata": {
    "slideshow": {
     "slide_type": "slide"
    }
   },
   "outputs": [
    {
     "data": {
      "text/plain": [
       "In use 2010\n",
       "yes    2807\n",
       "Yes     256\n",
       "no      163\n",
       "No       49\n",
       "Name: count, dtype: int64"
      ]
     },
     "execution_count": 51,
     "metadata": {},
     "output_type": "execute_result"
    }
   ],
   "source": [
    "df['In use 2010'].value_counts()"
   ]
  },
  {
   "cell_type": "markdown",
   "id": "d164e71a",
   "metadata": {
    "slideshow": {
     "slide_type": "slide"
    }
   },
   "source": [
    "In the cell below, a function called `is_open()` has been defined, which take a single value and returns a boolean value as follows:\n",
    "- `True` if the value equals `'yes'` or `'Yes'`\n",
    "- `False` for any other value"
   ]
  },
  {
   "cell_type": "code",
   "execution_count": 53,
   "id": "2f62fa3b",
   "metadata": {
    "slideshow": {
     "slide_type": "slide"
    }
   },
   "outputs": [],
   "source": [
    "def is_open(entry):\n",
    "    \n",
    "    if entry in ['yes', 'Yes']:\n",
    "        return True\n",
    "    else:\n",
    "        return False"
   ]
  },
  {
   "cell_type": "markdown",
   "id": "9b2b8500",
   "metadata": {
    "slideshow": {
     "slide_type": "slide"
    }
   },
   "source": [
    "The following cell contains some examples that allow us to test the logic in our function:"
   ]
  },
  {
   "cell_type": "code",
   "execution_count": 55,
   "id": "06f0137d",
   "metadata": {
    "slideshow": {
     "slide_type": "slide"
    }
   },
   "outputs": [
    {
     "data": {
      "text/plain": [
       "(False, True, False, True)"
      ]
     },
     "execution_count": 55,
     "metadata": {},
     "output_type": "execute_result"
    }
   ],
   "source": [
    "is_open('No'), is_open('yes'), is_open('no'), is_open('Yes')"
   ]
  },
  {
   "cell_type": "markdown",
   "id": "fc78c8f3",
   "metadata": {
    "slideshow": {
     "slide_type": "slide"
    }
   },
   "source": [
    "Using the `.apply()` method with the `is_open()` function and each of the columns `In use 2010` and `In use 2016`, new columns called `open_2010` and `open_2016` are created, each containing Boolean values returned by the function:**"
   ]
  },
  {
   "cell_type": "code",
   "execution_count": 57,
   "id": "1a41164b",
   "metadata": {
    "slideshow": {
     "slide_type": "slide"
    }
   },
   "outputs": [],
   "source": [
    "df['open_2010'] = df['In use 2010'].apply(is_open)\n",
    "df['open_2016'] = df['In use 2016'].apply(is_open)"
   ]
  },
  {
   "cell_type": "code",
   "execution_count": 61,
   "id": "a4a22c72",
   "metadata": {},
   "outputs": [
    {
     "data": {
      "text/html": [
       "<div>\n",
       "<style scoped>\n",
       "    .dataframe tbody tr th:only-of-type {\n",
       "        vertical-align: middle;\n",
       "    }\n",
       "\n",
       "    .dataframe tbody tr th {\n",
       "        vertical-align: top;\n",
       "    }\n",
       "\n",
       "    .dataframe thead th {\n",
       "        text-align: right;\n",
       "    }\n",
       "</style>\n",
       "<table border=\"1\" class=\"dataframe\">\n",
       "  <thead>\n",
       "    <tr style=\"text-align: right;\">\n",
       "      <th></th>\n",
       "      <th>Library service</th>\n",
       "      <th>In use 2010</th>\n",
       "      <th>In use 2016</th>\n",
       "      <th>Type of library</th>\n",
       "      <th>Type of closed library</th>\n",
       "      <th>Closed</th>\n",
       "      <th>New building</th>\n",
       "      <th>Replace existing</th>\n",
       "      <th>Weekly hours open</th>\n",
       "      <th>Weekly hours staffed</th>\n",
       "      <th>open_2010</th>\n",
       "      <th>open_2016</th>\n",
       "    </tr>\n",
       "    <tr>\n",
       "      <th>Library name</th>\n",
       "      <th></th>\n",
       "      <th></th>\n",
       "      <th></th>\n",
       "      <th></th>\n",
       "      <th></th>\n",
       "      <th></th>\n",
       "      <th></th>\n",
       "      <th></th>\n",
       "      <th></th>\n",
       "      <th></th>\n",
       "      <th></th>\n",
       "      <th></th>\n",
       "    </tr>\n",
       "  </thead>\n",
       "  <tbody>\n",
       "    <tr>\n",
       "      <th>Barking</th>\n",
       "      <td>Barking and Dagenham</td>\n",
       "      <td>Yes</td>\n",
       "      <td>Yes</td>\n",
       "      <td>LAL</td>\n",
       "      <td>NaN</td>\n",
       "      <td>NaN</td>\n",
       "      <td>NaN</td>\n",
       "      <td>NaN</td>\n",
       "      <td>72.0</td>\n",
       "      <td>72.0</td>\n",
       "      <td>True</td>\n",
       "      <td>True</td>\n",
       "    </tr>\n",
       "  </tbody>\n",
       "</table>\n",
       "</div>"
      ],
      "text/plain": [
       "                   Library service In use 2010 In use 2016 Type of library  \\\n",
       "Library name                                                                 \n",
       "Barking       Barking and Dagenham         Yes         Yes             LAL   \n",
       "\n",
       "             Type of closed library Closed New building Replace existing  \\\n",
       "Library name                                                               \n",
       "Barking                         NaN    NaN          NaN              NaN   \n",
       "\n",
       "              Weekly hours open  Weekly hours staffed  open_2010  open_2016  \n",
       "Library name                                                                 \n",
       "Barking                    72.0                  72.0       True       True  "
      ]
     },
     "execution_count": 61,
     "metadata": {},
     "output_type": "execute_result"
    }
   ],
   "source": [
    "df.head(1)"
   ]
  },
  {
   "cell_type": "code",
   "execution_count": 58,
   "id": "53810e0d",
   "metadata": {
    "slideshow": {
     "slide_type": "slide"
    }
   },
   "outputs": [
    {
     "data": {
      "text/plain": [
       "open_2010    bool\n",
       "open_2016    bool\n",
       "dtype: object"
      ]
     },
     "execution_count": 58,
     "metadata": {},
     "output_type": "execute_result"
    }
   ],
   "source": [
    "df[['open_2010', 'open_2016']].dtypes"
   ]
  },
  {
   "cell_type": "code",
   "execution_count": 62,
   "id": "4a16e166",
   "metadata": {},
   "outputs": [
    {
     "data": {
      "text/plain": [
       "(open_2010\n",
       " True     3063\n",
       " False     214\n",
       " Name: count, dtype: int64,\n",
       " open_2016\n",
       " True     2763\n",
       " False     514\n",
       " Name: count, dtype: int64)"
      ]
     },
     "execution_count": 62,
     "metadata": {},
     "output_type": "execute_result"
    }
   ],
   "source": [
    "df['open_2010'].value_counts(), df['open_2016'].value_counts()"
   ]
  },
  {
   "cell_type": "markdown",
   "id": "96a85999",
   "metadata": {
    "slideshow": {
     "slide_type": "slide"
    }
   },
   "source": [
    "I have created a new column in `df` called `open_both`, which contains a Boolean `True` for entries where both `open_2010` and `open_2016` are `True`:"
   ]
  },
  {
   "cell_type": "code",
   "execution_count": 63,
   "id": "01fc6c67",
   "metadata": {
    "slideshow": {
     "slide_type": "slide"
    }
   },
   "outputs": [
    {
     "data": {
      "text/html": [
       "<div>\n",
       "<style scoped>\n",
       "    .dataframe tbody tr th:only-of-type {\n",
       "        vertical-align: middle;\n",
       "    }\n",
       "\n",
       "    .dataframe tbody tr th {\n",
       "        vertical-align: top;\n",
       "    }\n",
       "\n",
       "    .dataframe thead th {\n",
       "        text-align: right;\n",
       "    }\n",
       "</style>\n",
       "<table border=\"1\" class=\"dataframe\">\n",
       "  <thead>\n",
       "    <tr style=\"text-align: right;\">\n",
       "      <th></th>\n",
       "      <th>Library service</th>\n",
       "      <th>In use 2010</th>\n",
       "      <th>In use 2016</th>\n",
       "      <th>Type of library</th>\n",
       "      <th>Type of closed library</th>\n",
       "      <th>Closed</th>\n",
       "      <th>New building</th>\n",
       "      <th>Replace existing</th>\n",
       "      <th>Weekly hours open</th>\n",
       "      <th>Weekly hours staffed</th>\n",
       "      <th>open_2010</th>\n",
       "      <th>open_2016</th>\n",
       "      <th>open_booth</th>\n",
       "    </tr>\n",
       "    <tr>\n",
       "      <th>Library name</th>\n",
       "      <th></th>\n",
       "      <th></th>\n",
       "      <th></th>\n",
       "      <th></th>\n",
       "      <th></th>\n",
       "      <th></th>\n",
       "      <th></th>\n",
       "      <th></th>\n",
       "      <th></th>\n",
       "      <th></th>\n",
       "      <th></th>\n",
       "      <th></th>\n",
       "      <th></th>\n",
       "    </tr>\n",
       "  </thead>\n",
       "  <tbody>\n",
       "    <tr>\n",
       "      <th>Barking</th>\n",
       "      <td>Barking and Dagenham</td>\n",
       "      <td>Yes</td>\n",
       "      <td>Yes</td>\n",
       "      <td>LAL</td>\n",
       "      <td>NaN</td>\n",
       "      <td>NaN</td>\n",
       "      <td>NaN</td>\n",
       "      <td>NaN</td>\n",
       "      <td>72.0</td>\n",
       "      <td>72.0</td>\n",
       "      <td>True</td>\n",
       "      <td>True</td>\n",
       "      <td>True</td>\n",
       "    </tr>\n",
       "    <tr>\n",
       "      <th>Castle Green</th>\n",
       "      <td>Barking and Dagenham</td>\n",
       "      <td>Yes</td>\n",
       "      <td>No</td>\n",
       "      <td>NaN</td>\n",
       "      <td>XL</td>\n",
       "      <td>Mar-13</td>\n",
       "      <td>NaN</td>\n",
       "      <td>NaN</td>\n",
       "      <td>NaN</td>\n",
       "      <td>NaN</td>\n",
       "      <td>True</td>\n",
       "      <td>False</td>\n",
       "      <td>False</td>\n",
       "    </tr>\n",
       "    <tr>\n",
       "      <th>Dagenham</th>\n",
       "      <td>Barking and Dagenham</td>\n",
       "      <td>No</td>\n",
       "      <td>Yes</td>\n",
       "      <td>LAL</td>\n",
       "      <td>NaN</td>\n",
       "      <td>NaN</td>\n",
       "      <td>Oct-10</td>\n",
       "      <td>Yes</td>\n",
       "      <td>56.0</td>\n",
       "      <td>56.0</td>\n",
       "      <td>False</td>\n",
       "      <td>True</td>\n",
       "      <td>False</td>\n",
       "    </tr>\n",
       "  </tbody>\n",
       "</table>\n",
       "</div>"
      ],
      "text/plain": [
       "                   Library service In use 2010 In use 2016 Type of library  \\\n",
       "Library name                                                                 \n",
       "Barking       Barking and Dagenham         Yes         Yes             LAL   \n",
       "Castle Green  Barking and Dagenham         Yes          No             NaN   \n",
       "Dagenham      Barking and Dagenham          No         Yes             LAL   \n",
       "\n",
       "             Type of closed library  Closed New building Replace existing  \\\n",
       "Library name                                                                \n",
       "Barking                         NaN     NaN          NaN              NaN   \n",
       "Castle Green                     XL  Mar-13          NaN              NaN   \n",
       "Dagenham                        NaN     NaN       Oct-10              Yes   \n",
       "\n",
       "              Weekly hours open  Weekly hours staffed  open_2010  open_2016  \\\n",
       "Library name                                                                  \n",
       "Barking                    72.0                  72.0       True       True   \n",
       "Castle Green                NaN                   NaN       True      False   \n",
       "Dagenham                   56.0                  56.0      False       True   \n",
       "\n",
       "              open_booth  \n",
       "Library name              \n",
       "Barking             True  \n",
       "Castle Green       False  \n",
       "Dagenham           False  "
      ]
     },
     "execution_count": 63,
     "metadata": {},
     "output_type": "execute_result"
    }
   ],
   "source": [
    "df['open_booth'] = df['open_2010'] & df['open_2016']\n",
    "df.head(3)"
   ]
  },
  {
   "cell_type": "code",
   "execution_count": 64,
   "id": "33cc5bc8",
   "metadata": {
    "slideshow": {
     "slide_type": "slide"
    }
   },
   "outputs": [
    {
     "data": {
      "text/plain": [
       "open_booth\n",
       "True     2637\n",
       "False     640\n",
       "Name: count, dtype: int64"
      ]
     },
     "execution_count": 64,
     "metadata": {},
     "output_type": "execute_result"
    }
   ],
   "source": [
    "df['open_booth'].value_counts()"
   ]
  },
  {
   "cell_type": "markdown",
   "id": "d1f4ca5b",
   "metadata": {
    "slideshow": {
     "slide_type": "slide"
    }
   },
   "source": [
    "I have assigned to `df_open` a DataFrame containing only entries where `open_both == True`:\n",
    "- I used the `.copy()` method so that `df_open` can be subsequently modified without affecting `df`"
   ]
  },
  {
   "cell_type": "code",
   "execution_count": 67,
   "id": "2d6c8747",
   "metadata": {
    "slideshow": {
     "slide_type": "slide"
    }
   },
   "outputs": [
    {
     "data": {
      "text/html": [
       "<div>\n",
       "<style scoped>\n",
       "    .dataframe tbody tr th:only-of-type {\n",
       "        vertical-align: middle;\n",
       "    }\n",
       "\n",
       "    .dataframe tbody tr th {\n",
       "        vertical-align: top;\n",
       "    }\n",
       "\n",
       "    .dataframe thead th {\n",
       "        text-align: right;\n",
       "    }\n",
       "</style>\n",
       "<table border=\"1\" class=\"dataframe\">\n",
       "  <thead>\n",
       "    <tr style=\"text-align: right;\">\n",
       "      <th></th>\n",
       "      <th>Library service</th>\n",
       "      <th>In use 2010</th>\n",
       "      <th>In use 2016</th>\n",
       "      <th>Type of library</th>\n",
       "      <th>Type of closed library</th>\n",
       "      <th>Closed</th>\n",
       "      <th>New building</th>\n",
       "      <th>Replace existing</th>\n",
       "      <th>Weekly hours open</th>\n",
       "      <th>Weekly hours staffed</th>\n",
       "      <th>open_2010</th>\n",
       "      <th>open_2016</th>\n",
       "      <th>open_booth</th>\n",
       "    </tr>\n",
       "    <tr>\n",
       "      <th>Library name</th>\n",
       "      <th></th>\n",
       "      <th></th>\n",
       "      <th></th>\n",
       "      <th></th>\n",
       "      <th></th>\n",
       "      <th></th>\n",
       "      <th></th>\n",
       "      <th></th>\n",
       "      <th></th>\n",
       "      <th></th>\n",
       "      <th></th>\n",
       "      <th></th>\n",
       "      <th></th>\n",
       "    </tr>\n",
       "  </thead>\n",
       "  <tbody>\n",
       "    <tr>\n",
       "      <th>Barking</th>\n",
       "      <td>Barking and Dagenham</td>\n",
       "      <td>Yes</td>\n",
       "      <td>Yes</td>\n",
       "      <td>LAL</td>\n",
       "      <td>NaN</td>\n",
       "      <td>NaN</td>\n",
       "      <td>NaN</td>\n",
       "      <td>NaN</td>\n",
       "      <td>72.0</td>\n",
       "      <td>72.0</td>\n",
       "      <td>True</td>\n",
       "      <td>True</td>\n",
       "      <td>True</td>\n",
       "    </tr>\n",
       "    <tr>\n",
       "      <th>Marks Gate</th>\n",
       "      <td>Barking and Dagenham</td>\n",
       "      <td>Yes</td>\n",
       "      <td>Yes</td>\n",
       "      <td>CRL</td>\n",
       "      <td>NaN</td>\n",
       "      <td>NaN</td>\n",
       "      <td>NaN</td>\n",
       "      <td>NaN</td>\n",
       "      <td>9.0</td>\n",
       "      <td>9.0</td>\n",
       "      <td>True</td>\n",
       "      <td>True</td>\n",
       "      <td>True</td>\n",
       "    </tr>\n",
       "  </tbody>\n",
       "</table>\n",
       "</div>"
      ],
      "text/plain": [
       "                   Library service In use 2010 In use 2016 Type of library  \\\n",
       "Library name                                                                 \n",
       "Barking       Barking and Dagenham         Yes         Yes             LAL   \n",
       "Marks Gate    Barking and Dagenham         Yes         Yes             CRL   \n",
       "\n",
       "             Type of closed library Closed New building Replace existing  \\\n",
       "Library name                                                               \n",
       "Barking                         NaN    NaN          NaN              NaN   \n",
       "Marks Gate                      NaN    NaN          NaN              NaN   \n",
       "\n",
       "              Weekly hours open  Weekly hours staffed  open_2010  open_2016  \\\n",
       "Library name                                                                  \n",
       "Barking                    72.0                  72.0       True       True   \n",
       "Marks Gate                  9.0                   9.0       True       True   \n",
       "\n",
       "              open_booth  \n",
       "Library name              \n",
       "Barking             True  \n",
       "Marks Gate          True  "
      ]
     },
     "execution_count": 67,
     "metadata": {},
     "output_type": "execute_result"
    }
   ],
   "source": [
    "df_open = df[df['open_booth']==True].copy()\n",
    "df_open.head(2)"
   ]
  },
  {
   "cell_type": "code",
   "execution_count": 68,
   "id": "3055b453",
   "metadata": {},
   "outputs": [
    {
     "data": {
      "text/plain": [
       "True"
      ]
     },
     "execution_count": 68,
     "metadata": {},
     "output_type": "execute_result"
    }
   ],
   "source": [
    "len(df_open) == df['open_booth'].value_counts()[True]"
   ]
  },
  {
   "cell_type": "markdown",
   "id": "8adc5a7d",
   "metadata": {},
   "source": [
    "***"
   ]
  },
  {
   "cell_type": "markdown",
   "id": "978154e0",
   "metadata": {},
   "source": [
    "## **Working with data**"
   ]
  },
  {
   "cell_type": "markdown",
   "id": "56795e31",
   "metadata": {
    "slideshow": {
     "slide_type": "slide"
    }
   },
   "source": [
    "Calculating and rounding the `.mean()` of the values in the `Weekly hours open` column:"
   ]
  },
  {
   "cell_type": "code",
   "execution_count": 71,
   "id": "366b630b",
   "metadata": {
    "slideshow": {
     "slide_type": "slide"
    }
   },
   "outputs": [
    {
     "data": {
      "text/plain": [
       "36.99"
      ]
     },
     "execution_count": 71,
     "metadata": {},
     "output_type": "execute_result"
    }
   ],
   "source": [
    "round(df_open['Weekly hours open'].mean(), 2)"
   ]
  },
  {
   "cell_type": "markdown",
   "id": "a67156fc",
   "metadata": {
    "slideshow": {
     "slide_type": "slide"
    }
   },
   "source": [
    "Calculating the percentage of entries in `df_open` where `['Weekly hours open'] == 0`:"
   ]
  },
  {
   "cell_type": "code",
   "execution_count": 73,
   "id": "c6ff33f9",
   "metadata": {},
   "outputs": [],
   "source": [
    "wklyhrs_zero = df_open['Weekly hours open'] == 0   #Create a mask"
   ]
  },
  {
   "cell_type": "code",
   "execution_count": 78,
   "id": "c3a3366f",
   "metadata": {
    "scrolled": true,
    "slideshow": {
     "slide_type": "slide"
    }
   },
   "outputs": [
    {
     "name": "stdout",
     "output_type": "stream",
     "text": [
      "(56, 13)\n",
      "(2637, 13)\n"
     ]
    }
   ],
   "source": [
    "zerohours = df_open[wklyhrs_zero]                  #Apply the mask to the df\n",
    "print(zerohours.shape)\n",
    "print(df_open.shape)"
   ]
  },
  {
   "cell_type": "code",
   "execution_count": 100,
   "id": "42d6e514",
   "metadata": {},
   "outputs": [
    {
     "name": "stdout",
     "output_type": "stream",
     "text": [
      "2.12% of libraries where their 'weekly hours open' is 0\n"
     ]
    }
   ],
   "source": [
    "percentage = round(zerohours.shape[0] / df_open.shape[0] * 100, 2)  #3.69% are 0 hours - 121 / 3277 * 100\n",
    "print(f\"{percentage}% of libraries where their 'weekly hours open' is 0\")"
   ]
  },
  {
   "cell_type": "markdown",
   "id": "b3355c5c",
   "metadata": {},
   "source": [
    "***"
   ]
  },
  {
   "cell_type": "markdown",
   "id": "5908e5c3",
   "metadata": {},
   "source": [
    "## **Converting values to NaN**"
   ]
  },
  {
   "cell_type": "markdown",
   "id": "5226b8cb",
   "metadata": {
    "slideshow": {
     "slide_type": "slide"
    }
   },
   "source": [
    "These `NaN` values ('Not a Number') represent 'missing data' (of all types, not just numeric) in pandas.\n",
    "\n",
    "NaN's originate from the `numpy` package."
   ]
  },
  {
   "cell_type": "code",
   "execution_count": 86,
   "id": "1611b82d",
   "metadata": {
    "slideshow": {
     "slide_type": "slide"
    }
   },
   "outputs": [],
   "source": [
    "import numpy as np"
   ]
  },
  {
   "cell_type": "markdown",
   "id": "f5226ba5",
   "metadata": {
    "slideshow": {
     "slide_type": "slide"
    }
   },
   "source": [
    "I have defined a function called `convert_zero_to_nan()`, which take a single argument (`x`) and returns the following values:**\n",
    "- `np.nan` if `x` is equal (`==`) to `0`\n",
    "- Otherwise, return `x` unchanged"
   ]
  },
  {
   "cell_type": "code",
   "execution_count": 87,
   "id": "78309d34",
   "metadata": {
    "slideshow": {
     "slide_type": "slide"
    }
   },
   "outputs": [],
   "source": [
    "def convert_zero_to_nan(x):\n",
    "    if x == 0:\n",
    "        return np.nan\n",
    "    else:\n",
    "        return x"
   ]
  },
  {
   "cell_type": "markdown",
   "id": "ea611dd5",
   "metadata": {
    "slideshow": {
     "slide_type": "slide"
    }
   },
   "source": [
    "I can then `.apply()` the `convert_zero_to_nan` function to modify the `Weekly hours open` column:"
   ]
  },
  {
   "cell_type": "code",
   "execution_count": null,
   "id": "5983d819",
   "metadata": {
    "slideshow": {
     "slide_type": "slide"
    }
   },
   "outputs": [],
   "source": [
    "df_new = df_open.copy()       # Create a copy of the df_open DataFrame first\n",
    "df_new['Weekly hours open'] = df_new['Weekly hours open'].apply(convert_zero_to_nan)"
   ]
  },
  {
   "cell_type": "code",
   "execution_count": 92,
   "id": "ab9d1603",
   "metadata": {
    "slideshow": {
     "slide_type": "slide"
    }
   },
   "outputs": [
    {
     "data": {
      "text/plain": [
       "Weekly hours open\n",
       "31.00     62\n",
       "40.00     61\n",
       "20.00     60\n",
       "15.00     53\n",
       "27.00     52\n",
       "          ..\n",
       "131.75     1\n",
       "168.00     1\n",
       "83.50      1\n",
       "218.50     1\n",
       "73.50      1\n",
       "Name: count, Length: 192, dtype: int64"
      ]
     },
     "execution_count": 92,
     "metadata": {},
     "output_type": "execute_result"
    }
   ],
   "source": [
    "df_new['Weekly hours open'].value_counts()"
   ]
  },
  {
   "cell_type": "markdown",
   "id": "f2517d92",
   "metadata": {
    "slideshow": {
     "slide_type": "slide"
    }
   },
   "source": [
    "Runing my earlier code to calculate the `.mean()` of `Weekly hours open`, we can now see that the mean has changed"
   ]
  },
  {
   "cell_type": "code",
   "execution_count": 101,
   "id": "99e154a2",
   "metadata": {
    "slideshow": {
     "slide_type": "slide"
    }
   },
   "outputs": [
    {
     "data": {
      "text/plain": [
       "37.84"
      ]
     },
     "execution_count": 101,
     "metadata": {},
     "output_type": "execute_result"
    }
   ],
   "source": [
    "round(df_new['Weekly hours open'].mean(), 2)"
   ]
  }
 ],
 "metadata": {
  "kernelspec": {
   "display_name": "Python 3 (ipykernel)",
   "language": "python",
   "name": "python3"
  },
  "language_info": {
   "codemirror_mode": {
    "name": "ipython",
    "version": 3
   },
   "file_extension": ".py",
   "mimetype": "text/x-python",
   "name": "python",
   "nbconvert_exporter": "python",
   "pygments_lexer": "ipython3",
   "version": "3.11.5"
  }
 },
 "nbformat": 4,
 "nbformat_minor": 5
}
