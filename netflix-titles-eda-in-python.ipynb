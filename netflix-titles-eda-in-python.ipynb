{
 "cells": [
  {
   "cell_type": "markdown",
   "id": "6c0d2cb4",
   "metadata": {
    "papermill": {
     "duration": 0.008694,
     "end_time": "2024-01-30T13:10:49.934594",
     "exception": false,
     "start_time": "2024-01-30T13:10:49.925900",
     "status": "completed"
    },
    "tags": []
   },
   "source": [
    "# Exploratory data analysis of Netflix titles "
   ]
  },
  {
   "cell_type": "markdown",
   "id": "541158f3",
   "metadata": {
    "papermill": {
     "duration": 0.007346,
     "end_time": "2024-01-30T13:10:49.949925",
     "exception": false,
     "start_time": "2024-01-30T13:10:49.942579",
     "status": "completed"
    },
    "tags": []
   },
   "source": [
    "Importing packages"
   ]
  },
  {
   "cell_type": "code",
   "execution_count": 1,
   "id": "d6984034",
   "metadata": {
    "execution": {
     "iopub.execute_input": "2024-01-30T13:10:49.967637Z",
     "iopub.status.busy": "2024-01-30T13:10:49.967017Z",
     "iopub.status.idle": "2024-01-30T13:10:53.205023Z",
     "shell.execute_reply": "2024-01-30T13:10:53.203968Z"
    },
    "papermill": {
     "duration": 3.249817,
     "end_time": "2024-01-30T13:10:53.207557",
     "exception": false,
     "start_time": "2024-01-30T13:10:49.957740",
     "status": "completed"
    },
    "tags": []
   },
   "outputs": [
    {
     "data": {
      "text/html": [
       "    <style>\n",
       "        .bk-notebook-logo {\n",
       "            display: block;\n",
       "            width: 20px;\n",
       "            height: 20px;\n",
       "            background-image: url(data:image/png;base64,iVBORw0KGgoAAAANSUhEUgAAABQAAAAUCAYAAACNiR0NAAAABHNCSVQICAgIfAhkiAAAAAlwSFlzAAALEgAACxIB0t1+/AAAABx0RVh0U29mdHdhcmUAQWRvYmUgRmlyZXdvcmtzIENTNui8sowAAAOkSURBVDiNjZRtaJVlGMd/1/08zzln5zjP1LWcU9N0NkN8m2CYjpgQYQXqSs0I84OLIC0hkEKoPtiH3gmKoiJDU7QpLgoLjLIQCpEsNJ1vqUOdO7ppbuec5+V+rj4ctwzd8IIbbi6u+8f1539dt3A78eXC7QizUF7gyV1fD1Yqg4JWz84yffhm0qkFqBogB9rM8tZdtwVsPUhWhGcFJngGeWrPzHm5oaMmkfEg1usvLFyc8jLRqDOMru7AyC8saQr7GG7f5fvDeH7Ej8CM66nIF+8yngt6HWaKh7k49Soy9nXurCi1o3qUbS3zWfrYeQDTB/Qj6kX6Ybhw4B+bOYoLKCC9H3Nu/leUTZ1JdRWkkn2ldcCamzrcf47KKXdAJllSlxAOkRgyHsGC/zRday5Qld9DyoM4/q/rUoy/CXh3jzOu3bHUVZeU+DEn8FInkPBFlu3+nW3Nw0mk6vCDiWg8CeJaxEwuHS3+z5RgY+YBR6V1Z1nxSOfoaPa4LASWxxdNp+VWTk7+4vzaou8v8PN+xo+KY2xsw6une2frhw05CTYOmQvsEhjhWjn0bmXPjpE1+kplmmkP3suftwTubK9Vq22qKmrBhpY4jvd5afdRA3wGjFAgcnTK2s4hY0/GPNIb0nErGMCRxWOOX64Z8RAC4oCXdklmEvcL8o0BfkNK4lUg9HTl+oPlQxdNo3Mg4Nv175e/1LDGzZen30MEjRUtmXSfiTVu1kK8W4txyV6BMKlbgk3lMwYCiusNy9fVfvvwMxv8Ynl6vxoByANLTWplvuj/nF9m2+PDtt1eiHPBr1oIfhCChQMBw6Aw0UulqTKZdfVvfG7VcfIqLG9bcldL/+pdWTLxLUy8Qq38heUIjh4XlzZxzQm19lLFlr8vdQ97rjZVOLf8nclzckbcD4wxXMidpX30sFd37Fv/GtwwhzhxGVAprjbg0gCAEeIgwCZyTV2Z1REEW8O4py0wsjeloKoMr6iCY6dP92H6Vw/oTyICIthibxjm/DfN9lVz8IqtqKYLUXfoKVMVQVVJOElGjrnnUt9T9wbgp8AyYKaGlqingHZU/uG2NTZSVqwHQTWkx9hxjkpWDaCg6Ckj5qebgBVbT3V3NNXMSiWSDdGV3hrtzla7J+duwPOToIg42ChPQOQjspnSlp1V+Gjdged7+8UN5CRAV7a5EdFNwCjEaBR27b3W890TE7g24NAP/mMDXRWrGoFPQI9ls/MWO2dWFAar/xcOIImbbpA3zgAAAABJRU5ErkJggg==);\n",
       "        }\n",
       "    </style>\n",
       "    <div>\n",
       "        <a href=\"https://bokeh.org\" target=\"_blank\" class=\"bk-notebook-logo\"></a>\n",
       "        <span id=\"e105b6f8-fb65-4d46-80d7-d9d090f340cb\">Loading BokehJS ...</span>\n",
       "    </div>\n"
      ]
     },
     "metadata": {},
     "output_type": "display_data"
    },
    {
     "data": {
      "application/javascript": [
       "(function(root) {\n",
       "  function now() {\n",
       "    return new Date();\n",
       "  }\n",
       "\n",
       "  const force = true;\n",
       "\n",
       "  if (typeof root._bokeh_onload_callbacks === \"undefined\" || force === true) {\n",
       "    root._bokeh_onload_callbacks = [];\n",
       "    root._bokeh_is_loading = undefined;\n",
       "  }\n",
       "\n",
       "const JS_MIME_TYPE = 'application/javascript';\n",
       "  const HTML_MIME_TYPE = 'text/html';\n",
       "  const EXEC_MIME_TYPE = 'application/vnd.bokehjs_exec.v0+json';\n",
       "  const CLASS_NAME = 'output_bokeh rendered_html';\n",
       "\n",
       "  /**\n",
       "   * Render data to the DOM node\n",
       "   */\n",
       "  function render(props, node) {\n",
       "    const script = document.createElement(\"script\");\n",
       "    node.appendChild(script);\n",
       "  }\n",
       "\n",
       "  /**\n",
       "   * Handle when an output is cleared or removed\n",
       "   */\n",
       "  function handleClearOutput(event, handle) {\n",
       "    function drop(id) {\n",
       "      const view = Bokeh.index.get_by_id(id)\n",
       "      if (view != null) {\n",
       "        view.model.document.clear()\n",
       "        Bokeh.index.delete(view)\n",
       "      }\n",
       "    }\n",
       "\n",
       "    const cell = handle.cell;\n",
       "\n",
       "    const id = cell.output_area._bokeh_element_id;\n",
       "    const server_id = cell.output_area._bokeh_server_id;\n",
       "\n",
       "    // Clean up Bokeh references\n",
       "    if (id != null) {\n",
       "      drop(id)\n",
       "    }\n",
       "\n",
       "    if (server_id !== undefined) {\n",
       "      // Clean up Bokeh references\n",
       "      const cmd_clean = \"from bokeh.io.state import curstate; print(curstate().uuid_to_server['\" + server_id + \"'].get_sessions()[0].document.roots[0]._id)\";\n",
       "      cell.notebook.kernel.execute(cmd_clean, {\n",
       "        iopub: {\n",
       "          output: function(msg) {\n",
       "            const id = msg.content.text.trim()\n",
       "            drop(id)\n",
       "          }\n",
       "        }\n",
       "      });\n",
       "      // Destroy server and session\n",
       "      const cmd_destroy = \"import bokeh.io.notebook as ion; ion.destroy_server('\" + server_id + \"')\";\n",
       "      cell.notebook.kernel.execute(cmd_destroy);\n",
       "    }\n",
       "  }\n",
       "\n",
       "  /**\n",
       "   * Handle when a new output is added\n",
       "   */\n",
       "  function handleAddOutput(event, handle) {\n",
       "    const output_area = handle.output_area;\n",
       "    const output = handle.output;\n",
       "\n",
       "    // limit handleAddOutput to display_data with EXEC_MIME_TYPE content only\n",
       "    if ((output.output_type != \"display_data\") || (!Object.prototype.hasOwnProperty.call(output.data, EXEC_MIME_TYPE))) {\n",
       "      return\n",
       "    }\n",
       "\n",
       "    const toinsert = output_area.element.find(\".\" + CLASS_NAME.split(' ')[0]);\n",
       "\n",
       "    if (output.metadata[EXEC_MIME_TYPE][\"id\"] !== undefined) {\n",
       "      toinsert[toinsert.length - 1].firstChild.textContent = output.data[JS_MIME_TYPE];\n",
       "      // store reference to embed id on output_area\n",
       "      output_area._bokeh_element_id = output.metadata[EXEC_MIME_TYPE][\"id\"];\n",
       "    }\n",
       "    if (output.metadata[EXEC_MIME_TYPE][\"server_id\"] !== undefined) {\n",
       "      const bk_div = document.createElement(\"div\");\n",
       "      bk_div.innerHTML = output.data[HTML_MIME_TYPE];\n",
       "      const script_attrs = bk_div.children[0].attributes;\n",
       "      for (let i = 0; i < script_attrs.length; i++) {\n",
       "        toinsert[toinsert.length - 1].firstChild.setAttribute(script_attrs[i].name, script_attrs[i].value);\n",
       "        toinsert[toinsert.length - 1].firstChild.textContent = bk_div.children[0].textContent\n",
       "      }\n",
       "      // store reference to server id on output_area\n",
       "      output_area._bokeh_server_id = output.metadata[EXEC_MIME_TYPE][\"server_id\"];\n",
       "    }\n",
       "  }\n",
       "\n",
       "  function register_renderer(events, OutputArea) {\n",
       "\n",
       "    function append_mime(data, metadata, element) {\n",
       "      // create a DOM node to render to\n",
       "      const toinsert = this.create_output_subarea(\n",
       "        metadata,\n",
       "        CLASS_NAME,\n",
       "        EXEC_MIME_TYPE\n",
       "      );\n",
       "      this.keyboard_manager.register_events(toinsert);\n",
       "      // Render to node\n",
       "      const props = {data: data, metadata: metadata[EXEC_MIME_TYPE]};\n",
       "      render(props, toinsert[toinsert.length - 1]);\n",
       "      element.append(toinsert);\n",
       "      return toinsert\n",
       "    }\n",
       "\n",
       "    /* Handle when an output is cleared or removed */\n",
       "    events.on('clear_output.CodeCell', handleClearOutput);\n",
       "    events.on('delete.Cell', handleClearOutput);\n",
       "\n",
       "    /* Handle when a new output is added */\n",
       "    events.on('output_added.OutputArea', handleAddOutput);\n",
       "\n",
       "    /**\n",
       "     * Register the mime type and append_mime function with output_area\n",
       "     */\n",
       "    OutputArea.prototype.register_mime_type(EXEC_MIME_TYPE, append_mime, {\n",
       "      /* Is output safe? */\n",
       "      safe: true,\n",
       "      /* Index of renderer in `output_area.display_order` */\n",
       "      index: 0\n",
       "    });\n",
       "  }\n",
       "\n",
       "  // register the mime type if in Jupyter Notebook environment and previously unregistered\n",
       "  if (root.Jupyter !== undefined) {\n",
       "    const events = require('base/js/events');\n",
       "    const OutputArea = require('notebook/js/outputarea').OutputArea;\n",
       "\n",
       "    if (OutputArea.prototype.mime_types().indexOf(EXEC_MIME_TYPE) == -1) {\n",
       "      register_renderer(events, OutputArea);\n",
       "    }\n",
       "  }\n",
       "  if (typeof (root._bokeh_timeout) === \"undefined\" || force === true) {\n",
       "    root._bokeh_timeout = Date.now() + 5000;\n",
       "    root._bokeh_failed_load = false;\n",
       "  }\n",
       "\n",
       "  const NB_LOAD_WARNING = {'data': {'text/html':\n",
       "     \"<div style='background-color: #fdd'>\\n\"+\n",
       "     \"<p>\\n\"+\n",
       "     \"BokehJS does not appear to have successfully loaded. If loading BokehJS from CDN, this \\n\"+\n",
       "     \"may be due to a slow or bad network connection. Possible fixes:\\n\"+\n",
       "     \"</p>\\n\"+\n",
       "     \"<ul>\\n\"+\n",
       "     \"<li>re-rerun `output_notebook()` to attempt to load from CDN again, or</li>\\n\"+\n",
       "     \"<li>use INLINE resources instead, as so:</li>\\n\"+\n",
       "     \"</ul>\\n\"+\n",
       "     \"<code>\\n\"+\n",
       "     \"from bokeh.resources import INLINE\\n\"+\n",
       "     \"output_notebook(resources=INLINE)\\n\"+\n",
       "     \"</code>\\n\"+\n",
       "     \"</div>\"}};\n",
       "\n",
       "  function display_loaded() {\n",
       "    const el = document.getElementById(\"e105b6f8-fb65-4d46-80d7-d9d090f340cb\");\n",
       "    if (el != null) {\n",
       "      el.textContent = \"BokehJS is loading...\";\n",
       "    }\n",
       "    if (root.Bokeh !== undefined) {\n",
       "      if (el != null) {\n",
       "        el.textContent = \"BokehJS \" + root.Bokeh.version + \" successfully loaded.\";\n",
       "      }\n",
       "    } else if (Date.now() < root._bokeh_timeout) {\n",
       "      setTimeout(display_loaded, 100)\n",
       "    }\n",
       "  }\n",
       "\n",
       "  function run_callbacks() {\n",
       "    try {\n",
       "      root._bokeh_onload_callbacks.forEach(function(callback) {\n",
       "        if (callback != null)\n",
       "          callback();\n",
       "      });\n",
       "    } finally {\n",
       "      delete root._bokeh_onload_callbacks\n",
       "    }\n",
       "    console.debug(\"Bokeh: all callbacks have finished\");\n",
       "  }\n",
       "\n",
       "  function load_libs(css_urls, js_urls, callback) {\n",
       "    if (css_urls == null) css_urls = [];\n",
       "    if (js_urls == null) js_urls = [];\n",
       "\n",
       "    root._bokeh_onload_callbacks.push(callback);\n",
       "    if (root._bokeh_is_loading > 0) {\n",
       "      console.debug(\"Bokeh: BokehJS is being loaded, scheduling callback at\", now());\n",
       "      return null;\n",
       "    }\n",
       "    if (js_urls == null || js_urls.length === 0) {\n",
       "      run_callbacks();\n",
       "      return null;\n",
       "    }\n",
       "    console.debug(\"Bokeh: BokehJS not loaded, scheduling load and callback at\", now());\n",
       "    root._bokeh_is_loading = css_urls.length + js_urls.length;\n",
       "\n",
       "    function on_load() {\n",
       "      root._bokeh_is_loading--;\n",
       "      if (root._bokeh_is_loading === 0) {\n",
       "        console.debug(\"Bokeh: all BokehJS libraries/stylesheets loaded\");\n",
       "        run_callbacks()\n",
       "      }\n",
       "    }\n",
       "\n",
       "    function on_error(url) {\n",
       "      console.error(\"failed to load \" + url);\n",
       "    }\n",
       "\n",
       "    for (let i = 0; i < css_urls.length; i++) {\n",
       "      const url = css_urls[i];\n",
       "      const element = document.createElement(\"link\");\n",
       "      element.onload = on_load;\n",
       "      element.onerror = on_error.bind(null, url);\n",
       "      element.rel = \"stylesheet\";\n",
       "      element.type = \"text/css\";\n",
       "      element.href = url;\n",
       "      console.debug(\"Bokeh: injecting link tag for BokehJS stylesheet: \", url);\n",
       "      document.body.appendChild(element);\n",
       "    }\n",
       "\n",
       "    for (let i = 0; i < js_urls.length; i++) {\n",
       "      const url = js_urls[i];\n",
       "      const element = document.createElement('script');\n",
       "      element.onload = on_load;\n",
       "      element.onerror = on_error.bind(null, url);\n",
       "      element.async = false;\n",
       "      element.src = url;\n",
       "      console.debug(\"Bokeh: injecting script tag for BokehJS library: \", url);\n",
       "      document.head.appendChild(element);\n",
       "    }\n",
       "  };\n",
       "\n",
       "  function inject_raw_css(css) {\n",
       "    const element = document.createElement(\"style\");\n",
       "    element.appendChild(document.createTextNode(css));\n",
       "    document.body.appendChild(element);\n",
       "  }\n",
       "\n",
       "  const js_urls = [\"https://cdn.bokeh.org/bokeh/release/bokeh-3.3.3.min.js\", \"https://cdn.bokeh.org/bokeh/release/bokeh-gl-3.3.3.min.js\", \"https://cdn.bokeh.org/bokeh/release/bokeh-widgets-3.3.3.min.js\", \"https://cdn.bokeh.org/bokeh/release/bokeh-tables-3.3.3.min.js\", \"https://cdn.bokeh.org/bokeh/release/bokeh-mathjax-3.3.3.min.js\"];\n",
       "  const css_urls = [];\n",
       "\n",
       "  const inline_js = [    function(Bokeh) {\n",
       "      Bokeh.set_log_level(\"info\");\n",
       "    },\n",
       "function(Bokeh) {\n",
       "    }\n",
       "  ];\n",
       "\n",
       "  function run_inline_js() {\n",
       "    if (root.Bokeh !== undefined || force === true) {\n",
       "          for (let i = 0; i < inline_js.length; i++) {\n",
       "      inline_js[i].call(root, root.Bokeh);\n",
       "    }\n",
       "if (force === true) {\n",
       "        display_loaded();\n",
       "      }} else if (Date.now() < root._bokeh_timeout) {\n",
       "      setTimeout(run_inline_js, 100);\n",
       "    } else if (!root._bokeh_failed_load) {\n",
       "      console.log(\"Bokeh: BokehJS failed to load within specified timeout.\");\n",
       "      root._bokeh_failed_load = true;\n",
       "    } else if (force !== true) {\n",
       "      const cell = $(document.getElementById(\"e105b6f8-fb65-4d46-80d7-d9d090f340cb\")).parents('.cell').data().cell;\n",
       "      cell.output_area.append_execute_result(NB_LOAD_WARNING)\n",
       "    }\n",
       "  }\n",
       "\n",
       "  if (root._bokeh_is_loading === 0) {\n",
       "    console.debug(\"Bokeh: BokehJS loaded, going straight to plotting\");\n",
       "    run_inline_js();\n",
       "  } else {\n",
       "    load_libs(css_urls, js_urls, function() {\n",
       "      console.debug(\"Bokeh: BokehJS plotting callback run at\", now());\n",
       "      run_inline_js();\n",
       "    });\n",
       "  }\n",
       "}(window));"
      ],
      "application/vnd.bokehjs_load.v0+json": "(function(root) {\n  function now() {\n    return new Date();\n  }\n\n  const force = true;\n\n  if (typeof root._bokeh_onload_callbacks === \"undefined\" || force === true) {\n    root._bokeh_onload_callbacks = [];\n    root._bokeh_is_loading = undefined;\n  }\n\n\n  if (typeof (root._bokeh_timeout) === \"undefined\" || force === true) {\n    root._bokeh_timeout = Date.now() + 5000;\n    root._bokeh_failed_load = false;\n  }\n\n  const NB_LOAD_WARNING = {'data': {'text/html':\n     \"<div style='background-color: #fdd'>\\n\"+\n     \"<p>\\n\"+\n     \"BokehJS does not appear to have successfully loaded. If loading BokehJS from CDN, this \\n\"+\n     \"may be due to a slow or bad network connection. Possible fixes:\\n\"+\n     \"</p>\\n\"+\n     \"<ul>\\n\"+\n     \"<li>re-rerun `output_notebook()` to attempt to load from CDN again, or</li>\\n\"+\n     \"<li>use INLINE resources instead, as so:</li>\\n\"+\n     \"</ul>\\n\"+\n     \"<code>\\n\"+\n     \"from bokeh.resources import INLINE\\n\"+\n     \"output_notebook(resources=INLINE)\\n\"+\n     \"</code>\\n\"+\n     \"</div>\"}};\n\n  function display_loaded() {\n    const el = document.getElementById(\"e105b6f8-fb65-4d46-80d7-d9d090f340cb\");\n    if (el != null) {\n      el.textContent = \"BokehJS is loading...\";\n    }\n    if (root.Bokeh !== undefined) {\n      if (el != null) {\n        el.textContent = \"BokehJS \" + root.Bokeh.version + \" successfully loaded.\";\n      }\n    } else if (Date.now() < root._bokeh_timeout) {\n      setTimeout(display_loaded, 100)\n    }\n  }\n\n  function run_callbacks() {\n    try {\n      root._bokeh_onload_callbacks.forEach(function(callback) {\n        if (callback != null)\n          callback();\n      });\n    } finally {\n      delete root._bokeh_onload_callbacks\n    }\n    console.debug(\"Bokeh: all callbacks have finished\");\n  }\n\n  function load_libs(css_urls, js_urls, callback) {\n    if (css_urls == null) css_urls = [];\n    if (js_urls == null) js_urls = [];\n\n    root._bokeh_onload_callbacks.push(callback);\n    if (root._bokeh_is_loading > 0) {\n      console.debug(\"Bokeh: BokehJS is being loaded, scheduling callback at\", now());\n      return null;\n    }\n    if (js_urls == null || js_urls.length === 0) {\n      run_callbacks();\n      return null;\n    }\n    console.debug(\"Bokeh: BokehJS not loaded, scheduling load and callback at\", now());\n    root._bokeh_is_loading = css_urls.length + js_urls.length;\n\n    function on_load() {\n      root._bokeh_is_loading--;\n      if (root._bokeh_is_loading === 0) {\n        console.debug(\"Bokeh: all BokehJS libraries/stylesheets loaded\");\n        run_callbacks()\n      }\n    }\n\n    function on_error(url) {\n      console.error(\"failed to load \" + url);\n    }\n\n    for (let i = 0; i < css_urls.length; i++) {\n      const url = css_urls[i];\n      const element = document.createElement(\"link\");\n      element.onload = on_load;\n      element.onerror = on_error.bind(null, url);\n      element.rel = \"stylesheet\";\n      element.type = \"text/css\";\n      element.href = url;\n      console.debug(\"Bokeh: injecting link tag for BokehJS stylesheet: \", url);\n      document.body.appendChild(element);\n    }\n\n    for (let i = 0; i < js_urls.length; i++) {\n      const url = js_urls[i];\n      const element = document.createElement('script');\n      element.onload = on_load;\n      element.onerror = on_error.bind(null, url);\n      element.async = false;\n      element.src = url;\n      console.debug(\"Bokeh: injecting script tag for BokehJS library: \", url);\n      document.head.appendChild(element);\n    }\n  };\n\n  function inject_raw_css(css) {\n    const element = document.createElement(\"style\");\n    element.appendChild(document.createTextNode(css));\n    document.body.appendChild(element);\n  }\n\n  const js_urls = [\"https://cdn.bokeh.org/bokeh/release/bokeh-3.3.3.min.js\", \"https://cdn.bokeh.org/bokeh/release/bokeh-gl-3.3.3.min.js\", \"https://cdn.bokeh.org/bokeh/release/bokeh-widgets-3.3.3.min.js\", \"https://cdn.bokeh.org/bokeh/release/bokeh-tables-3.3.3.min.js\", \"https://cdn.bokeh.org/bokeh/release/bokeh-mathjax-3.3.3.min.js\"];\n  const css_urls = [];\n\n  const inline_js = [    function(Bokeh) {\n      Bokeh.set_log_level(\"info\");\n    },\nfunction(Bokeh) {\n    }\n  ];\n\n  function run_inline_js() {\n    if (root.Bokeh !== undefined || force === true) {\n          for (let i = 0; i < inline_js.length; i++) {\n      inline_js[i].call(root, root.Bokeh);\n    }\nif (force === true) {\n        display_loaded();\n      }} else if (Date.now() < root._bokeh_timeout) {\n      setTimeout(run_inline_js, 100);\n    } else if (!root._bokeh_failed_load) {\n      console.log(\"Bokeh: BokehJS failed to load within specified timeout.\");\n      root._bokeh_failed_load = true;\n    } else if (force !== true) {\n      const cell = $(document.getElementById(\"e105b6f8-fb65-4d46-80d7-d9d090f340cb\")).parents('.cell').data().cell;\n      cell.output_area.append_execute_result(NB_LOAD_WARNING)\n    }\n  }\n\n  if (root._bokeh_is_loading === 0) {\n    console.debug(\"Bokeh: BokehJS loaded, going straight to plotting\");\n    run_inline_js();\n  } else {\n    load_libs(css_urls, js_urls, function() {\n      console.debug(\"Bokeh: BokehJS plotting callback run at\", now());\n      run_inline_js();\n    });\n  }\n}(window));"
     },
     "metadata": {},
     "output_type": "display_data"
    }
   ],
   "source": [
    "import pandas as pd\n",
    "import numpy as np\n",
    "import seaborn as sns\n",
    "import matplotlib.pyplot as plt\n",
    "import scipy\n",
    "\n",
    "import bokeh.plotting as bpl\n",
    "import bokeh.models as bmo\n",
    "from bokeh.plotting import figure, show, output_notebook\n",
    "from bokeh.models import ColumnDataSource, HoverTool, GroupFilter, CDSView, Legend\n",
    "from bokeh.transform import linear_cmap, factor_cmap\n",
    "from bokeh.palettes import Viridis256  \n",
    "from bokeh.io import output_notebook\n",
    "from bokeh.layouts import column\n",
    "\n",
    "from datetime import datetime\n",
    "\n",
    "output_notebook()"
   ]
  },
  {
   "cell_type": "markdown",
   "id": "f6285306",
   "metadata": {
    "papermill": {
     "duration": 0.008082,
     "end_time": "2024-01-30T13:10:53.224515",
     "exception": false,
     "start_time": "2024-01-30T13:10:53.216433",
     "status": "completed"
    },
    "tags": []
   },
   "source": [
    "Importing the data:"
   ]
  },
  {
   "cell_type": "code",
   "execution_count": 2,
   "id": "930cbecc",
   "metadata": {
    "execution": {
     "iopub.execute_input": "2024-01-30T13:10:53.243486Z",
     "iopub.status.busy": "2024-01-30T13:10:53.242884Z",
     "iopub.status.idle": "2024-01-30T13:10:53.400663Z",
     "shell.execute_reply": "2024-01-30T13:10:53.399679Z"
    },
    "papermill": {
     "duration": 0.170441,
     "end_time": "2024-01-30T13:10:53.403300",
     "exception": false,
     "start_time": "2024-01-30T13:10:53.232859",
     "status": "completed"
    },
    "tags": []
   },
   "outputs": [],
   "source": [
    "df = pd.read_csv('/kaggle/input/netflix-shows/netflix_titles.csv')"
   ]
  },
  {
   "cell_type": "markdown",
   "id": "38b80d40",
   "metadata": {
    "papermill": {
     "duration": 0.008887,
     "end_time": "2024-01-30T13:10:53.420728",
     "exception": false,
     "start_time": "2024-01-30T13:10:53.411841",
     "status": "completed"
    },
    "tags": []
   },
   "source": [
    "***"
   ]
  },
  {
   "cell_type": "markdown",
   "id": "80e9bbcc",
   "metadata": {
    "papermill": {
     "duration": 0.008153,
     "end_time": "2024-01-30T13:10:53.437494",
     "exception": false,
     "start_time": "2024-01-30T13:10:53.429341",
     "status": "completed"
    },
    "tags": []
   },
   "source": [
    "## Cleaning the data"
   ]
  },
  {
   "cell_type": "code",
   "execution_count": 3,
   "id": "bf10d14f",
   "metadata": {
    "execution": {
     "iopub.execute_input": "2024-01-30T13:10:53.456410Z",
     "iopub.status.busy": "2024-01-30T13:10:53.455987Z",
     "iopub.status.idle": "2024-01-30T13:10:53.717797Z",
     "shell.execute_reply": "2024-01-30T13:10:53.716651Z"
    },
    "papermill": {
     "duration": 0.274823,
     "end_time": "2024-01-30T13:10:53.720752",
     "exception": false,
     "start_time": "2024-01-30T13:10:53.445929",
     "status": "completed"
    },
    "tags": []
   },
   "outputs": [],
   "source": [
    "# copy df and remove nans\n",
    "df1 = df.copy()\n",
    "df_clean = df1.fillna('unknown')\n",
    "\n",
    "#set new index\n",
    "df_clean['show_id'].str[0].value_counts()\n",
    "\n",
    "def remove_s(x):\n",
    "    return int(x[1:])\n",
    "\n",
    "# release year converted to int\n",
    "df_clean['release_year'] = df_clean['release_year'].astype('int')\n",
    "\n",
    "#change datetime format\n",
    "df_clean['date_added'] = pd.to_datetime(df['date_added'], format='mixed')\n",
    "\n",
    "# Removing a column\n",
    "df_clean = df_clean.drop(columns=['description'], axis=1)"
   ]
  },
  {
   "cell_type": "markdown",
   "id": "3763202b",
   "metadata": {
    "papermill": {
     "duration": 0.008554,
     "end_time": "2024-01-30T13:10:53.737962",
     "exception": false,
     "start_time": "2024-01-30T13:10:53.729408",
     "status": "completed"
    },
    "tags": []
   },
   "source": [
    "# EDA / Data Visualisations"
   ]
  },
  {
   "cell_type": "markdown",
   "id": "a22a3893",
   "metadata": {
    "papermill": {
     "duration": 0.008699,
     "end_time": "2024-01-30T13:10:53.755487",
     "exception": false,
     "start_time": "2024-01-30T13:10:53.746788",
     "status": "completed"
    },
    "tags": []
   },
   "source": [
    "### Creating a scatterplot of release year x count"
   ]
  },
  {
   "cell_type": "markdown",
   "id": "e060b124",
   "metadata": {
    "papermill": {
     "duration": 0.008238,
     "end_time": "2024-01-30T13:10:53.772255",
     "exception": false,
     "start_time": "2024-01-30T13:10:53.764017",
     "status": "completed"
    },
    "tags": []
   },
   "source": [
    "Grouping by 'type', counting the values present, and sorting by 'release year'."
   ]
  },
  {
   "cell_type": "code",
   "execution_count": 4,
   "id": "fd473d39",
   "metadata": {
    "execution": {
     "iopub.execute_input": "2024-01-30T13:10:53.791809Z",
     "iopub.status.busy": "2024-01-30T13:10:53.791396Z",
     "iopub.status.idle": "2024-01-30T13:10:53.807833Z",
     "shell.execute_reply": "2024-01-30T13:10:53.806711Z"
    },
    "papermill": {
     "duration": 0.028873,
     "end_time": "2024-01-30T13:10:53.810596",
     "exception": false,
     "start_time": "2024-01-30T13:10:53.781723",
     "status": "completed"
    },
    "tags": []
   },
   "outputs": [],
   "source": [
    "df_new = df_clean.groupby(['type'])['release_year'].value_counts().reset_index()\n",
    "df_new = df_new.sort_values(by='release_year', ascending=False)"
   ]
  },
  {
   "cell_type": "code",
   "execution_count": 5,
   "id": "97c32f7c",
   "metadata": {
    "execution": {
     "iopub.execute_input": "2024-01-30T13:10:53.829808Z",
     "iopub.status.busy": "2024-01-30T13:10:53.828988Z",
     "iopub.status.idle": "2024-01-30T13:10:53.940110Z",
     "shell.execute_reply": "2024-01-30T13:10:53.938835Z"
    },
    "papermill": {
     "duration": 0.123587,
     "end_time": "2024-01-30T13:10:53.942685",
     "exception": false,
     "start_time": "2024-01-30T13:10:53.819098",
     "status": "completed"
    },
    "tags": []
   },
   "outputs": [
    {
     "data": {
      "text/html": [
       "\n",
       "  <div id=\"adb672a0-85a3-40cf-b774-3cfedddf485b\" data-root-id=\"p1001\" style=\"display: contents;\"></div>\n"
      ]
     },
     "metadata": {},
     "output_type": "display_data"
    },
    {
     "data": {
      "application/javascript": [
       "(function(root) {\n",
       "  function embed_document(root) {\n",
       "  const docs_json = {\"b64b7a0d-44b7-463c-982d-b8cae1ecfc70\":{\"version\":\"3.3.3\",\"title\":\"Bokeh Application\",\"roots\":[{\"type\":\"object\",\"name\":\"Figure\",\"id\":\"p1001\",\"attributes\":{\"width\":900,\"height\":550,\"x_range\":{\"type\":\"object\",\"name\":\"DataRange1d\",\"id\":\"p1002\"},\"y_range\":{\"type\":\"object\",\"name\":\"DataRange1d\",\"id\":\"p1003\"},\"x_scale\":{\"type\":\"object\",\"name\":\"LinearScale\",\"id\":\"p1011\"},\"y_scale\":{\"type\":\"object\",\"name\":\"LinearScale\",\"id\":\"p1012\"},\"title\":{\"type\":\"object\",\"name\":\"Title\",\"id\":\"p1004\",\"attributes\":{\"text\":\"Release years of Movies and TV Shows added to Netflix\",\"text_color\":\"black\",\"text_font_size\":\"13pt\"}},\"renderers\":[{\"type\":\"object\",\"name\":\"GlyphRenderer\",\"id\":\"p1043\",\"attributes\":{\"data_source\":{\"type\":\"object\",\"name\":\"ColumnDataSource\",\"id\":\"p1034\",\"attributes\":{\"selected\":{\"type\":\"object\",\"name\":\"Selection\",\"id\":\"p1035\",\"attributes\":{\"indices\":[],\"line_indices\":[]}},\"selection_policy\":{\"type\":\"object\",\"name\":\"UnionRenderers\",\"id\":\"p1036\"},\"data\":{\"type\":\"map\",\"entries\":[[\"index\",{\"type\":\"ndarray\",\"array\":{\"type\":\"bytes\",\"data\":\"BgAAAEwAAABJAAAABAAAAEoAAAADAAAAAQAAAEsAAABNAAAAAAAAAE4AAAACAAAATwAAAAUAAABQAAAABwAAAFIAAAAIAAAAUQAAAAkAAABUAAAACwAAAFMAAAAKAAAAVQAAAAwAAAANAAAAVgAAAA8AAABYAAAADgAAAFcAAAAQAAAAWQAAABEAAABbAAAAEgAAAFoAAAATAAAAXQAAAF4AAAAUAAAAYgAAABYAAABcAAAAGAAAAGEAAAAXAAAAYAAAABUAAABlAAAAGwAAABoAAABpAAAAaAAAAB0AAABfAAAAGQAAAGQAAAAcAAAAdgAAACEAAAAeAAAAYwAAAHUAAAAiAAAAIAAAAGcAAAAsAAAAZgAAACcAAAArAAAAdAAAACQAAAAmAAAAHwAAAHMAAAAjAAAAJQAAAHIAAAApAAAALgAAADAAAABxAAAAKgAAAC0AAAAvAAAAcAAAACgAAAA0AAAAbwAAADEAAABCAAAAQQAAADsAAAAzAAAAbgAAAEgAAABAAAAAPwAAAG0AAABHAAAAOgAAAEYAAAAyAAAARQAAADkAAAA+AAAAOAAAAD0AAABEAAAAbAAAAEMAAAA3AAAAawAAADYAAAA1AAAAPAAAAGoAAAA=\"},\"shape\":[119],\"dtype\":\"int32\",\"order\":\"little\"}],[\"type\",{\"type\":\"ndarray\",\"array\":[\"Movie\",\"TV Show\",\"TV Show\",\"Movie\",\"TV Show\",\"Movie\",\"Movie\",\"TV Show\",\"TV Show\",\"Movie\",\"TV Show\",\"Movie\",\"TV Show\",\"Movie\",\"TV Show\",\"Movie\",\"TV Show\",\"Movie\",\"TV Show\",\"Movie\",\"TV Show\",\"Movie\",\"TV Show\",\"Movie\",\"TV Show\",\"Movie\",\"Movie\",\"TV Show\",\"Movie\",\"TV Show\",\"Movie\",\"TV Show\",\"Movie\",\"TV Show\",\"Movie\",\"TV Show\",\"Movie\",\"TV Show\",\"Movie\",\"TV Show\",\"TV Show\",\"Movie\",\"TV Show\",\"Movie\",\"TV Show\",\"Movie\",\"TV Show\",\"Movie\",\"TV Show\",\"Movie\",\"TV Show\",\"Movie\",\"Movie\",\"TV Show\",\"TV Show\",\"Movie\",\"TV Show\",\"Movie\",\"TV Show\",\"Movie\",\"TV Show\",\"Movie\",\"Movie\",\"TV Show\",\"TV Show\",\"Movie\",\"Movie\",\"TV Show\",\"Movie\",\"TV Show\",\"Movie\",\"Movie\",\"TV Show\",\"Movie\",\"Movie\",\"Movie\",\"TV Show\",\"Movie\",\"Movie\",\"TV Show\",\"Movie\",\"Movie\",\"Movie\",\"TV Show\",\"Movie\",\"Movie\",\"Movie\",\"TV Show\",\"Movie\",\"Movie\",\"TV Show\",\"Movie\",\"Movie\",\"Movie\",\"Movie\",\"Movie\",\"TV Show\",\"Movie\",\"Movie\",\"Movie\",\"TV Show\",\"Movie\",\"Movie\",\"Movie\",\"Movie\",\"Movie\",\"Movie\",\"Movie\",\"Movie\",\"Movie\",\"Movie\",\"TV Show\",\"Movie\",\"Movie\",\"TV Show\",\"Movie\",\"Movie\",\"Movie\",\"TV Show\"],\"shape\":[119],\"dtype\":\"object\",\"order\":\"little\"}],[\"release_year\",{\"type\":\"ndarray\",\"array\":{\"type\":\"bytes\",\"data\":\"5QcAAOUHAADkBwAA5AcAAOMHAADjBwAA4gcAAOIHAADhBwAA4QcAAOAHAADgBwAA3wcAAN8HAADeBwAA3gcAAN0HAADdBwAA3AcAANwHAADbBwAA2wcAANoHAADaBwAA2QcAANkHAADYBwAA2AcAANcHAADXBwAA1gcAANYHAADVBwAA1QcAANQHAADUBwAA0wcAANMHAADSBwAA0gcAANEHAADRBwAA0AcAANAHAADPBwAAzwcAAM4HAADOBwAAzQcAAM0HAADMBwAAzAcAAMsHAADLBwAAygcAAMoHAADJBwAAyQcAAMgHAADIBwAAxwcAAMcHAADGBwAAxgcAAMUHAADFBwAAxAcAAMQHAADDBwAAwgcAAMIHAADBBwAAwQcAAMAHAAC/BwAAvgcAAL0HAAC9BwAAvAcAALsHAAC7BwAAugcAALkHAAC5BwAAuAcAALcHAAC2BwAAtgcAALUHAAC0BwAAtAcAALMHAACyBwAAsQcAALAHAACvBwAArwcAAK4HAACtBwAArAcAAKsHAACrBwAAqgcAAKkHAACoBwAApwcAAKYHAACkBwAAowcAAKIHAACbBwAAmgcAAJoHAACZBwAAmQcAAJgHAACXBwAAlgcAAIUHAAA=\"},\"shape\":[119],\"dtype\":\"int32\",\"order\":\"little\"}],[\"count\",{\"type\":\"ndarray\",\"array\":{\"type\":\"bytes\",\"data\":\"FQEAADsBAAC0AQAABQIAAI0BAAB5AgAA/wIAAHwBAAAJAQAA/wIAAPQAAACSAgAAogAAAI4BAABYAAAACAEAAD8AAADhAAAAQAAAAK0AAAAoAAAAkQAAACgAAACaAAAAIgAAAHYAAABxAAAAFwAAAEoAAAAOAAAAUgAAAA4AAABDAAAADQAAADcAAAAJAAAAMwAAAAoAAAAsAAAABwAAAAUAAAAoAAAABAAAACEAAAAHAAAAIAAAAAQAAAAgAAAABAAAACIAAAADAAAAFQAAABcAAAACAAAAAgAAABQAAAAEAAAAGAAAAAMAAAAUAAAAAQAAABAAAAATAAAAAwAAAAEAAAAPAAAAEAAAAAIAAAAIAAAAAgAAAAsAAAAJAAAAAQAAAAwAAAALAAAAEQAAAAEAAAAMAAAACwAAAAEAAAAKAAAABwAAAAYAAAABAAAACQAAAAcAAAAGAAAAAQAAAAoAAAAEAAAAAQAAAAUAAAACAAAAAgAAAAMAAAAEAAAAAQAAAAEAAAACAAAAAgAAAAEAAAABAAAAAwAAAAEAAAAEAAAAAQAAAAMAAAACAAAAAwAAAAIAAAABAAAAAQAAAAEAAAADAAAAAQAAAAMAAAADAAAAAgAAAAEAAAA=\"},\"shape\":[119],\"dtype\":\"int32\",\"order\":\"little\"}]]}}},\"view\":{\"type\":\"object\",\"name\":\"CDSView\",\"id\":\"p1044\",\"attributes\":{\"filter\":{\"type\":\"object\",\"name\":\"AllIndices\",\"id\":\"p1045\"}}},\"glyph\":{\"type\":\"object\",\"name\":\"Circle\",\"id\":\"p1040\",\"attributes\":{\"x\":{\"type\":\"field\",\"field\":\"release_year\"},\"y\":{\"type\":\"field\",\"field\":\"count\"},\"size\":{\"type\":\"value\",\"value\":12},\"line_color\":{\"type\":\"value\",\"value\":\"white\"},\"fill_color\":{\"type\":\"field\",\"field\":\"type\",\"transform\":{\"type\":\"object\",\"name\":\"CategoricalColorMapper\",\"id\":\"p1033\",\"attributes\":{\"palette\":[\"#758ea5\",\"#c35c55\"],\"factors\":[\"TV Show\",\"Movie\"]}}}}},\"nonselection_glyph\":{\"type\":\"object\",\"name\":\"Circle\",\"id\":\"p1041\",\"attributes\":{\"x\":{\"type\":\"field\",\"field\":\"release_year\"},\"y\":{\"type\":\"field\",\"field\":\"count\"},\"size\":{\"type\":\"value\",\"value\":12},\"line_color\":{\"type\":\"value\",\"value\":\"white\"},\"line_alpha\":{\"type\":\"value\",\"value\":0.1},\"fill_color\":{\"type\":\"field\",\"field\":\"type\",\"transform\":{\"id\":\"p1033\"}},\"fill_alpha\":{\"type\":\"value\",\"value\":0.1},\"hatch_alpha\":{\"type\":\"value\",\"value\":0.1}}},\"muted_glyph\":{\"type\":\"object\",\"name\":\"Circle\",\"id\":\"p1042\",\"attributes\":{\"x\":{\"type\":\"field\",\"field\":\"release_year\"},\"y\":{\"type\":\"field\",\"field\":\"count\"},\"size\":{\"type\":\"value\",\"value\":12},\"line_color\":{\"type\":\"value\",\"value\":\"white\"},\"line_alpha\":{\"type\":\"value\",\"value\":0.2},\"fill_color\":{\"type\":\"field\",\"field\":\"type\",\"transform\":{\"id\":\"p1033\"}},\"fill_alpha\":{\"type\":\"value\",\"value\":0.2},\"hatch_alpha\":{\"type\":\"value\",\"value\":0.2}}}}}],\"toolbar\":{\"type\":\"object\",\"name\":\"Toolbar\",\"id\":\"p1010\",\"attributes\":{\"tools\":[{\"type\":\"object\",\"name\":\"PanTool\",\"id\":\"p1023\"},{\"type\":\"object\",\"name\":\"ResetTool\",\"id\":\"p1024\"},{\"type\":\"object\",\"name\":\"BoxZoomTool\",\"id\":\"p1025\",\"attributes\":{\"overlay\":{\"type\":\"object\",\"name\":\"BoxAnnotation\",\"id\":\"p1026\",\"attributes\":{\"syncable\":false,\"level\":\"overlay\",\"visible\":false,\"left\":{\"type\":\"number\",\"value\":\"nan\"},\"right\":{\"type\":\"number\",\"value\":\"nan\"},\"top\":{\"type\":\"number\",\"value\":\"nan\"},\"bottom\":{\"type\":\"number\",\"value\":\"nan\"},\"left_units\":\"canvas\",\"right_units\":\"canvas\",\"top_units\":\"canvas\",\"bottom_units\":\"canvas\",\"line_color\":\"black\",\"line_alpha\":1.0,\"line_width\":2,\"line_dash\":[4,4],\"fill_color\":\"lightgrey\",\"fill_alpha\":0.5}}}},{\"type\":\"object\",\"name\":\"WheelZoomTool\",\"id\":\"p1031\",\"attributes\":{\"renderers\":\"auto\"}},{\"type\":\"object\",\"name\":\"TapTool\",\"id\":\"p1032\",\"attributes\":{\"renderers\":\"auto\",\"behavior\":\"inspect\"}}]}},\"left\":[{\"type\":\"object\",\"name\":\"LinearAxis\",\"id\":\"p1018\",\"attributes\":{\"ticker\":{\"type\":\"object\",\"name\":\"BasicTicker\",\"id\":\"p1019\",\"attributes\":{\"mantissas\":[1,2,5]}},\"formatter\":{\"type\":\"object\",\"name\":\"BasicTickFormatter\",\"id\":\"p1020\"},\"axis_label\":\"Count added\",\"major_label_policy\":{\"type\":\"object\",\"name\":\"AllLabels\",\"id\":\"p1021\"}}}],\"below\":[{\"type\":\"object\",\"name\":\"LinearAxis\",\"id\":\"p1013\",\"attributes\":{\"ticker\":{\"type\":\"object\",\"name\":\"BasicTicker\",\"id\":\"p1014\",\"attributes\":{\"mantissas\":[1,2,5]}},\"formatter\":{\"type\":\"object\",\"name\":\"BasicTickFormatter\",\"id\":\"p1015\"},\"axis_label\":\"Year of release\",\"major_label_policy\":{\"type\":\"object\",\"name\":\"AllLabels\",\"id\":\"p1016\"}}}],\"center\":[{\"type\":\"object\",\"name\":\"Grid\",\"id\":\"p1017\",\"attributes\":{\"axis\":{\"id\":\"p1013\"},\"grid_line_alpha\":0.1}},{\"type\":\"object\",\"name\":\"Grid\",\"id\":\"p1022\",\"attributes\":{\"dimension\":1,\"axis\":{\"id\":\"p1018\"},\"grid_line_alpha\":0.1}},{\"type\":\"object\",\"name\":\"Legend\",\"id\":\"p1046\",\"attributes\":{\"location\":\"top_left\",\"title\":\"Type\",\"label_text_font_size\":\"12px\",\"items\":[{\"type\":\"object\",\"name\":\"LegendItem\",\"id\":\"p1047\",\"attributes\":{\"label\":{\"type\":\"field\",\"field\":\"type\"},\"renderers\":[{\"id\":\"p1043\"}]}}]}}],\"background_fill_color\":\"#2d2e2e\"}}]}};\n",
       "  const render_items = [{\"docid\":\"b64b7a0d-44b7-463c-982d-b8cae1ecfc70\",\"roots\":{\"p1001\":\"adb672a0-85a3-40cf-b774-3cfedddf485b\"},\"root_ids\":[\"p1001\"]}];\n",
       "  root.Bokeh.embed.embed_items_notebook(docs_json, render_items);\n",
       "  }\n",
       "  if (root.Bokeh !== undefined) {\n",
       "    embed_document(root);\n",
       "  } else {\n",
       "    let attempts = 0;\n",
       "    const timer = setInterval(function(root) {\n",
       "      if (root.Bokeh !== undefined) {\n",
       "        clearInterval(timer);\n",
       "        embed_document(root);\n",
       "      } else {\n",
       "        attempts++;\n",
       "        if (attempts > 100) {\n",
       "          clearInterval(timer);\n",
       "          console.log(\"Bokeh: ERROR: Unable to run BokehJS code because BokehJS library is missing\");\n",
       "        }\n",
       "      }\n",
       "    }, 10, root)\n",
       "  }\n",
       "})(window);"
      ],
      "application/vnd.bokehjs_exec.v0+json": ""
     },
     "metadata": {
      "application/vnd.bokehjs_exec.v0+json": {
       "id": "p1001"
      }
     },
     "output_type": "display_data"
    }
   ],
   "source": [
    "plot = figure(width=900, height=550, tools=['pan','reset','box_zoom', 'wheel_zoom', 'click'],\n",
    "              title='Release years of Movies and TV Shows added to Netflix',\n",
    "                 x_axis_label='Year of release',\n",
    "                 y_axis_label='Count added',\n",
    "                 title_location='above')\n",
    "\n",
    "plot.title.text_color = \"black\"\n",
    "# plot.title.text_font_style = \"bold\"\n",
    "plot.title.text_font_size = '13pt'\n",
    "\n",
    "plot.background_fill_color = \"#2d2e2e\"\n",
    "plot.grid.grid_line_alpha = 0.1  # Set the alpha value for grid lines\n",
    "\n",
    "# plot.border_fill_color = \"#2d2e2e\"\n",
    "\n",
    "color_mapper = factor_cmap('type', palette=['#758ea5', '#c35c55'], factors=['TV Show', 'Movie'])\n",
    "\n",
    "plot.circle('release_year', \n",
    "         'count', \n",
    "         source=df_new, \n",
    "         size=12, \n",
    "         alpha=1,\n",
    "         fill_color = color_mapper,\n",
    "         line_color='white',\n",
    "         legend_field='type')\n",
    "\n",
    "plot.legend.title = 'Type'\n",
    "plot.legend.label_text_font_size = '12px'\n",
    "plot.legend.location = 'top_left'\n",
    "\n",
    "\n",
    "show(plot)"
   ]
  },
  {
   "cell_type": "markdown",
   "id": "48400aa9",
   "metadata": {
    "papermill": {
     "duration": 0.008801,
     "end_time": "2024-01-30T13:10:53.960999",
     "exception": false,
     "start_time": "2024-01-30T13:10:53.952198",
     "status": "completed"
    },
    "tags": []
   },
   "source": [
    "***"
   ]
  },
  {
   "cell_type": "markdown",
   "id": "c027872d",
   "metadata": {
    "papermill": {
     "duration": 0.008655,
     "end_time": "2024-01-30T13:10:53.978663",
     "exception": false,
     "start_time": "2024-01-30T13:10:53.970008",
     "status": "completed"
    },
    "tags": []
   },
   "source": [
    "### Defining a function to create a lineplot of date added x count added"
   ]
  },
  {
   "cell_type": "markdown",
   "id": "7f57fde9",
   "metadata": {
    "papermill": {
     "duration": 0.00861,
     "end_time": "2024-01-30T13:10:53.996356",
     "exception": false,
     "start_time": "2024-01-30T13:10:53.987746",
     "status": "completed"
    },
    "tags": []
   },
   "source": [
    "aggregating the data:"
   ]
  },
  {
   "cell_type": "code",
   "execution_count": 6,
   "id": "02eadba1",
   "metadata": {
    "execution": {
     "iopub.execute_input": "2024-01-30T13:10:54.016266Z",
     "iopub.status.busy": "2024-01-30T13:10:54.015861Z",
     "iopub.status.idle": "2024-01-30T13:10:54.029818Z",
     "shell.execute_reply": "2024-01-30T13:10:54.028883Z"
    },
    "papermill": {
     "duration": 0.02707,
     "end_time": "2024-01-30T13:10:54.032365",
     "exception": false,
     "start_time": "2024-01-30T13:10:54.005295",
     "status": "completed"
    },
    "tags": []
   },
   "outputs": [],
   "source": [
    "df_new_two = df_clean.groupby(['type'])['date_added'].value_counts().reset_index()\n",
    "df_new_two = df_new_two.sort_values(by='date_added', ascending=True)"
   ]
  },
  {
   "cell_type": "code",
   "execution_count": 7,
   "id": "2fa00e83",
   "metadata": {
    "execution": {
     "iopub.execute_input": "2024-01-30T13:10:54.052819Z",
     "iopub.status.busy": "2024-01-30T13:10:54.051867Z",
     "iopub.status.idle": "2024-01-30T13:10:54.093248Z",
     "shell.execute_reply": "2024-01-30T13:10:54.092110Z"
    },
    "papermill": {
     "duration": 0.054702,
     "end_time": "2024-01-30T13:10:54.096215",
     "exception": false,
     "start_time": "2024-01-30T13:10:54.041513",
     "status": "completed"
    },
    "tags": []
   },
   "outputs": [],
   "source": [
    "df_new_three = df_new_two.copy()\n",
    "df_new_three['year'] = pd.to_datetime(df_new_three['date_added']).dt.strftime('%Y').astype(int) # Changing date structure\n",
    "df_new_three = df_new_three.drop(columns='date_added')\n",
    "df_new_three = df_new_three.groupby(['year','type'])['count'].sum().reset_index()"
   ]
  },
  {
   "cell_type": "markdown",
   "id": "db4aba34",
   "metadata": {
    "papermill": {
     "duration": 0.009016,
     "end_time": "2024-01-30T13:10:54.114394",
     "exception": false,
     "start_time": "2024-01-30T13:10:54.105378",
     "status": "completed"
    },
    "tags": []
   },
   "source": [
    "Defining a function to create a lineplot:"
   ]
  },
  {
   "cell_type": "code",
   "execution_count": 8,
   "id": "fe53ed12",
   "metadata": {
    "execution": {
     "iopub.execute_input": "2024-01-30T13:10:54.134214Z",
     "iopub.status.busy": "2024-01-30T13:10:54.133809Z",
     "iopub.status.idle": "2024-01-30T13:10:54.143363Z",
     "shell.execute_reply": "2024-01-30T13:10:54.142528Z"
    },
    "papermill": {
     "duration": 0.02215,
     "end_time": "2024-01-30T13:10:54.145680",
     "exception": false,
     "start_time": "2024-01-30T13:10:54.123530",
     "status": "completed"
    },
    "tags": []
   },
   "outputs": [],
   "source": [
    "def bokeh_lineplot(data_to_plot, x_column, y_column):\n",
    "    \n",
    "    tv_show_data = data_to_plot[data_to_plot['type'] == 'TV Show']\n",
    "    movie_data = data_to_plot[data_to_plot['type'] == 'Movie']\n",
    "    \n",
    "    vis = figure(width=900, height=550, tools=['pan','reset','box_zoom', 'wheel_zoom', 'click'],\n",
    "              title='Dual lineplot showing type of title added by year',\n",
    "                 x_axis_label='Year added',\n",
    "                 y_axis_label='Count added',\n",
    "                 title_location='above')\n",
    "    \n",
    "    vis.title.text_color = \"black\"\n",
    "    vis.title.text_font_size = '13pt'\n",
    "\n",
    "    vis.background_fill_color = \"#2d2e2e\"\n",
    "    vis.grid.grid_line_alpha = 0.1  # Set the alpha value for grid lines\n",
    "    \n",
    "    tv_line = vis.line(x=tv_show_data['year'], y=tv_show_data['count'], line_color='#758ea5', legend_label='TV Show', width=5)\n",
    "        \n",
    "    movie_line = vis.line(x=movie_data['year'], y=movie_data['count'], line_color='#c35c55', legend_label='Movie', width = 5)\n",
    "                \n",
    "    vis.legend.title = 'Type'\n",
    "    vis.legend.label_text_font_size = '12px'\n",
    "    vis.legend.location = 'top_left'\n",
    "\n",
    "    \n",
    "    return(show(vis))\n"
   ]
  },
  {
   "cell_type": "code",
   "execution_count": 9,
   "id": "9d29a2d8",
   "metadata": {
    "execution": {
     "iopub.execute_input": "2024-01-30T13:10:54.166391Z",
     "iopub.status.busy": "2024-01-30T13:10:54.165237Z",
     "iopub.status.idle": "2024-01-30T13:10:54.255107Z",
     "shell.execute_reply": "2024-01-30T13:10:54.254308Z"
    },
    "papermill": {
     "duration": 0.102517,
     "end_time": "2024-01-30T13:10:54.257516",
     "exception": false,
     "start_time": "2024-01-30T13:10:54.154999",
     "status": "completed"
    },
    "tags": []
   },
   "outputs": [
    {
     "data": {
      "text/html": [
       "\n",
       "  <div id=\"e56b9dc4-fc1b-4b6b-a2cd-0b93ce8efd2d\" data-root-id=\"p1051\" style=\"display: contents;\"></div>\n"
      ]
     },
     "metadata": {},
     "output_type": "display_data"
    },
    {
     "data": {
      "application/javascript": [
       "(function(root) {\n",
       "  function embed_document(root) {\n",
       "  const docs_json = {\"93ec02d9-7764-4f2b-bfef-3b717f0de66f\":{\"version\":\"3.3.3\",\"title\":\"Bokeh Application\",\"roots\":[{\"type\":\"object\",\"name\":\"Figure\",\"id\":\"p1051\",\"attributes\":{\"width\":900,\"height\":550,\"x_range\":{\"type\":\"object\",\"name\":\"DataRange1d\",\"id\":\"p1052\"},\"y_range\":{\"type\":\"object\",\"name\":\"DataRange1d\",\"id\":\"p1053\"},\"x_scale\":{\"type\":\"object\",\"name\":\"LinearScale\",\"id\":\"p1061\"},\"y_scale\":{\"type\":\"object\",\"name\":\"LinearScale\",\"id\":\"p1062\"},\"title\":{\"type\":\"object\",\"name\":\"Title\",\"id\":\"p1054\",\"attributes\":{\"text\":\"Dual lineplot showing type of title added by year\",\"text_color\":\"black\",\"text_font_size\":\"13pt\"}},\"renderers\":[{\"type\":\"object\",\"name\":\"GlyphRenderer\",\"id\":\"p1089\",\"attributes\":{\"data_source\":{\"type\":\"object\",\"name\":\"ColumnDataSource\",\"id\":\"p1083\",\"attributes\":{\"selected\":{\"type\":\"object\",\"name\":\"Selection\",\"id\":\"p1084\",\"attributes\":{\"indices\":[],\"line_indices\":[]}},\"selection_policy\":{\"type\":\"object\",\"name\":\"UnionRenderers\",\"id\":\"p1085\"},\"data\":{\"type\":\"map\",\"entries\":[[\"x\",{\"type\":\"ndarray\",\"array\":{\"type\":\"bytes\",\"data\":\"2AcAAN0HAADeBwAA3wcAAOAHAADhBwAA4gcAAOMHAADkBwAA5QcAAA==\"},\"shape\":[10],\"dtype\":\"int32\",\"order\":\"little\"}],[\"y\",{\"type\":\"ndarray\",\"array\":{\"type\":\"bytes\",\"data\":\"AQAAAAUAAAAFAAAAGgAAALAAAABdAQAAnAEAAFACAABTAgAA+QEAAA==\"},\"shape\":[10],\"dtype\":\"int32\",\"order\":\"little\"}]]}}},\"view\":{\"type\":\"object\",\"name\":\"CDSView\",\"id\":\"p1090\",\"attributes\":{\"filter\":{\"type\":\"object\",\"name\":\"AllIndices\",\"id\":\"p1091\"}}},\"glyph\":{\"type\":\"object\",\"name\":\"Line\",\"id\":\"p1086\",\"attributes\":{\"x\":{\"type\":\"field\",\"field\":\"x\"},\"y\":{\"type\":\"field\",\"field\":\"y\"},\"line_color\":\"#758ea5\",\"line_width\":5}},\"nonselection_glyph\":{\"type\":\"object\",\"name\":\"Line\",\"id\":\"p1087\",\"attributes\":{\"x\":{\"type\":\"field\",\"field\":\"x\"},\"y\":{\"type\":\"field\",\"field\":\"y\"},\"line_color\":\"#758ea5\",\"line_alpha\":0.1,\"line_width\":5}},\"muted_glyph\":{\"type\":\"object\",\"name\":\"Line\",\"id\":\"p1088\",\"attributes\":{\"x\":{\"type\":\"field\",\"field\":\"x\"},\"y\":{\"type\":\"field\",\"field\":\"y\"},\"line_color\":\"#758ea5\",\"line_alpha\":0.2,\"line_width\":5}}}},{\"type\":\"object\",\"name\":\"GlyphRenderer\",\"id\":\"p1100\",\"attributes\":{\"data_source\":{\"type\":\"object\",\"name\":\"ColumnDataSource\",\"id\":\"p1094\",\"attributes\":{\"selected\":{\"type\":\"object\",\"name\":\"Selection\",\"id\":\"p1095\",\"attributes\":{\"indices\":[],\"line_indices\":[]}},\"selection_policy\":{\"type\":\"object\",\"name\":\"UnionRenderers\",\"id\":\"p1096\"},\"data\":{\"type\":\"map\",\"entries\":[[\"x\",{\"type\":\"ndarray\",\"array\":{\"type\":\"bytes\",\"data\":\"2AcAANkHAADaBwAA2wcAANwHAADdBwAA3gcAAN8HAADgBwAA4QcAAOIHAADjBwAA5AcAAOUHAAA=\"},\"shape\":[14],\"dtype\":\"int32\",\"order\":\"little\"}],[\"y\",{\"type\":\"ndarray\",\"array\":{\"type\":\"bytes\",\"data\":\"AQAAAAIAAAABAAAADQAAAAMAAAAGAAAAEwAAADgAAAD9AAAARwMAANUEAACQBQAABAUAAOEDAAA=\"},\"shape\":[14],\"dtype\":\"int32\",\"order\":\"little\"}]]}}},\"view\":{\"type\":\"object\",\"name\":\"CDSView\",\"id\":\"p1101\",\"attributes\":{\"filter\":{\"type\":\"object\",\"name\":\"AllIndices\",\"id\":\"p1102\"}}},\"glyph\":{\"type\":\"object\",\"name\":\"Line\",\"id\":\"p1097\",\"attributes\":{\"x\":{\"type\":\"field\",\"field\":\"x\"},\"y\":{\"type\":\"field\",\"field\":\"y\"},\"line_color\":\"#c35c55\",\"line_width\":5}},\"nonselection_glyph\":{\"type\":\"object\",\"name\":\"Line\",\"id\":\"p1098\",\"attributes\":{\"x\":{\"type\":\"field\",\"field\":\"x\"},\"y\":{\"type\":\"field\",\"field\":\"y\"},\"line_color\":\"#c35c55\",\"line_alpha\":0.1,\"line_width\":5}},\"muted_glyph\":{\"type\":\"object\",\"name\":\"Line\",\"id\":\"p1099\",\"attributes\":{\"x\":{\"type\":\"field\",\"field\":\"x\"},\"y\":{\"type\":\"field\",\"field\":\"y\"},\"line_color\":\"#c35c55\",\"line_alpha\":0.2,\"line_width\":5}}}}],\"toolbar\":{\"type\":\"object\",\"name\":\"Toolbar\",\"id\":\"p1060\",\"attributes\":{\"tools\":[{\"type\":\"object\",\"name\":\"PanTool\",\"id\":\"p1073\"},{\"type\":\"object\",\"name\":\"ResetTool\",\"id\":\"p1074\"},{\"type\":\"object\",\"name\":\"BoxZoomTool\",\"id\":\"p1075\",\"attributes\":{\"overlay\":{\"type\":\"object\",\"name\":\"BoxAnnotation\",\"id\":\"p1076\",\"attributes\":{\"syncable\":false,\"level\":\"overlay\",\"visible\":false,\"left\":{\"type\":\"number\",\"value\":\"nan\"},\"right\":{\"type\":\"number\",\"value\":\"nan\"},\"top\":{\"type\":\"number\",\"value\":\"nan\"},\"bottom\":{\"type\":\"number\",\"value\":\"nan\"},\"left_units\":\"canvas\",\"right_units\":\"canvas\",\"top_units\":\"canvas\",\"bottom_units\":\"canvas\",\"line_color\":\"black\",\"line_alpha\":1.0,\"line_width\":2,\"line_dash\":[4,4],\"fill_color\":\"lightgrey\",\"fill_alpha\":0.5}}}},{\"type\":\"object\",\"name\":\"WheelZoomTool\",\"id\":\"p1081\",\"attributes\":{\"renderers\":\"auto\"}},{\"type\":\"object\",\"name\":\"TapTool\",\"id\":\"p1082\",\"attributes\":{\"renderers\":\"auto\",\"behavior\":\"inspect\"}}]}},\"left\":[{\"type\":\"object\",\"name\":\"LinearAxis\",\"id\":\"p1068\",\"attributes\":{\"ticker\":{\"type\":\"object\",\"name\":\"BasicTicker\",\"id\":\"p1069\",\"attributes\":{\"mantissas\":[1,2,5]}},\"formatter\":{\"type\":\"object\",\"name\":\"BasicTickFormatter\",\"id\":\"p1070\"},\"axis_label\":\"Count added\",\"major_label_policy\":{\"type\":\"object\",\"name\":\"AllLabels\",\"id\":\"p1071\"}}}],\"below\":[{\"type\":\"object\",\"name\":\"LinearAxis\",\"id\":\"p1063\",\"attributes\":{\"ticker\":{\"type\":\"object\",\"name\":\"BasicTicker\",\"id\":\"p1064\",\"attributes\":{\"mantissas\":[1,2,5]}},\"formatter\":{\"type\":\"object\",\"name\":\"BasicTickFormatter\",\"id\":\"p1065\"},\"axis_label\":\"Year added\",\"major_label_policy\":{\"type\":\"object\",\"name\":\"AllLabels\",\"id\":\"p1066\"}}}],\"center\":[{\"type\":\"object\",\"name\":\"Grid\",\"id\":\"p1067\",\"attributes\":{\"axis\":{\"id\":\"p1063\"},\"grid_line_alpha\":0.1}},{\"type\":\"object\",\"name\":\"Grid\",\"id\":\"p1072\",\"attributes\":{\"dimension\":1,\"axis\":{\"id\":\"p1068\"},\"grid_line_alpha\":0.1}},{\"type\":\"object\",\"name\":\"Legend\",\"id\":\"p1092\",\"attributes\":{\"location\":\"top_left\",\"title\":\"Type\",\"label_text_font_size\":\"12px\",\"items\":[{\"type\":\"object\",\"name\":\"LegendItem\",\"id\":\"p1093\",\"attributes\":{\"label\":{\"type\":\"value\",\"value\":\"TV Show\"},\"renderers\":[{\"id\":\"p1089\"}]}},{\"type\":\"object\",\"name\":\"LegendItem\",\"id\":\"p1103\",\"attributes\":{\"label\":{\"type\":\"value\",\"value\":\"Movie\"},\"renderers\":[{\"id\":\"p1100\"}]}}]}}],\"background_fill_color\":\"#2d2e2e\"}}]}};\n",
       "  const render_items = [{\"docid\":\"93ec02d9-7764-4f2b-bfef-3b717f0de66f\",\"roots\":{\"p1051\":\"e56b9dc4-fc1b-4b6b-a2cd-0b93ce8efd2d\"},\"root_ids\":[\"p1051\"]}];\n",
       "  root.Bokeh.embed.embed_items_notebook(docs_json, render_items);\n",
       "  }\n",
       "  if (root.Bokeh !== undefined) {\n",
       "    embed_document(root);\n",
       "  } else {\n",
       "    let attempts = 0;\n",
       "    const timer = setInterval(function(root) {\n",
       "      if (root.Bokeh !== undefined) {\n",
       "        clearInterval(timer);\n",
       "        embed_document(root);\n",
       "      } else {\n",
       "        attempts++;\n",
       "        if (attempts > 100) {\n",
       "          clearInterval(timer);\n",
       "          console.log(\"Bokeh: ERROR: Unable to run BokehJS code because BokehJS library is missing\");\n",
       "        }\n",
       "      }\n",
       "    }, 10, root)\n",
       "  }\n",
       "})(window);"
      ],
      "application/vnd.bokehjs_exec.v0+json": ""
     },
     "metadata": {
      "application/vnd.bokehjs_exec.v0+json": {
       "id": "p1051"
      }
     },
     "output_type": "display_data"
    }
   ],
   "source": [
    "bokeh_lineplot(df_new_three, 'count', 'year')"
   ]
  },
  {
   "cell_type": "markdown",
   "id": "e9e381d0",
   "metadata": {
    "papermill": {
     "duration": 0.009157,
     "end_time": "2024-01-30T13:10:54.276211",
     "exception": false,
     "start_time": "2024-01-30T13:10:54.267054",
     "status": "completed"
    },
    "tags": []
   },
   "source": [
    "***"
   ]
  },
  {
   "cell_type": "markdown",
   "id": "a634b5ac",
   "metadata": {
    "papermill": {
     "duration": 0.009111,
     "end_time": "2024-01-30T13:10:54.294731",
     "exception": false,
     "start_time": "2024-01-30T13:10:54.285620",
     "status": "completed"
    },
    "tags": []
   },
   "source": [
    "## Creating a lineplot of month x content added"
   ]
  },
  {
   "cell_type": "markdown",
   "id": "cbb5ac2b",
   "metadata": {
    "papermill": {
     "duration": 0.009149,
     "end_time": "2024-01-30T13:10:54.313324",
     "exception": false,
     "start_time": "2024-01-30T13:10:54.304175",
     "status": "completed"
    },
    "tags": []
   },
   "source": [
    "Aggregating the data:"
   ]
  },
  {
   "cell_type": "code",
   "execution_count": 10,
   "id": "f0002b91",
   "metadata": {
    "execution": {
     "iopub.execute_input": "2024-01-30T13:10:54.334053Z",
     "iopub.status.busy": "2024-01-30T13:10:54.333675Z",
     "iopub.status.idle": "2024-01-30T13:10:54.542402Z",
     "shell.execute_reply": "2024-01-30T13:10:54.541406Z"
    },
    "papermill": {
     "duration": 0.222383,
     "end_time": "2024-01-30T13:10:54.545144",
     "exception": false,
     "start_time": "2024-01-30T13:10:54.322761",
     "status": "completed"
    },
    "tags": []
   },
   "outputs": [],
   "source": [
    "df3 = df_clean.copy()\n",
    "df3 = df3.rename(columns={\"date_added\": \"Date Added\"}) # Renaming columns\n",
    "df3['Month'] = pd.to_datetime(df3['Date Added']).dt.strftime('%m') # Changing date structure\n",
    "df4 = df3.groupby(['Month', 'type']).size().reset_index(name='Total Content') # Aggregating data\n"
   ]
  },
  {
   "cell_type": "code",
   "execution_count": 11,
   "id": "e6f3e7dc",
   "metadata": {
    "execution": {
     "iopub.execute_input": "2024-01-30T13:10:54.566963Z",
     "iopub.status.busy": "2024-01-30T13:10:54.566532Z",
     "iopub.status.idle": "2024-01-30T13:10:54.708904Z",
     "shell.execute_reply": "2024-01-30T13:10:54.707781Z"
    },
    "papermill": {
     "duration": 0.15559,
     "end_time": "2024-01-30T13:10:54.711472",
     "exception": false,
     "start_time": "2024-01-30T13:10:54.555882",
     "status": "completed"
    },
    "tags": []
   },
   "outputs": [
    {
     "data": {
      "text/html": [
       "\n",
       "  <div id=\"d9bc710d-22a7-40eb-a0cf-d261f8478e38\" data-root-id=\"p1108\" style=\"display: contents;\"></div>\n"
      ]
     },
     "metadata": {},
     "output_type": "display_data"
    },
    {
     "data": {
      "application/javascript": [
       "(function(root) {\n",
       "  function embed_document(root) {\n",
       "  const docs_json = {\"233e8572-4f7d-49ce-ae70-5d011c838e21\":{\"version\":\"3.3.3\",\"title\":\"Bokeh Application\",\"roots\":[{\"type\":\"object\",\"name\":\"Figure\",\"id\":\"p1108\",\"attributes\":{\"width\":900,\"x_range\":{\"type\":\"object\",\"name\":\"DataRange1d\",\"id\":\"p1109\"},\"y_range\":{\"type\":\"object\",\"name\":\"DataRange1d\",\"id\":\"p1110\"},\"x_scale\":{\"type\":\"object\",\"name\":\"LinearScale\",\"id\":\"p1118\"},\"y_scale\":{\"type\":\"object\",\"name\":\"LinearScale\",\"id\":\"p1119\"},\"title\":{\"type\":\"object\",\"name\":\"Title\",\"id\":\"p1111\",\"attributes\":{\"text\":\"Monthly trend of TV show & Movie content added to Netflix\",\"text_color\":\"black\",\"text_font_size\":\"13pt\"}},\"renderers\":[{\"type\":\"object\",\"name\":\"GlyphRenderer\",\"id\":\"p1150\",\"attributes\":{\"data_source\":{\"type\":\"object\",\"name\":\"ColumnDataSource\",\"id\":\"p1141\",\"attributes\":{\"selected\":{\"type\":\"object\",\"name\":\"Selection\",\"id\":\"p1142\",\"attributes\":{\"indices\":[],\"line_indices\":[]}},\"selection_policy\":{\"type\":\"object\",\"name\":\"UnionRenderers\",\"id\":\"p1143\"},\"data\":{\"type\":\"map\",\"entries\":[[\"index\",{\"type\":\"ndarray\",\"array\":{\"type\":\"bytes\",\"data\":\"AAAAAAIAAAAEAAAABgAAAAgAAAAKAAAADAAAAA4AAAAQAAAAEgAAABQAAAAWAAAA\"},\"shape\":[12],\"dtype\":\"int32\",\"order\":\"little\"}],[\"Month\",{\"type\":\"ndarray\",\"array\":[\"01\",\"02\",\"03\",\"04\",\"05\",\"06\",\"07\",\"08\",\"09\",\"10\",\"11\",\"12\"],\"shape\":[12],\"dtype\":\"object\",\"order\":\"little\"}],[\"type\",{\"type\":\"ndarray\",\"array\":[\"Movie\",\"Movie\",\"Movie\",\"Movie\",\"Movie\",\"Movie\",\"Movie\",\"Movie\",\"Movie\",\"Movie\",\"Movie\",\"Movie\"],\"shape\":[12],\"dtype\":\"object\",\"order\":\"little\"}],[\"Total Content\",{\"type\":\"ndarray\",\"array\":{\"type\":\"bytes\",\"data\":\"IgIAAH4BAAARAgAAJgIAALcBAADsAQAANQIAAAcCAAAHAgAAIQIAAPIBAAAjAgAA\"},\"shape\":[12],\"dtype\":\"int32\",\"order\":\"little\"}]]}}},\"view\":{\"type\":\"object\",\"name\":\"CDSView\",\"id\":\"p1151\",\"attributes\":{\"filter\":{\"type\":\"object\",\"name\":\"AllIndices\",\"id\":\"p1152\"}}},\"glyph\":{\"type\":\"object\",\"name\":\"Line\",\"id\":\"p1147\",\"attributes\":{\"x\":{\"type\":\"field\",\"field\":\"Month\"},\"y\":{\"type\":\"field\",\"field\":\"Total Content\"},\"line_color\":\"#c35c55\",\"line_width\":2}},\"nonselection_glyph\":{\"type\":\"object\",\"name\":\"Line\",\"id\":\"p1148\",\"attributes\":{\"x\":{\"type\":\"field\",\"field\":\"Month\"},\"y\":{\"type\":\"field\",\"field\":\"Total Content\"},\"line_color\":\"#c35c55\",\"line_alpha\":0.1,\"line_width\":2}},\"muted_glyph\":{\"type\":\"object\",\"name\":\"Line\",\"id\":\"p1149\",\"attributes\":{\"x\":{\"type\":\"field\",\"field\":\"Month\"},\"y\":{\"type\":\"field\",\"field\":\"Total Content\"},\"line_color\":\"#c35c55\",\"line_alpha\":0.2,\"line_width\":2}}}},{\"type\":\"object\",\"name\":\"GlyphRenderer\",\"id\":\"p1164\",\"attributes\":{\"data_source\":{\"type\":\"object\",\"name\":\"ColumnDataSource\",\"id\":\"p1155\",\"attributes\":{\"selected\":{\"type\":\"object\",\"name\":\"Selection\",\"id\":\"p1156\",\"attributes\":{\"indices\":[],\"line_indices\":[]}},\"selection_policy\":{\"type\":\"object\",\"name\":\"UnionRenderers\",\"id\":\"p1157\"},\"data\":{\"type\":\"map\",\"entries\":[[\"index\",{\"type\":\"ndarray\",\"array\":{\"type\":\"bytes\",\"data\":\"AQAAAAMAAAAFAAAABwAAAAkAAAALAAAADQAAAA8AAAARAAAAEwAAABUAAAAXAAAA\"},\"shape\":[12],\"dtype\":\"int32\",\"order\":\"little\"}],[\"Month\",{\"type\":\"ndarray\",\"array\":[\"01\",\"02\",\"03\",\"04\",\"05\",\"06\",\"07\",\"08\",\"09\",\"10\",\"11\",\"12\"],\"shape\":[12],\"dtype\":\"object\",\"order\":\"little\"}],[\"type\",{\"type\":\"ndarray\",\"array\":[\"TV Show\",\"TV Show\",\"TV Show\",\"TV Show\",\"TV Show\",\"TV Show\",\"TV Show\",\"TV Show\",\"TV Show\",\"TV Show\",\"TV Show\",\"TV Show\"],\"shape\":[12],\"dtype\":\"object\",\"order\":\"little\"}],[\"Total Content\",{\"type\":\"ndarray\",\"array\":{\"type\":\"bytes\",\"data\":\"wAAAALUAAADVAAAA1gAAAMEAAADsAAAABgEAAOwAAAD7AAAA1wAAAM8AAAAKAQAA\"},\"shape\":[12],\"dtype\":\"int32\",\"order\":\"little\"}]]}}},\"view\":{\"type\":\"object\",\"name\":\"CDSView\",\"id\":\"p1165\",\"attributes\":{\"filter\":{\"type\":\"object\",\"name\":\"AllIndices\",\"id\":\"p1166\"}}},\"glyph\":{\"type\":\"object\",\"name\":\"Line\",\"id\":\"p1161\",\"attributes\":{\"x\":{\"type\":\"field\",\"field\":\"Month\"},\"y\":{\"type\":\"field\",\"field\":\"Total Content\"},\"line_color\":\"#758ea5\",\"line_width\":2}},\"nonselection_glyph\":{\"type\":\"object\",\"name\":\"Line\",\"id\":\"p1162\",\"attributes\":{\"x\":{\"type\":\"field\",\"field\":\"Month\"},\"y\":{\"type\":\"field\",\"field\":\"Total Content\"},\"line_color\":\"#758ea5\",\"line_alpha\":0.1,\"line_width\":2}},\"muted_glyph\":{\"type\":\"object\",\"name\":\"Line\",\"id\":\"p1163\",\"attributes\":{\"x\":{\"type\":\"field\",\"field\":\"Month\"},\"y\":{\"type\":\"field\",\"field\":\"Total Content\"},\"line_color\":\"#758ea5\",\"line_alpha\":0.2,\"line_width\":2}}}},{\"type\":\"object\",\"name\":\"GlyphRenderer\",\"id\":\"p1177\",\"attributes\":{\"data_source\":{\"type\":\"object\",\"name\":\"ColumnDataSource\",\"id\":\"p1168\",\"attributes\":{\"selected\":{\"type\":\"object\",\"name\":\"Selection\",\"id\":\"p1169\",\"attributes\":{\"indices\":[],\"line_indices\":[]}},\"selection_policy\":{\"type\":\"object\",\"name\":\"UnionRenderers\",\"id\":\"p1170\"},\"data\":{\"type\":\"map\",\"entries\":[[\"index\",{\"type\":\"ndarray\",\"array\":{\"type\":\"bytes\",\"data\":\"AAAAAAIAAAAEAAAABgAAAAgAAAAKAAAADAAAAA4AAAAQAAAAEgAAABQAAAAWAAAA\"},\"shape\":[12],\"dtype\":\"int32\",\"order\":\"little\"}],[\"Month\",{\"type\":\"ndarray\",\"array\":[\"01\",\"02\",\"03\",\"04\",\"05\",\"06\",\"07\",\"08\",\"09\",\"10\",\"11\",\"12\"],\"shape\":[12],\"dtype\":\"object\",\"order\":\"little\"}],[\"type\",{\"type\":\"ndarray\",\"array\":[\"Movie\",\"Movie\",\"Movie\",\"Movie\",\"Movie\",\"Movie\",\"Movie\",\"Movie\",\"Movie\",\"Movie\",\"Movie\",\"Movie\"],\"shape\":[12],\"dtype\":\"object\",\"order\":\"little\"}],[\"Total Content\",{\"type\":\"ndarray\",\"array\":{\"type\":\"bytes\",\"data\":\"IgIAAH4BAAARAgAAJgIAALcBAADsAQAANQIAAAcCAAAHAgAAIQIAAPIBAAAjAgAA\"},\"shape\":[12],\"dtype\":\"int32\",\"order\":\"little\"}]]}}},\"view\":{\"type\":\"object\",\"name\":\"CDSView\",\"id\":\"p1178\",\"attributes\":{\"filter\":{\"type\":\"object\",\"name\":\"AllIndices\",\"id\":\"p1179\"}}},\"glyph\":{\"type\":\"object\",\"name\":\"VArea\",\"id\":\"p1174\",\"attributes\":{\"x\":{\"type\":\"field\",\"field\":\"Month\"},\"y1\":{\"type\":\"field\",\"field\":\"Total Content\"},\"y2\":{\"type\":\"value\",\"value\":0},\"fill_color\":\"#c35c55\",\"fill_alpha\":0.9,\"hatch_alpha\":{\"type\":\"value\",\"value\":0.9}}},\"nonselection_glyph\":{\"type\":\"object\",\"name\":\"VArea\",\"id\":\"p1175\",\"attributes\":{\"x\":{\"type\":\"field\",\"field\":\"Month\"},\"y1\":{\"type\":\"field\",\"field\":\"Total Content\"},\"y2\":{\"type\":\"value\",\"value\":0},\"fill_color\":\"#c35c55\",\"fill_alpha\":0.1,\"hatch_alpha\":{\"type\":\"value\",\"value\":0.1}}},\"muted_glyph\":{\"type\":\"object\",\"name\":\"VArea\",\"id\":\"p1176\",\"attributes\":{\"x\":{\"type\":\"field\",\"field\":\"Month\"},\"y1\":{\"type\":\"field\",\"field\":\"Total Content\"},\"y2\":{\"type\":\"value\",\"value\":0},\"fill_color\":\"#c35c55\",\"fill_alpha\":0.2,\"hatch_alpha\":{\"type\":\"value\",\"value\":0.2}}}}},{\"type\":\"object\",\"name\":\"GlyphRenderer\",\"id\":\"p1189\",\"attributes\":{\"data_source\":{\"type\":\"object\",\"name\":\"ColumnDataSource\",\"id\":\"p1180\",\"attributes\":{\"selected\":{\"type\":\"object\",\"name\":\"Selection\",\"id\":\"p1181\",\"attributes\":{\"indices\":[],\"line_indices\":[]}},\"selection_policy\":{\"type\":\"object\",\"name\":\"UnionRenderers\",\"id\":\"p1182\"},\"data\":{\"type\":\"map\",\"entries\":[[\"index\",{\"type\":\"ndarray\",\"array\":{\"type\":\"bytes\",\"data\":\"AQAAAAMAAAAFAAAABwAAAAkAAAALAAAADQAAAA8AAAARAAAAEwAAABUAAAAXAAAA\"},\"shape\":[12],\"dtype\":\"int32\",\"order\":\"little\"}],[\"Month\",{\"type\":\"ndarray\",\"array\":[\"01\",\"02\",\"03\",\"04\",\"05\",\"06\",\"07\",\"08\",\"09\",\"10\",\"11\",\"12\"],\"shape\":[12],\"dtype\":\"object\",\"order\":\"little\"}],[\"type\",{\"type\":\"ndarray\",\"array\":[\"TV Show\",\"TV Show\",\"TV Show\",\"TV Show\",\"TV Show\",\"TV Show\",\"TV Show\",\"TV Show\",\"TV Show\",\"TV Show\",\"TV Show\",\"TV Show\"],\"shape\":[12],\"dtype\":\"object\",\"order\":\"little\"}],[\"Total Content\",{\"type\":\"ndarray\",\"array\":{\"type\":\"bytes\",\"data\":\"wAAAALUAAADVAAAA1gAAAMEAAADsAAAABgEAAOwAAAD7AAAA1wAAAM8AAAAKAQAA\"},\"shape\":[12],\"dtype\":\"int32\",\"order\":\"little\"}]]}}},\"view\":{\"type\":\"object\",\"name\":\"CDSView\",\"id\":\"p1190\",\"attributes\":{\"filter\":{\"type\":\"object\",\"name\":\"AllIndices\",\"id\":\"p1191\"}}},\"glyph\":{\"type\":\"object\",\"name\":\"VArea\",\"id\":\"p1186\",\"attributes\":{\"x\":{\"type\":\"field\",\"field\":\"Month\"},\"y1\":{\"type\":\"field\",\"field\":\"Total Content\"},\"y2\":{\"type\":\"value\",\"value\":0},\"fill_color\":\"#758ea5\",\"fill_alpha\":0.9,\"hatch_alpha\":{\"type\":\"value\",\"value\":0.9}}},\"nonselection_glyph\":{\"type\":\"object\",\"name\":\"VArea\",\"id\":\"p1187\",\"attributes\":{\"x\":{\"type\":\"field\",\"field\":\"Month\"},\"y1\":{\"type\":\"field\",\"field\":\"Total Content\"},\"y2\":{\"type\":\"value\",\"value\":0},\"fill_color\":\"#758ea5\",\"fill_alpha\":0.1,\"hatch_alpha\":{\"type\":\"value\",\"value\":0.1}}},\"muted_glyph\":{\"type\":\"object\",\"name\":\"VArea\",\"id\":\"p1188\",\"attributes\":{\"x\":{\"type\":\"field\",\"field\":\"Month\"},\"y1\":{\"type\":\"field\",\"field\":\"Total Content\"},\"y2\":{\"type\":\"value\",\"value\":0},\"fill_color\":\"#758ea5\",\"fill_alpha\":0.2,\"hatch_alpha\":{\"type\":\"value\",\"value\":0.2}}}}}],\"toolbar\":{\"type\":\"object\",\"name\":\"Toolbar\",\"id\":\"p1117\",\"attributes\":{\"tools\":[{\"type\":\"object\",\"name\":\"PanTool\",\"id\":\"p1130\"},{\"type\":\"object\",\"name\":\"WheelZoomTool\",\"id\":\"p1131\",\"attributes\":{\"renderers\":\"auto\"}},{\"type\":\"object\",\"name\":\"BoxZoomTool\",\"id\":\"p1132\",\"attributes\":{\"overlay\":{\"type\":\"object\",\"name\":\"BoxAnnotation\",\"id\":\"p1133\",\"attributes\":{\"syncable\":false,\"level\":\"overlay\",\"visible\":false,\"left\":{\"type\":\"number\",\"value\":\"nan\"},\"right\":{\"type\":\"number\",\"value\":\"nan\"},\"top\":{\"type\":\"number\",\"value\":\"nan\"},\"bottom\":{\"type\":\"number\",\"value\":\"nan\"},\"left_units\":\"canvas\",\"right_units\":\"canvas\",\"top_units\":\"canvas\",\"bottom_units\":\"canvas\",\"line_color\":\"black\",\"line_alpha\":1.0,\"line_width\":2,\"line_dash\":[4,4],\"fill_color\":\"lightgrey\",\"fill_alpha\":0.5}}}},{\"type\":\"object\",\"name\":\"SaveTool\",\"id\":\"p1138\"},{\"type\":\"object\",\"name\":\"ResetTool\",\"id\":\"p1139\"},{\"type\":\"object\",\"name\":\"HelpTool\",\"id\":\"p1140\"}]}},\"left\":[{\"type\":\"object\",\"name\":\"LinearAxis\",\"id\":\"p1125\",\"attributes\":{\"ticker\":{\"type\":\"object\",\"name\":\"BasicTicker\",\"id\":\"p1126\",\"attributes\":{\"mantissas\":[1,2,5]}},\"formatter\":{\"type\":\"object\",\"name\":\"BasicTickFormatter\",\"id\":\"p1127\"},\"axis_label\":\"Total Content Added\",\"major_label_policy\":{\"type\":\"object\",\"name\":\"AllLabels\",\"id\":\"p1128\"}}}],\"below\":[{\"type\":\"object\",\"name\":\"LinearAxis\",\"id\":\"p1120\",\"attributes\":{\"ticker\":{\"type\":\"object\",\"name\":\"BasicTicker\",\"id\":\"p1121\",\"attributes\":{\"mantissas\":[1,2,5]}},\"formatter\":{\"type\":\"object\",\"name\":\"BasicTickFormatter\",\"id\":\"p1122\"},\"axis_label\":\"Month\",\"major_label_policy\":{\"type\":\"object\",\"name\":\"AllLabels\",\"id\":\"p1123\"}}}],\"center\":[{\"type\":\"object\",\"name\":\"Grid\",\"id\":\"p1124\",\"attributes\":{\"axis\":{\"id\":\"p1120\"},\"grid_line_alpha\":0.7}},{\"type\":\"object\",\"name\":\"Grid\",\"id\":\"p1129\",\"attributes\":{\"dimension\":1,\"axis\":{\"id\":\"p1125\"},\"grid_line_alpha\":0.7}},{\"type\":\"object\",\"name\":\"Legend\",\"id\":\"p1153\",\"attributes\":{\"location\":\"bottom_left\",\"title\":\"Type\",\"label_text_font_size\":\"12px\",\"items\":[{\"type\":\"object\",\"name\":\"LegendItem\",\"id\":\"p1154\",\"attributes\":{\"label\":{\"type\":\"value\",\"value\":\"Movie\"},\"renderers\":[{\"id\":\"p1150\"},{\"id\":\"p1177\"}]}},{\"type\":\"object\",\"name\":\"LegendItem\",\"id\":\"p1167\",\"attributes\":{\"label\":{\"type\":\"value\",\"value\":\"TV Show\"},\"renderers\":[{\"id\":\"p1164\"},{\"id\":\"p1189\"}]}}]}}],\"background_fill_color\":\"#2d2e2e\"}}]}};\n",
       "  const render_items = [{\"docid\":\"233e8572-4f7d-49ce-ae70-5d011c838e21\",\"roots\":{\"p1108\":\"d9bc710d-22a7-40eb-a0cf-d261f8478e38\"},\"root_ids\":[\"p1108\"]}];\n",
       "  root.Bokeh.embed.embed_items_notebook(docs_json, render_items);\n",
       "  }\n",
       "  if (root.Bokeh !== undefined) {\n",
       "    embed_document(root);\n",
       "  } else {\n",
       "    let attempts = 0;\n",
       "    const timer = setInterval(function(root) {\n",
       "      if (root.Bokeh !== undefined) {\n",
       "        clearInterval(timer);\n",
       "        embed_document(root);\n",
       "      } else {\n",
       "        attempts++;\n",
       "        if (attempts > 100) {\n",
       "          clearInterval(timer);\n",
       "          console.log(\"Bokeh: ERROR: Unable to run BokehJS code because BokehJS library is missing\");\n",
       "        }\n",
       "      }\n",
       "    }, 10, root)\n",
       "  }\n",
       "})(window);"
      ],
      "application/vnd.bokehjs_exec.v0+json": ""
     },
     "metadata": {
      "application/vnd.bokehjs_exec.v0+json": {
       "id": "p1108"
      }
     },
     "output_type": "display_data"
    }
   ],
   "source": [
    "# Create a Bokeh figure\n",
    "p = figure(width=900, height=600, x_axis_label='Month', y_axis_label='Total Content Added',\n",
    "           title='Monthly trend of TV show & Movie content added to Netflix',\n",
    "           title_location='above',\n",
    "           background_fill_color=\"#2d2e2e\")\n",
    "\n",
    "p.title.text_color = \"black\"\n",
    "p.title.text_font_size = '13pt'\n",
    "\n",
    "p.grid.grid_line_alpha = 0.7\n",
    "\n",
    "# Plot lines\n",
    "movie_source = df4[df4['type'] == 'Movie']\n",
    "tv_show_source = df4[df4['type'] == 'TV Show']\n",
    "\n",
    "movie_line = p.line(x='Month', y='Total Content', source=movie_source, line_color='#c35c55', line_width=2, legend_label='Movie')\n",
    "tv_show_line = p.line(x='Month', y='Total Content', source=tv_show_source, line_color='#758ea5', line_width=2, legend_label='TV Show')\n",
    "\n",
    "# Fill between lines\n",
    "p.varea(x='Month', y1='Total Content', y2=0, source=movie_source, fill_color=\"#c35c55\", alpha=0.9, legend_label='Movie')\n",
    "p.varea(x='Month', y1='Total Content', y2=0, source=tv_show_source, fill_color=\"#758ea5\", alpha=0.9, legend_label='TV Show')\n",
    "\n",
    "# Customize the legend\n",
    "legend = Legend(items=[(\"Movie\", [movie_line]),(\"TV Show\", [tv_show_line])])\n",
    "p.legend.title = 'Type'\n",
    "p.legend.label_text_font_size = '12px'\n",
    "p.legend.location = 'bottom_left'\n",
    "\n",
    "\n",
    "# Show the plot\n",
    "show(p)"
   ]
  }
 ],
 "metadata": {
  "kaggle": {
   "accelerator": "none",
   "dataSources": [
    {
     "datasetId": 434238,
     "sourceId": 2654038,
     "sourceType": "datasetVersion"
    }
   ],
   "dockerImageVersionId": 30646,
   "isGpuEnabled": false,
   "isInternetEnabled": true,
   "language": "python",
   "sourceType": "notebook"
  },
  "kernelspec": {
   "display_name": "Python 3",
   "language": "python",
   "name": "python3"
  },
  "language_info": {
   "codemirror_mode": {
    "name": "ipython",
    "version": 3
   },
   "file_extension": ".py",
   "mimetype": "text/x-python",
   "name": "python",
   "nbconvert_exporter": "python",
   "pygments_lexer": "ipython3",
   "version": "3.10.13"
  },
  "papermill": {
   "default_parameters": {},
   "duration": 8.787202,
   "end_time": "2024-01-30T13:10:55.545536",
   "environment_variables": {},
   "exception": null,
   "input_path": "__notebook__.ipynb",
   "output_path": "__notebook__.ipynb",
   "parameters": {},
   "start_time": "2024-01-30T13:10:46.758334",
   "version": "2.5.0"
  }
 },
 "nbformat": 4,
 "nbformat_minor": 5
}
